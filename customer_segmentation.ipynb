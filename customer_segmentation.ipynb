{
 "cells": [
  {
   "cell_type": "markdown",
   "id": "29ebdd40-8dd5-4b31-ba2c-fc76c6630694",
   "metadata": {},
   "source": [
    "# <span style=\"font-size:40px;\">Customer segmentation</span>\n",
    "\n",
    "---\n",
    "\n",
    "This notebook demonstrates the process of solving problems related to customer segmentation.\n",
    "It includes \n",
    "- [Exploratory Data Analysis (EDA)](#EDA)\n",
    "- [Modeling](#Modeling)\n",
    "- [Prediction](#Prediction)\n",
    "\n",
    "---\n"
   ]
  },
  {
   "cell_type": "markdown",
   "id": "2e9d3923-d8a9-4616-a175-22796a8e799e",
   "metadata": {},
   "source": [
    "<span style=\"font-size:25px;\">[Exploratory Data Analysis (EDA)](#EDA)</span>\n",
    "\n",
    "The information obtained from Exploratory Data Analysis (EDA) is as follows: <br>\n",
    "\n",
    "[Basic information](#Basic-information)\n",
    "- The data consists of 11 columns. 1 key column, 1 target column, 10 features\n",
    "- The training set contains 8068 rows. The testing set contains 2627 rows. There are no duplicate data entries, and each ID corresponds to one row.\n",
    "- There are null value in some column. work_experience have null 10% , family_size have null 4% <br> These two columns might impact the accuracy of the model. During the model training process, it might be necessary to experiment with different approaches.\n",
    "\n",
    "[Label](#Label)\n",
    "- Each label has a similar proportion of data. so there's no need to worry about imbalance data problem.\n",
    "\n",
    "[Feature](#Feature)\n",
    "- [Gender](#Gender) : Every group has an equal gender proportion.\n",
    "- [Ever married](#Ever-married) : Group D has a higher proportion of individuals who have never been married compared to other groups.\n",
    "- [Age](#Age) :  While other groups have an average age of 40+, Group D has an average age of 29.\n",
    "- [Graduated](#Graduated) : \n",
    "    - Group C has the highest graduation rate at 82%\n",
    "    - Group B has the lowest graduation rate at 36%\n",
    "- [Profession](#Profession) : In Group D, the proportions of customer in healthcare and marketing are noticeably higher than in other groups.\n",
    "- [Work experience](#Work-experience)  : There is no difference between the groups.\n",
    "- [Spending score](#Spending-score) : \n",
    "  - Group C has a relatively higher average proportion, \n",
    "  - Group D has a significantly higher proportion of \"low\" compared to the other groups.\n",
    "- [Family size](#Family-size) :\n",
    "  - Group C has a smaller proportion of size 1 compared to other groups. \n",
    "  - Group D has a higher proportion of size 2 compared to the other groups.\n",
    "- [var_1](#var_1) : I still don't see a clear difference. \n",
    "\n",
    "<span style=\"font-size:15px;\"><b>From the data we have, we can guess that the model might predict Group D quite well,<br> \n",
    "    but Group C might be predicted with slightly lower accuracy.<br> \n",
    "    However, predicting Groups A and B accurately could be a bit challenging.</b></span>\n",
    "\n",
    "---"
   ]
  },
  {
   "cell_type": "markdown",
   "id": "503c243e-6d48-4d14-8bf4-4e2495a2be2e",
   "metadata": {},
   "source": [
    "<span style=\"font-size:25px;\">[Modeling](#Modeling)</span>\n",
    "\n",
    "[LightGBM](#LightGBM)\n",
    "\n",
    "I'm starting with the LightGBM model because of its strong track record in handling tabular data.<br>\n",
    "From my experience and the feedback within the community, LightGBM tends to outperform other models for this type of data.\n",
    "\n",
    "Version 1 <br>\n",
    "The results are as showed, with an accuracy of 0.52. However, as anticipated, Group D has a relatively high accuracy, around 0.72.\n",
    "\n",
    "Version 2 <br>\n",
    "Since I wasn't satisfied with the results from version 1, I decided to try removing features that could potentially lead to overfitting. \n",
    "<br>I attempted to eliminate features with high importance in version 1, which coincidentally aligns with the issue of null values.\n",
    "\n",
    "Version 3 <br>\n",
    "The results from version 2 were still not good enough.<br> \n",
    "So, I tried to make changes to the features to help the model better understand the differences between each group, from a clearer perspective.\n",
    "\n",
    "[Decision Tree](#Decision-Tree)<br>\n",
    "\n",
    "Since I thought that LightGBM, being an ensemble model, might be over engineer for this problem, I decided to try using a single decision tree. However, the results were slightly worse than LightGBM.\n",
    "\n",
    "[SVM](#SVM)<br>\n",
    "\n",
    "Since the previous two models didn't meet expectations, I decided to give Support Vector Machines (SVM) a try, hoping it might be more suitable for this particular problem.<br>\n",
    "The results were slightly worse than previous versions.\n",
    "\n",
    "[AutoML](#AutoML)<br>\n",
    "Since trying the previous models didn't lead to improved accuracy, I decided to experiment with AutoML to see if there's any model that AutoML can suggest to increase accuracy.\n",
    "\n",
    "<span style=\"font-size:20px;\">How I choose final model</span><br>\n",
    "As seen on the AutoGluon leaderboard, the top 3 performing models are WeightedEnsemble_L2, CatBoost, and XGBoost.<br>\n",
    "Each model performs well in different classes.<br>\n",
    "Since the task didn't specify whether we should focus on precision or recall for any particular class, and accuracy is also balanced, \n",
    "<br>I decided to base my decision on the training and prediction times. \n",
    "<br>It turns out that XGBoost has the shortest runtime, so I chose XGBoost.\n",
    "\n",
    "[Diagnostic](#Diagnostic)<br>\n",
    "Because the model isn't good at predicting Groups A and B, I tried to find what makes them different from the other groups.<br>\n",
    "I noticed that some rows in the data have the same features but belong to different groups.<br>\n",
    "This could mean there's a mistake or issue with the data.<br>\n",
    "Or the data andfeatures might not be sufficient to distinguish them.<br>\n",
    "\n",
    "---"
   ]
  },
  {
   "cell_type": "markdown",
   "id": "1cda469b-2677-40b6-89fd-f879f12987ed",
   "metadata": {},
   "source": [
    "<span style=\"font-size:25px;\">[Prediction](#Prediction)</span>\n",
    "\n",
    "[Cross Validation](#CrossValidation)<br>\n",
    "Before I make predictions, I want to be sure the model can work well with new data.<br> \n",
    "So, that's why I performed cross-validation.<br> \n",
    "The results showed that the model provided similar accuracy across all folds.<br> \n",
    "This gives me some confidence that if the model encounters new data, it's likely to perform consistently well."
   ]
  },
  {
   "cell_type": "markdown",
   "id": "cc23ed5f-9efd-4e94-a5ac-e61a47aedf90",
   "metadata": {},
   "source": [
    "# Import lib"
   ]
  },
  {
   "cell_type": "code",
   "execution_count": 1,
   "id": "667c35bf-2b32-4b5b-8cc4-223d1f5bcd18",
   "metadata": {},
   "outputs": [],
   "source": [
    "import pandas as pd\n",
    "import matplotlib.pyplot as plt\n",
    "import seaborn as sns\n",
    "import lightgbm\n",
    "from sklearn.model_selection import train_test_split\n",
    "\n",
    "from IPython.core.interactiveshell import InteractiveShell\n",
    "InteractiveShell.ast_node_interactivity = 'all'"
   ]
  },
  {
   "cell_type": "code",
   "execution_count": 2,
   "id": "2d86346d-fb3f-40b7-87ed-43f21fa445cd",
   "metadata": {
    "tags": []
   },
   "outputs": [],
   "source": [
    "from sklearn.metrics import accuracy_score\n",
    "from sklearn.metrics import classification_report\n",
    "from sklearn.metrics import ConfusionMatrixDisplay, confusion_matrix\n",
    "import category_encoders as ce\n",
    "from sklearn.tree import DecisionTreeClassifier\n",
    "from sklearn.svm import SVC"
   ]
  },
  {
   "cell_type": "code",
   "execution_count": 3,
   "id": "94083fff-542c-4562-8851-b46259af64b5",
   "metadata": {},
   "outputs": [],
   "source": [
    "df_train = pd.read_csv('customer_segmentation_train.csv')\n",
    "df_test = pd.read_csv('customer_segmentation_test.csv')"
   ]
  },
  {
   "cell_type": "markdown",
   "id": "c5a0f18a-4834-43dd-863d-2318fe2b3411",
   "metadata": {},
   "source": [
    "# EDA"
   ]
  },
  {
   "cell_type": "code",
   "execution_count": 8,
   "id": "7fcc949e-e26e-4d01-9c7b-85754f33b468",
   "metadata": {},
   "outputs": [],
   "source": [
    "df_train = pd.read_csv('customer_segmentation_train.csv')\n",
    "df_test = pd.read_csv('customer_segmentation_test.csv')"
   ]
  },
  {
   "cell_type": "markdown",
   "id": "c58e5175-79a9-430e-b554-cd9ef83756a8",
   "metadata": {},
   "source": [
    "## Basic information"
   ]
  },
  {
   "cell_type": "code",
   "execution_count": 9,
   "id": "8aafde52-c81c-4fd7-a407-7cd3b7e9d3b4",
   "metadata": {},
   "outputs": [
    {
     "data": {
      "text/plain": [
       "(8068, 11)"
      ]
     },
     "execution_count": 9,
     "metadata": {},
     "output_type": "execute_result"
    },
    {
     "data": {
      "text/html": [
       "<div>\n",
       "<style scoped>\n",
       "    .dataframe tbody tr th:only-of-type {\n",
       "        vertical-align: middle;\n",
       "    }\n",
       "\n",
       "    .dataframe tbody tr th {\n",
       "        vertical-align: top;\n",
       "    }\n",
       "\n",
       "    .dataframe thead th {\n",
       "        text-align: right;\n",
       "    }\n",
       "</style>\n",
       "<table border=\"1\" class=\"dataframe\">\n",
       "  <thead>\n",
       "    <tr style=\"text-align: right;\">\n",
       "      <th></th>\n",
       "      <th>id</th>\n",
       "      <th>gender</th>\n",
       "      <th>ever_married</th>\n",
       "      <th>age</th>\n",
       "      <th>graduated</th>\n",
       "      <th>profession</th>\n",
       "      <th>work_experience</th>\n",
       "      <th>spending_score</th>\n",
       "      <th>family_size</th>\n",
       "      <th>var_1</th>\n",
       "      <th>segmentation</th>\n",
       "    </tr>\n",
       "  </thead>\n",
       "  <tbody>\n",
       "    <tr>\n",
       "      <th>0</th>\n",
       "      <td>462809</td>\n",
       "      <td>Male</td>\n",
       "      <td>No</td>\n",
       "      <td>22</td>\n",
       "      <td>No</td>\n",
       "      <td>Healthcare</td>\n",
       "      <td>1.0</td>\n",
       "      <td>Low</td>\n",
       "      <td>4.0</td>\n",
       "      <td>Cat_4</td>\n",
       "      <td>D</td>\n",
       "    </tr>\n",
       "    <tr>\n",
       "      <th>1</th>\n",
       "      <td>462643</td>\n",
       "      <td>Female</td>\n",
       "      <td>Yes</td>\n",
       "      <td>38</td>\n",
       "      <td>Yes</td>\n",
       "      <td>Engineer</td>\n",
       "      <td>NaN</td>\n",
       "      <td>Average</td>\n",
       "      <td>3.0</td>\n",
       "      <td>Cat_4</td>\n",
       "      <td>A</td>\n",
       "    </tr>\n",
       "    <tr>\n",
       "      <th>2</th>\n",
       "      <td>466315</td>\n",
       "      <td>Female</td>\n",
       "      <td>Yes</td>\n",
       "      <td>67</td>\n",
       "      <td>Yes</td>\n",
       "      <td>Engineer</td>\n",
       "      <td>1.0</td>\n",
       "      <td>Low</td>\n",
       "      <td>1.0</td>\n",
       "      <td>Cat_6</td>\n",
       "      <td>B</td>\n",
       "    </tr>\n",
       "    <tr>\n",
       "      <th>3</th>\n",
       "      <td>461735</td>\n",
       "      <td>Male</td>\n",
       "      <td>Yes</td>\n",
       "      <td>67</td>\n",
       "      <td>Yes</td>\n",
       "      <td>Lawyer</td>\n",
       "      <td>0.0</td>\n",
       "      <td>High</td>\n",
       "      <td>2.0</td>\n",
       "      <td>Cat_6</td>\n",
       "      <td>B</td>\n",
       "    </tr>\n",
       "    <tr>\n",
       "      <th>4</th>\n",
       "      <td>462669</td>\n",
       "      <td>Female</td>\n",
       "      <td>Yes</td>\n",
       "      <td>40</td>\n",
       "      <td>Yes</td>\n",
       "      <td>Entertainment</td>\n",
       "      <td>NaN</td>\n",
       "      <td>High</td>\n",
       "      <td>6.0</td>\n",
       "      <td>Cat_6</td>\n",
       "      <td>A</td>\n",
       "    </tr>\n",
       "  </tbody>\n",
       "</table>\n",
       "</div>"
      ],
      "text/plain": [
       "       id  gender ever_married  age graduated     profession  work_experience  \\\n",
       "0  462809    Male           No   22        No     Healthcare              1.0   \n",
       "1  462643  Female          Yes   38       Yes       Engineer              NaN   \n",
       "2  466315  Female          Yes   67       Yes       Engineer              1.0   \n",
       "3  461735    Male          Yes   67       Yes         Lawyer              0.0   \n",
       "4  462669  Female          Yes   40       Yes  Entertainment              NaN   \n",
       "\n",
       "  spending_score  family_size  var_1 segmentation  \n",
       "0            Low          4.0  Cat_4            D  \n",
       "1        Average          3.0  Cat_4            A  \n",
       "2            Low          1.0  Cat_6            B  \n",
       "3           High          2.0  Cat_6            B  \n",
       "4           High          6.0  Cat_6            A  "
      ]
     },
     "execution_count": 9,
     "metadata": {},
     "output_type": "execute_result"
    }
   ],
   "source": [
    "df_train.shape\n",
    "df_train.head()"
   ]
  },
  {
   "cell_type": "code",
   "execution_count": 10,
   "id": "b28adb23-716f-433e-bc9b-d773d1343f7a",
   "metadata": {},
   "outputs": [
    {
     "data": {
      "text/plain": [
       "id                   int64\n",
       "gender              object\n",
       "ever_married        object\n",
       "age                  int64\n",
       "graduated           object\n",
       "profession          object\n",
       "work_experience    float64\n",
       "spending_score      object\n",
       "family_size        float64\n",
       "var_1               object\n",
       "segmentation        object\n",
       "dtype: object"
      ]
     },
     "execution_count": 10,
     "metadata": {},
     "output_type": "execute_result"
    }
   ],
   "source": [
    "df_train.dtypes"
   ]
  },
  {
   "cell_type": "code",
   "execution_count": 11,
   "id": "4e3b491f-beaa-418d-8b8d-4bf0e6871395",
   "metadata": {},
   "outputs": [
    {
     "data": {
      "text/plain": [
       "(8068, 11)"
      ]
     },
     "execution_count": 11,
     "metadata": {},
     "output_type": "execute_result"
    },
    {
     "data": {
      "text/plain": [
       "8068"
      ]
     },
     "execution_count": 11,
     "metadata": {},
     "output_type": "execute_result"
    }
   ],
   "source": [
    "# See that data is one rows for one customer\n",
    "df_train.shape\n",
    "df_train['id'].nunique()"
   ]
  },
  {
   "cell_type": "code",
   "execution_count": 12,
   "id": "e0f96c86-5944-41ae-b9a6-8e58f8e4f12b",
   "metadata": {},
   "outputs": [
    {
     "data": {
      "text/plain": [
       "(2627, 10)"
      ]
     },
     "execution_count": 12,
     "metadata": {},
     "output_type": "execute_result"
    },
    {
     "data": {
      "text/plain": [
       "2627"
      ]
     },
     "execution_count": 12,
     "metadata": {},
     "output_type": "execute_result"
    }
   ],
   "source": [
    "# See that data is one rows for one customer\n",
    "df_test.shape\n",
    "df_test['id'].nunique()"
   ]
  },
  {
   "cell_type": "markdown",
   "id": "78b0807b-dc5b-4ed5-a060-28869dba5d26",
   "metadata": {},
   "source": [
    "### Check duplicate rows\n",
    "* There is no duplicate rows"
   ]
  },
  {
   "cell_type": "code",
   "execution_count": 13,
   "id": "6250cb07-f11c-41f5-8191-8805d8d85ee7",
   "metadata": {},
   "outputs": [
    {
     "name": "stdout",
     "output_type": "stream",
     "text": [
      "Number of duplicate rows: 0\n"
     ]
    }
   ],
   "source": [
    "df_train_dup_row = df_train[df_train.duplicated()]\n",
    "print(f\"Number of duplicate rows: {df_train_dup_row.shape[0]}\")"
   ]
  },
  {
   "cell_type": "markdown",
   "id": "2a2201ed-a30c-4138-adf3-f635fa987061",
   "metadata": {},
   "source": [
    "### Check null value\n",
    "* work_experience have null 10%\n",
    "* family_size have null 4%"
   ]
  },
  {
   "cell_type": "code",
   "execution_count": 14,
   "id": "a68ce5b9-4c6a-48ab-9088-fd4abcbee23c",
   "metadata": {},
   "outputs": [
    {
     "data": {
      "text/html": [
       "<div>\n",
       "<style scoped>\n",
       "    .dataframe tbody tr th:only-of-type {\n",
       "        vertical-align: middle;\n",
       "    }\n",
       "\n",
       "    .dataframe tbody tr th {\n",
       "        vertical-align: top;\n",
       "    }\n",
       "\n",
       "    .dataframe thead th {\n",
       "        text-align: right;\n",
       "    }\n",
       "</style>\n",
       "<table border=\"1\" class=\"dataframe\">\n",
       "  <thead>\n",
       "    <tr style=\"text-align: right;\">\n",
       "      <th></th>\n",
       "      <th>feature</th>\n",
       "      <th>count_null</th>\n",
       "      <th>percentage_null</th>\n",
       "    </tr>\n",
       "  </thead>\n",
       "  <tbody>\n",
       "    <tr>\n",
       "      <th>0</th>\n",
       "      <td>id</td>\n",
       "      <td>0</td>\n",
       "      <td>0.000000</td>\n",
       "    </tr>\n",
       "    <tr>\n",
       "      <th>1</th>\n",
       "      <td>gender</td>\n",
       "      <td>0</td>\n",
       "      <td>0.000000</td>\n",
       "    </tr>\n",
       "    <tr>\n",
       "      <th>2</th>\n",
       "      <td>ever_married</td>\n",
       "      <td>140</td>\n",
       "      <td>1.735250</td>\n",
       "    </tr>\n",
       "    <tr>\n",
       "      <th>3</th>\n",
       "      <td>age</td>\n",
       "      <td>0</td>\n",
       "      <td>0.000000</td>\n",
       "    </tr>\n",
       "    <tr>\n",
       "      <th>4</th>\n",
       "      <td>graduated</td>\n",
       "      <td>78</td>\n",
       "      <td>0.966782</td>\n",
       "    </tr>\n",
       "    <tr>\n",
       "      <th>5</th>\n",
       "      <td>profession</td>\n",
       "      <td>124</td>\n",
       "      <td>1.536936</td>\n",
       "    </tr>\n",
       "    <tr>\n",
       "      <th>6</th>\n",
       "      <td>work_experience</td>\n",
       "      <td>829</td>\n",
       "      <td>10.275161</td>\n",
       "    </tr>\n",
       "    <tr>\n",
       "      <th>7</th>\n",
       "      <td>spending_score</td>\n",
       "      <td>0</td>\n",
       "      <td>0.000000</td>\n",
       "    </tr>\n",
       "    <tr>\n",
       "      <th>8</th>\n",
       "      <td>family_size</td>\n",
       "      <td>335</td>\n",
       "      <td>4.152206</td>\n",
       "    </tr>\n",
       "    <tr>\n",
       "      <th>9</th>\n",
       "      <td>var_1</td>\n",
       "      <td>76</td>\n",
       "      <td>0.941993</td>\n",
       "    </tr>\n",
       "    <tr>\n",
       "      <th>10</th>\n",
       "      <td>segmentation</td>\n",
       "      <td>0</td>\n",
       "      <td>0.000000</td>\n",
       "    </tr>\n",
       "  </tbody>\n",
       "</table>\n",
       "</div>"
      ],
      "text/plain": [
       "            feature  count_null  percentage_null\n",
       "0                id           0         0.000000\n",
       "1            gender           0         0.000000\n",
       "2      ever_married         140         1.735250\n",
       "3               age           0         0.000000\n",
       "4         graduated          78         0.966782\n",
       "5        profession         124         1.536936\n",
       "6   work_experience         829        10.275161\n",
       "7    spending_score           0         0.000000\n",
       "8       family_size         335         4.152206\n",
       "9             var_1          76         0.941993\n",
       "10     segmentation           0         0.000000"
      ]
     },
     "execution_count": 14,
     "metadata": {},
     "output_type": "execute_result"
    }
   ],
   "source": [
    "df_null_val = df_train.isnull().sum().reset_index()\n",
    "df_null_val.columns = ['feature', 'count_null']\n",
    "\n",
    "df_null_val['percentage_null'] = 100 * df_null_val['count_null'] / df_train.shape[0]\n",
    "df_null_val"
   ]
  },
  {
   "cell_type": "code",
   "execution_count": 15,
   "id": "775547d3-d841-476d-9b40-7c7bb90c2ef6",
   "metadata": {},
   "outputs": [
    {
     "data": {
      "text/html": [
       "<div>\n",
       "<style scoped>\n",
       "    .dataframe tbody tr th:only-of-type {\n",
       "        vertical-align: middle;\n",
       "    }\n",
       "\n",
       "    .dataframe tbody tr th {\n",
       "        vertical-align: top;\n",
       "    }\n",
       "\n",
       "    .dataframe thead th {\n",
       "        text-align: right;\n",
       "    }\n",
       "</style>\n",
       "<table border=\"1\" class=\"dataframe\">\n",
       "  <thead>\n",
       "    <tr style=\"text-align: right;\">\n",
       "      <th></th>\n",
       "      <th>feature</th>\n",
       "      <th>count_null</th>\n",
       "      <th>percentage_null</th>\n",
       "    </tr>\n",
       "  </thead>\n",
       "  <tbody>\n",
       "    <tr>\n",
       "      <th>0</th>\n",
       "      <td>id</td>\n",
       "      <td>0</td>\n",
       "      <td>0.000000</td>\n",
       "    </tr>\n",
       "    <tr>\n",
       "      <th>1</th>\n",
       "      <td>gender</td>\n",
       "      <td>0</td>\n",
       "      <td>0.000000</td>\n",
       "    </tr>\n",
       "    <tr>\n",
       "      <th>2</th>\n",
       "      <td>ever_married</td>\n",
       "      <td>50</td>\n",
       "      <td>0.619732</td>\n",
       "    </tr>\n",
       "    <tr>\n",
       "      <th>3</th>\n",
       "      <td>age</td>\n",
       "      <td>0</td>\n",
       "      <td>0.000000</td>\n",
       "    </tr>\n",
       "    <tr>\n",
       "      <th>4</th>\n",
       "      <td>graduated</td>\n",
       "      <td>24</td>\n",
       "      <td>0.297471</td>\n",
       "    </tr>\n",
       "    <tr>\n",
       "      <th>5</th>\n",
       "      <td>profession</td>\n",
       "      <td>38</td>\n",
       "      <td>0.470997</td>\n",
       "    </tr>\n",
       "    <tr>\n",
       "      <th>6</th>\n",
       "      <td>work_experience</td>\n",
       "      <td>269</td>\n",
       "      <td>3.334160</td>\n",
       "    </tr>\n",
       "    <tr>\n",
       "      <th>7</th>\n",
       "      <td>spending_score</td>\n",
       "      <td>0</td>\n",
       "      <td>0.000000</td>\n",
       "    </tr>\n",
       "    <tr>\n",
       "      <th>8</th>\n",
       "      <td>family_size</td>\n",
       "      <td>113</td>\n",
       "      <td>1.400595</td>\n",
       "    </tr>\n",
       "    <tr>\n",
       "      <th>9</th>\n",
       "      <td>var_1</td>\n",
       "      <td>32</td>\n",
       "      <td>0.396629</td>\n",
       "    </tr>\n",
       "  </tbody>\n",
       "</table>\n",
       "</div>"
      ],
      "text/plain": [
       "           feature  count_null  percentage_null\n",
       "0               id           0         0.000000\n",
       "1           gender           0         0.000000\n",
       "2     ever_married          50         0.619732\n",
       "3              age           0         0.000000\n",
       "4        graduated          24         0.297471\n",
       "5       profession          38         0.470997\n",
       "6  work_experience         269         3.334160\n",
       "7   spending_score           0         0.000000\n",
       "8      family_size         113         1.400595\n",
       "9            var_1          32         0.396629"
      ]
     },
     "execution_count": 15,
     "metadata": {},
     "output_type": "execute_result"
    }
   ],
   "source": [
    "df_null_val = df_test.isnull().sum().reset_index()\n",
    "df_null_val.columns = ['feature', 'count_null']\n",
    "\n",
    "df_null_val['percentage_null'] = 100 * df_null_val['count_null'] / df_train.shape[0]\n",
    "df_null_val"
   ]
  },
  {
   "cell_type": "markdown",
   "id": "e1a4622c-63b7-41bf-a0d0-dce946d33fe1",
   "metadata": {},
   "source": [
    "## Label\n",
    "* Each label has a similar proportion of data."
   ]
  },
  {
   "cell_type": "code",
   "execution_count": 16,
   "id": "9e5acd54-9ef6-435a-be87-e6d501ef351a",
   "metadata": {},
   "outputs": [
    {
     "data": {
      "text/plain": [
       "segmentation\n",
       "A    1972\n",
       "B    1858\n",
       "C    1970\n",
       "D    2268\n",
       "Name: count, dtype: int64"
      ]
     },
     "execution_count": 16,
     "metadata": {},
     "output_type": "execute_result"
    }
   ],
   "source": [
    "df_train['segmentation'].value_counts().sort_index()"
   ]
  },
  {
   "cell_type": "code",
   "execution_count": 17,
   "id": "ae5cb5c6-4858-4257-9cb7-dd5565178d6e",
   "metadata": {},
   "outputs": [
    {
     "data": {
      "text/plain": [
       "segmentation\n",
       "A    24.442241\n",
       "B    23.029251\n",
       "C    24.417452\n",
       "D    28.111056\n",
       "Name: proportion, dtype: float64"
      ]
     },
     "execution_count": 17,
     "metadata": {},
     "output_type": "execute_result"
    }
   ],
   "source": [
    "df_train['segmentation'].value_counts(normalize=True).sort_index()*100"
   ]
  },
  {
   "cell_type": "markdown",
   "id": "1aa76210-bb6e-4f7c-899b-1b1d4f6c226b",
   "metadata": {},
   "source": [
    "## Feature"
   ]
  },
  {
   "cell_type": "markdown",
   "id": "946ed647-09a5-4eba-afbe-4f09fcd447ab",
   "metadata": {},
   "source": [
    "### Gender\n",
    "* Every group has an equal gender proportion."
   ]
  },
  {
   "cell_type": "code",
   "execution_count": 18,
   "id": "6eff77b1-3e44-489d-a2d0-ee0f309ba605",
   "metadata": {},
   "outputs": [],
   "source": [
    "df_gender = df_train.groupby(['segmentation'])['gender'].value_counts().reset_index()\n",
    "df_count_segmentation = df_train.groupby(['segmentation']).agg(count_seg=('segmentation', 'count')).reset_index()\n",
    "df_gender = df_gender.merge(df_count_segmentation, on=['segmentation'], how='left')\n",
    "df_gender['gender_percentage'] = 100 * df_gender['count'] / df_gender['count_seg']"
   ]
  },
  {
   "cell_type": "code",
   "execution_count": 19,
   "id": "c7275b90-1363-4298-82f0-8b6342fe2c6f",
   "metadata": {},
   "outputs": [
    {
     "data": {
      "text/html": [
       "<div>\n",
       "<style scoped>\n",
       "    .dataframe tbody tr th:only-of-type {\n",
       "        vertical-align: middle;\n",
       "    }\n",
       "\n",
       "    .dataframe tbody tr th {\n",
       "        vertical-align: top;\n",
       "    }\n",
       "\n",
       "    .dataframe thead th {\n",
       "        text-align: right;\n",
       "    }\n",
       "</style>\n",
       "<table border=\"1\" class=\"dataframe\">\n",
       "  <thead>\n",
       "    <tr style=\"text-align: right;\">\n",
       "      <th></th>\n",
       "      <th>segmentation</th>\n",
       "      <th>gender</th>\n",
       "      <th>count</th>\n",
       "      <th>count_seg</th>\n",
       "      <th>gender_percentage</th>\n",
       "    </tr>\n",
       "  </thead>\n",
       "  <tbody>\n",
       "    <tr>\n",
       "      <th>0</th>\n",
       "      <td>A</td>\n",
       "      <td>Male</td>\n",
       "      <td>1063</td>\n",
       "      <td>1972</td>\n",
       "      <td>53.904665</td>\n",
       "    </tr>\n",
       "    <tr>\n",
       "      <th>1</th>\n",
       "      <td>A</td>\n",
       "      <td>Female</td>\n",
       "      <td>909</td>\n",
       "      <td>1972</td>\n",
       "      <td>46.095335</td>\n",
       "    </tr>\n",
       "    <tr>\n",
       "      <th>2</th>\n",
       "      <td>B</td>\n",
       "      <td>Male</td>\n",
       "      <td>997</td>\n",
       "      <td>1858</td>\n",
       "      <td>53.659849</td>\n",
       "    </tr>\n",
       "    <tr>\n",
       "      <th>3</th>\n",
       "      <td>B</td>\n",
       "      <td>Female</td>\n",
       "      <td>861</td>\n",
       "      <td>1858</td>\n",
       "      <td>46.340151</td>\n",
       "    </tr>\n",
       "    <tr>\n",
       "      <th>4</th>\n",
       "      <td>C</td>\n",
       "      <td>Male</td>\n",
       "      <td>1048</td>\n",
       "      <td>1970</td>\n",
       "      <td>53.197970</td>\n",
       "    </tr>\n",
       "    <tr>\n",
       "      <th>5</th>\n",
       "      <td>C</td>\n",
       "      <td>Female</td>\n",
       "      <td>922</td>\n",
       "      <td>1970</td>\n",
       "      <td>46.802030</td>\n",
       "    </tr>\n",
       "    <tr>\n",
       "      <th>6</th>\n",
       "      <td>D</td>\n",
       "      <td>Male</td>\n",
       "      <td>1309</td>\n",
       "      <td>2268</td>\n",
       "      <td>57.716049</td>\n",
       "    </tr>\n",
       "    <tr>\n",
       "      <th>7</th>\n",
       "      <td>D</td>\n",
       "      <td>Female</td>\n",
       "      <td>959</td>\n",
       "      <td>2268</td>\n",
       "      <td>42.283951</td>\n",
       "    </tr>\n",
       "  </tbody>\n",
       "</table>\n",
       "</div>"
      ],
      "text/plain": [
       "  segmentation  gender  count  count_seg  gender_percentage\n",
       "0            A    Male   1063       1972          53.904665\n",
       "1            A  Female    909       1972          46.095335\n",
       "2            B    Male    997       1858          53.659849\n",
       "3            B  Female    861       1858          46.340151\n",
       "4            C    Male   1048       1970          53.197970\n",
       "5            C  Female    922       1970          46.802030\n",
       "6            D    Male   1309       2268          57.716049\n",
       "7            D  Female    959       2268          42.283951"
      ]
     },
     "execution_count": 19,
     "metadata": {},
     "output_type": "execute_result"
    }
   ],
   "source": [
    "df_gender"
   ]
  },
  {
   "cell_type": "code",
   "execution_count": 20,
   "id": "0c7c7d44-b9f5-4a87-9324-c662f6bfb646",
   "metadata": {},
   "outputs": [
    {
     "data": {
      "text/plain": [
       "<Figure size 800x400 with 0 Axes>"
      ]
     },
     "execution_count": 20,
     "metadata": {},
     "output_type": "execute_result"
    },
    {
     "data": {
      "text/plain": [
       "<Axes: xlabel='segmentation', ylabel='gender_percentage'>"
      ]
     },
     "execution_count": 20,
     "metadata": {},
     "output_type": "execute_result"
    },
    {
     "data": {
      "image/png": "[encoded data removed]",
      "text/plain": [
       "<Figure size 800x400 with 1 Axes>"
      ]
     },
     "metadata": {},
     "output_type": "display_data"
    }
   ],
   "source": [
    "plt.figure(figsize=(8, 4))\n",
    "sns.barplot(x=\"segmentation\", y=\"gender_percentage\", hue=\"gender\", data=df_gender)"
   ]
  },
  {
   "cell_type": "markdown",
   "id": "8dcaf388-a21b-4d12-a346-9a9de4e2a724",
   "metadata": {},
   "source": [
    "### Ever married\n",
    "* Group D has a higher proportion of individuals who have never been married compared to other groups."
   ]
  },
  {
   "cell_type": "code",
   "execution_count": 21,
   "id": "592c9e0e-70f2-4b47-b0aa-2ace0a22c9c8",
   "metadata": {},
   "outputs": [],
   "source": [
    "df_married = df_train[df_train['ever_married'].notna()]\n",
    "df_count_segmentation = df_married.groupby(['segmentation']).agg(count_seg=('segmentation', 'count')).reset_index()\n",
    "\n",
    "df_married= df_married.groupby(['segmentation'])['ever_married'].value_counts().reset_index()\n",
    "df_married = df_married.merge(df_count_segmentation, on=['segmentation'], how='left')\n",
    "df_married['merried_percentage'] = 100 * df_married['count'] / df_married['count_seg']"
   ]
  },
  {
   "cell_type": "code",
   "execution_count": 22,
   "id": "3aab568c-1b6c-4dfc-8f90-ac8d0fcb0f21",
   "metadata": {},
   "outputs": [
    {
     "data": {
      "text/html": [
       "<div>\n",
       "<style scoped>\n",
       "    .dataframe tbody tr th:only-of-type {\n",
       "        vertical-align: middle;\n",
       "    }\n",
       "\n",
       "    .dataframe tbody tr th {\n",
       "        vertical-align: top;\n",
       "    }\n",
       "\n",
       "    .dataframe thead th {\n",
       "        text-align: right;\n",
       "    }\n",
       "</style>\n",
       "<table border=\"1\" class=\"dataframe\">\n",
       "  <thead>\n",
       "    <tr style=\"text-align: right;\">\n",
       "      <th></th>\n",
       "      <th>segmentation</th>\n",
       "      <th>ever_married</th>\n",
       "      <th>count</th>\n",
       "      <th>count_seg</th>\n",
       "      <th>merried_percentage</th>\n",
       "    </tr>\n",
       "  </thead>\n",
       "  <tbody>\n",
       "    <tr>\n",
       "      <th>0</th>\n",
       "      <td>A</td>\n",
       "      <td>Yes</td>\n",
       "      <td>1137</td>\n",
       "      <td>1938</td>\n",
       "      <td>58.668731</td>\n",
       "    </tr>\n",
       "    <tr>\n",
       "      <th>1</th>\n",
       "      <td>A</td>\n",
       "      <td>No</td>\n",
       "      <td>801</td>\n",
       "      <td>1938</td>\n",
       "      <td>41.331269</td>\n",
       "    </tr>\n",
       "    <tr>\n",
       "      <th>2</th>\n",
       "      <td>B</td>\n",
       "      <td>Yes</td>\n",
       "      <td>1348</td>\n",
       "      <td>1827</td>\n",
       "      <td>73.782157</td>\n",
       "    </tr>\n",
       "    <tr>\n",
       "      <th>3</th>\n",
       "      <td>B</td>\n",
       "      <td>No</td>\n",
       "      <td>479</td>\n",
       "      <td>1827</td>\n",
       "      <td>26.217843</td>\n",
       "    </tr>\n",
       "    <tr>\n",
       "      <th>4</th>\n",
       "      <td>C</td>\n",
       "      <td>Yes</td>\n",
       "      <td>1549</td>\n",
       "      <td>1947</td>\n",
       "      <td>79.558295</td>\n",
       "    </tr>\n",
       "    <tr>\n",
       "      <th>5</th>\n",
       "      <td>C</td>\n",
       "      <td>No</td>\n",
       "      <td>398</td>\n",
       "      <td>1947</td>\n",
       "      <td>20.441705</td>\n",
       "    </tr>\n",
       "    <tr>\n",
       "      <th>6</th>\n",
       "      <td>D</td>\n",
       "      <td>No</td>\n",
       "      <td>1607</td>\n",
       "      <td>2216</td>\n",
       "      <td>72.518051</td>\n",
       "    </tr>\n",
       "    <tr>\n",
       "      <th>7</th>\n",
       "      <td>D</td>\n",
       "      <td>Yes</td>\n",
       "      <td>609</td>\n",
       "      <td>2216</td>\n",
       "      <td>27.481949</td>\n",
       "    </tr>\n",
       "  </tbody>\n",
       "</table>\n",
       "</div>"
      ],
      "text/plain": [
       "  segmentation ever_married  count  count_seg  merried_percentage\n",
       "0            A          Yes   1137       1938           58.668731\n",
       "1            A           No    801       1938           41.331269\n",
       "2            B          Yes   1348       1827           73.782157\n",
       "3            B           No    479       1827           26.217843\n",
       "4            C          Yes   1549       1947           79.558295\n",
       "5            C           No    398       1947           20.441705\n",
       "6            D           No   1607       2216           72.518051\n",
       "7            D          Yes    609       2216           27.481949"
      ]
     },
     "execution_count": 22,
     "metadata": {},
     "output_type": "execute_result"
    }
   ],
   "source": [
    "df_married"
   ]
  },
  {
   "cell_type": "code",
   "execution_count": 23,
   "id": "eeedf6cf-7534-4c8d-bdd9-fc7e49a91b6a",
   "metadata": {},
   "outputs": [
    {
     "data": {
      "text/plain": [
       "<Figure size 800x400 with 0 Axes>"
      ]
     },
     "execution_count": 23,
     "metadata": {},
     "output_type": "execute_result"
    },
    {
     "data": {
      "text/plain": [
       "<Axes: xlabel='segmentation', ylabel='merried_percentage'>"
      ]
     },
     "execution_count": 23,
     "metadata": {},
     "output_type": "execute_result"
    },
    {
     "data": {
      "image/png": "[encoded data removed]",
      "text/plain": [
       "<Figure size 800x400 with 1 Axes>"
      ]
     },
     "metadata": {},
     "output_type": "display_data"
    }
   ],
   "source": [
    "plt.figure(figsize=(8, 4))\n",
    "sns.barplot(x=\"segmentation\", y=\"merried_percentage\", hue=\"ever_married\", data=df_married)"
   ]
  },
  {
   "cell_type": "markdown",
   "id": "7d133db0-fdef-4778-8677-ad8993551dc4",
   "metadata": {},
   "source": [
    "### Age\n",
    "* While other groups have an average age of 40+, Group D has an average age of 29."
   ]
  },
  {
   "cell_type": "code",
   "execution_count": 24,
   "id": "02ed88d7-47de-4416-b851-7d472ade47f6",
   "metadata": {},
   "outputs": [
    {
     "data": {
      "text/html": [
       "<div>\n",
       "<style scoped>\n",
       "    .dataframe tbody tr th:only-of-type {\n",
       "        vertical-align: middle;\n",
       "    }\n",
       "\n",
       "    .dataframe tbody tr th {\n",
       "        vertical-align: top;\n",
       "    }\n",
       "\n",
       "    .dataframe thead th {\n",
       "        text-align: right;\n",
       "    }\n",
       "</style>\n",
       "<table border=\"1\" class=\"dataframe\">\n",
       "  <thead>\n",
       "    <tr style=\"text-align: right;\">\n",
       "      <th></th>\n",
       "      <th>segmentation</th>\n",
       "      <th>age</th>\n",
       "    </tr>\n",
       "  </thead>\n",
       "  <tbody>\n",
       "    <tr>\n",
       "      <th>0</th>\n",
       "      <td>A</td>\n",
       "      <td>41.0</td>\n",
       "    </tr>\n",
       "    <tr>\n",
       "      <th>1</th>\n",
       "      <td>B</td>\n",
       "      <td>46.0</td>\n",
       "    </tr>\n",
       "    <tr>\n",
       "      <th>2</th>\n",
       "      <td>C</td>\n",
       "      <td>49.0</td>\n",
       "    </tr>\n",
       "    <tr>\n",
       "      <th>3</th>\n",
       "      <td>D</td>\n",
       "      <td>29.0</td>\n",
       "    </tr>\n",
       "  </tbody>\n",
       "</table>\n",
       "</div>"
      ],
      "text/plain": [
       "  segmentation   age\n",
       "0            A  41.0\n",
       "1            B  46.0\n",
       "2            C  49.0\n",
       "3            D  29.0"
      ]
     },
     "execution_count": 24,
     "metadata": {},
     "output_type": "execute_result"
    }
   ],
   "source": [
    "df_age = df_train.groupby('segmentation')['age'].median().reset_index()\n",
    "df_age"
   ]
  },
  {
   "cell_type": "code",
   "execution_count": 25,
   "id": "ca2cbe55-ddc0-4814-9270-ebb4caf34ac8",
   "metadata": {},
   "outputs": [
    {
     "data": {
      "text/plain": [
       "<Figure size 800x400 with 0 Axes>"
      ]
     },
     "execution_count": 25,
     "metadata": {},
     "output_type": "execute_result"
    },
    {
     "data": {
      "text/plain": [
       "<Axes: xlabel='segmentation', ylabel='age'>"
      ]
     },
     "execution_count": 25,
     "metadata": {},
     "output_type": "execute_result"
    },
    {
     "data": {
      "image/png": "[encoded data removed]",
      "text/plain": [
       "<Figure size 800x400 with 1 Axes>"
      ]
     },
     "metadata": {},
     "output_type": "display_data"
    }
   ],
   "source": [
    "plt.figure(figsize=(8, 4))\n",
    "sns.barplot(x=\"segmentation\", y=\"age\", data=df_age, color='skyblue')"
   ]
  },
  {
   "cell_type": "markdown",
   "id": "7853d94f-9da9-4884-a593-b3dbd7632235",
   "metadata": {},
   "source": [
    "### Graduated\n",
    "* Group C has the highest graduation rate at 82%\n",
    "* Group B has the lowest graduation rate at 36%"
   ]
  },
  {
   "cell_type": "code",
   "execution_count": 26,
   "id": "c25f7e27-5691-4b98-8eec-35d8a6b15eb5",
   "metadata": {},
   "outputs": [],
   "source": [
    "df_grad = df_train[df_train['graduated'].notna()]\n",
    "df_count_segmentation = df_grad.groupby(['segmentation']).agg(count_seg=('segmentation', 'count')).reset_index()\n",
    "\n",
    "df_grad= df_grad.groupby(['segmentation'])['graduated'].value_counts().reset_index()\n",
    "df_grad = df_grad.merge(df_count_segmentation, on=['segmentation'], how='left')\n",
    "df_grad['grad_percentage'] = 100 * df_grad['count'] / df_grad['count_seg']"
   ]
  },
  {
   "cell_type": "code",
   "execution_count": 27,
   "id": "44e8e899-f3f7-4fb6-b333-9db18cdb74e9",
   "metadata": {},
   "outputs": [
    {
     "data": {
      "text/html": [
       "<div>\n",
       "<style scoped>\n",
       "    .dataframe tbody tr th:only-of-type {\n",
       "        vertical-align: middle;\n",
       "    }\n",
       "\n",
       "    .dataframe tbody tr th {\n",
       "        vertical-align: top;\n",
       "    }\n",
       "\n",
       "    .dataframe thead th {\n",
       "        text-align: right;\n",
       "    }\n",
       "</style>\n",
       "<table border=\"1\" class=\"dataframe\">\n",
       "  <thead>\n",
       "    <tr style=\"text-align: right;\">\n",
       "      <th></th>\n",
       "      <th>segmentation</th>\n",
       "      <th>graduated</th>\n",
       "      <th>count</th>\n",
       "      <th>count_seg</th>\n",
       "      <th>grad_percentage</th>\n",
       "    </tr>\n",
       "  </thead>\n",
       "  <tbody>\n",
       "    <tr>\n",
       "      <th>1</th>\n",
       "      <td>A</td>\n",
       "      <td>No</td>\n",
       "      <td>729</td>\n",
       "      <td>1948</td>\n",
       "      <td>37.422998</td>\n",
       "    </tr>\n",
       "    <tr>\n",
       "      <th>0</th>\n",
       "      <td>A</td>\n",
       "      <td>Yes</td>\n",
       "      <td>1219</td>\n",
       "      <td>1948</td>\n",
       "      <td>62.577002</td>\n",
       "    </tr>\n",
       "    <tr>\n",
       "      <th>3</th>\n",
       "      <td>B</td>\n",
       "      <td>No</td>\n",
       "      <td>508</td>\n",
       "      <td>1840</td>\n",
       "      <td>27.608696</td>\n",
       "    </tr>\n",
       "    <tr>\n",
       "      <th>2</th>\n",
       "      <td>B</td>\n",
       "      <td>Yes</td>\n",
       "      <td>1332</td>\n",
       "      <td>1840</td>\n",
       "      <td>72.391304</td>\n",
       "    </tr>\n",
       "    <tr>\n",
       "      <th>5</th>\n",
       "      <td>C</td>\n",
       "      <td>No</td>\n",
       "      <td>348</td>\n",
       "      <td>1955</td>\n",
       "      <td>17.800512</td>\n",
       "    </tr>\n",
       "    <tr>\n",
       "      <th>4</th>\n",
       "      <td>C</td>\n",
       "      <td>Yes</td>\n",
       "      <td>1607</td>\n",
       "      <td>1955</td>\n",
       "      <td>82.199488</td>\n",
       "    </tr>\n",
       "    <tr>\n",
       "      <th>6</th>\n",
       "      <td>D</td>\n",
       "      <td>No</td>\n",
       "      <td>1437</td>\n",
       "      <td>2247</td>\n",
       "      <td>63.951936</td>\n",
       "    </tr>\n",
       "    <tr>\n",
       "      <th>7</th>\n",
       "      <td>D</td>\n",
       "      <td>Yes</td>\n",
       "      <td>810</td>\n",
       "      <td>2247</td>\n",
       "      <td>36.048064</td>\n",
       "    </tr>\n",
       "  </tbody>\n",
       "</table>\n",
       "</div>"
      ],
      "text/plain": [
       "  segmentation graduated  count  count_seg  grad_percentage\n",
       "1            A        No    729       1948        37.422998\n",
       "0            A       Yes   1219       1948        62.577002\n",
       "3            B        No    508       1840        27.608696\n",
       "2            B       Yes   1332       1840        72.391304\n",
       "5            C        No    348       1955        17.800512\n",
       "4            C       Yes   1607       1955        82.199488\n",
       "6            D        No   1437       2247        63.951936\n",
       "7            D       Yes    810       2247        36.048064"
      ]
     },
     "execution_count": 27,
     "metadata": {},
     "output_type": "execute_result"
    }
   ],
   "source": [
    "df_grad.sort_values(by=['segmentation', 'graduated'])"
   ]
  },
  {
   "cell_type": "code",
   "execution_count": 28,
   "id": "a6205d7d-31e1-4144-881d-3bce5212838d",
   "metadata": {},
   "outputs": [
    {
     "data": {
      "text/plain": [
       "<Figure size 800x400 with 0 Axes>"
      ]
     },
     "execution_count": 28,
     "metadata": {},
     "output_type": "execute_result"
    },
    {
     "data": {
      "text/plain": [
       "<Axes: xlabel='segmentation', ylabel='grad_percentage'>"
      ]
     },
     "execution_count": 28,
     "metadata": {},
     "output_type": "execute_result"
    },
    {
     "data": {
      "image/png": "[encoded data removed]",
      "text/plain": [
       "<Figure size 800x400 with 1 Axes>"
      ]
     },
     "metadata": {},
     "output_type": "display_data"
    }
   ],
   "source": [
    "plt.figure(figsize=(8, 4))\n",
    "sns.barplot(x=\"segmentation\", y=\"grad_percentage\", hue=\"graduated\", data=df_grad)"
   ]
  },
  {
   "cell_type": "markdown",
   "id": "adfeadea-d4ce-4542-abfe-c6608483e1f6",
   "metadata": {},
   "source": [
    "### Profession\n",
    "* In Group D, the proportions of customer in healthcare and marketing are noticeably higher than in other groups."
   ]
  },
  {
   "cell_type": "code",
   "execution_count": 29,
   "id": "d9848f08-5682-42db-8e61-3255bf0ec774",
   "metadata": {},
   "outputs": [],
   "source": [
    "def get_percentage_categorical_feature(df, feature):\n",
    "    df_perc_cat = df[df[feature].notna()]\n",
    "    df_count_segmentation = df_perc_cat.groupby(['segmentation']).agg(count_seg=('segmentation', 'count')).reset_index()\n",
    "    \n",
    "    df_perc_cat= df_perc_cat.groupby(['segmentation'])[feature].value_counts().reset_index()\n",
    "    df_perc_cat = df_perc_cat.merge(df_count_segmentation, on=['segmentation'], how='left')\n",
    "    df_perc_cat[f'{feature}_percentage'] = 100 * df_perc_cat['count'] / df_perc_cat['count_seg']\n",
    "    \n",
    "    return df_perc_cat"
   ]
  },
  {
   "cell_type": "code",
   "execution_count": 30,
   "id": "e646c76e-1842-4297-82bc-fc47f05a6354",
   "metadata": {},
   "outputs": [],
   "source": [
    "df_profession = get_percentage_categorical_feature(df_train, 'profession')"
   ]
  },
  {
   "cell_type": "code",
   "execution_count": 31,
   "id": "8b3ba17c-8724-4a48-9cbb-7c7af6309107",
   "metadata": {},
   "outputs": [
    {
     "data": {
      "text/plain": [
       "<Figure size 1000x600 with 0 Axes>"
      ]
     },
     "execution_count": 31,
     "metadata": {},
     "output_type": "execute_result"
    },
    {
     "data": {
      "text/plain": [
       "<Axes: xlabel='segmentation', ylabel='profession_percentage'>"
      ]
     },
     "execution_count": 31,
     "metadata": {},
     "output_type": "execute_result"
    },
    {
     "data": {
      "image/png": "[encoded data removed]",
      "text/plain": [
       "<Figure size 1000x600 with 1 Axes>"
      ]
     },
     "metadata": {},
     "output_type": "display_data"
    }
   ],
   "source": [
    "plt.figure(figsize=(10, 6))\n",
    "sns.barplot(x=\"segmentation\", y=\"profession_percentage\", hue=\"profession\", data=df_profession)"
   ]
  },
  {
   "cell_type": "markdown",
   "id": "ba14862d-246a-4772-af80-013398e0ac28",
   "metadata": {},
   "source": [
    "### Work experience\n",
    "* There is no difference between the groups."
   ]
  },
  {
   "cell_type": "code",
   "execution_count": 32,
   "id": "e346ba08-4a14-4ada-a7d0-9ddb5b07356b",
   "metadata": {},
   "outputs": [
    {
     "data": {
      "text/plain": [
       "work_experience\n",
       "1.0     2354\n",
       "0.0     2318\n",
       "9.0      474\n",
       "8.0      463\n",
       "2.0      286\n",
       "3.0      255\n",
       "4.0      253\n",
       "6.0      204\n",
       "7.0      196\n",
       "5.0      194\n",
       "10.0      53\n",
       "11.0      50\n",
       "12.0      48\n",
       "13.0      46\n",
       "14.0      45\n",
       "Name: count, dtype: int64"
      ]
     },
     "execution_count": 32,
     "metadata": {},
     "output_type": "execute_result"
    }
   ],
   "source": [
    "df_train['work_experience'].value_counts()"
   ]
  },
  {
   "cell_type": "code",
   "execution_count": 33,
   "id": "284b5585-b58f-40cc-ab96-7d31355d9148",
   "metadata": {},
   "outputs": [
    {
     "data": {
      "text/html": [
       "<div>\n",
       "<style scoped>\n",
       "    .dataframe tbody tr th:only-of-type {\n",
       "        vertical-align: middle;\n",
       "    }\n",
       "\n",
       "    .dataframe tbody tr th {\n",
       "        vertical-align: top;\n",
       "    }\n",
       "\n",
       "    .dataframe thead th {\n",
       "        text-align: right;\n",
       "    }\n",
       "</style>\n",
       "<table border=\"1\" class=\"dataframe\">\n",
       "  <thead>\n",
       "    <tr style=\"text-align: right;\">\n",
       "      <th></th>\n",
       "      <th>segmentation</th>\n",
       "      <th>work_experience</th>\n",
       "    </tr>\n",
       "  </thead>\n",
       "  <tbody>\n",
       "    <tr>\n",
       "      <th>0</th>\n",
       "      <td>A</td>\n",
       "      <td>1.0</td>\n",
       "    </tr>\n",
       "    <tr>\n",
       "      <th>1</th>\n",
       "      <td>B</td>\n",
       "      <td>1.0</td>\n",
       "    </tr>\n",
       "    <tr>\n",
       "      <th>2</th>\n",
       "      <td>C</td>\n",
       "      <td>1.0</td>\n",
       "    </tr>\n",
       "    <tr>\n",
       "      <th>3</th>\n",
       "      <td>D</td>\n",
       "      <td>1.0</td>\n",
       "    </tr>\n",
       "  </tbody>\n",
       "</table>\n",
       "</div>"
      ],
      "text/plain": [
       "  segmentation  work_experience\n",
       "0            A              1.0\n",
       "1            B              1.0\n",
       "2            C              1.0\n",
       "3            D              1.0"
      ]
     },
     "execution_count": 33,
     "metadata": {},
     "output_type": "execute_result"
    },
    {
     "data": {
      "text/html": [
       "<div>\n",
       "<style scoped>\n",
       "    .dataframe tbody tr th:only-of-type {\n",
       "        vertical-align: middle;\n",
       "    }\n",
       "\n",
       "    .dataframe tbody tr th {\n",
       "        vertical-align: top;\n",
       "    }\n",
       "\n",
       "    .dataframe thead th {\n",
       "        text-align: right;\n",
       "    }\n",
       "</style>\n",
       "<table border=\"1\" class=\"dataframe\">\n",
       "  <thead>\n",
       "    <tr style=\"text-align: right;\">\n",
       "      <th></th>\n",
       "      <th>segmentation</th>\n",
       "      <th>work_experience</th>\n",
       "    </tr>\n",
       "  </thead>\n",
       "  <tbody>\n",
       "    <tr>\n",
       "      <th>0</th>\n",
       "      <td>A</td>\n",
       "      <td>2.874578</td>\n",
       "    </tr>\n",
       "    <tr>\n",
       "      <th>1</th>\n",
       "      <td>B</td>\n",
       "      <td>2.378151</td>\n",
       "    </tr>\n",
       "    <tr>\n",
       "      <th>2</th>\n",
       "      <td>C</td>\n",
       "      <td>2.240771</td>\n",
       "    </tr>\n",
       "    <tr>\n",
       "      <th>3</th>\n",
       "      <td>D</td>\n",
       "      <td>3.021717</td>\n",
       "    </tr>\n",
       "  </tbody>\n",
       "</table>\n",
       "</div>"
      ],
      "text/plain": [
       "  segmentation  work_experience\n",
       "0            A         2.874578\n",
       "1            B         2.378151\n",
       "2            C         2.240771\n",
       "3            D         3.021717"
      ]
     },
     "execution_count": 33,
     "metadata": {},
     "output_type": "execute_result"
    }
   ],
   "source": [
    "df_work = df_train.groupby('segmentation')['work_experience'].median().reset_index()\n",
    "df_work\n",
    "\n",
    "df_work = df_train.groupby('segmentation')['work_experience'].mean().reset_index()\n",
    "df_work"
   ]
  },
  {
   "cell_type": "code",
   "execution_count": 34,
   "id": "9b7418a1-34da-4ac8-9bfa-51adde0e53af",
   "metadata": {},
   "outputs": [],
   "source": [
    "df_work_exp = get_percentage_categorical_feature(df_train, 'work_experience')"
   ]
  },
  {
   "cell_type": "code",
   "execution_count": 35,
   "id": "274c6167-f60d-4d96-ad7e-2eadf934af09",
   "metadata": {},
   "outputs": [
    {
     "data": {
      "text/plain": [
       "<Figure size 1000x600 with 0 Axes>"
      ]
     },
     "execution_count": 35,
     "metadata": {},
     "output_type": "execute_result"
    },
    {
     "data": {
      "text/plain": [
       "<Axes: xlabel='segmentation', ylabel='work_experience_percentage'>"
      ]
     },
     "execution_count": 35,
     "metadata": {},
     "output_type": "execute_result"
    },
    {
     "data": {
      "image/png": "[encoded data removed]",
      "text/plain": [
       "<Figure size 1000x600 with 1 Axes>"
      ]
     },
     "metadata": {},
     "output_type": "display_data"
    }
   ],
   "source": [
    "plt.figure(figsize=(10, 6))\n",
    "sns.barplot(x=\"segmentation\", y=\"work_experience_percentage\", hue=\"work_experience\", data=df_work_exp, palette='deep')"
   ]
  },
  {
   "cell_type": "markdown",
   "id": "b2455db0-0a8c-4961-8329-3de0b2495965",
   "metadata": {},
   "source": [
    "### Spending score\n",
    "* Group C has a relatively higher average proportion compared to other groups, while Group D has a significantly higher proportion of \"low\" compared to the other groups."
   ]
  },
  {
   "cell_type": "code",
   "execution_count": 36,
   "id": "d240631a-b977-4257-a539-15092d92d881",
   "metadata": {},
   "outputs": [],
   "source": [
    "df_spend = get_percentage_categorical_feature(df_train, 'spending_score')"
   ]
  },
  {
   "cell_type": "code",
   "execution_count": 37,
   "id": "ca1ea02d-2409-46c7-a650-64239499d8b9",
   "metadata": {},
   "outputs": [
    {
     "data": {
      "text/html": [
       "<div>\n",
       "<style scoped>\n",
       "    .dataframe tbody tr th:only-of-type {\n",
       "        vertical-align: middle;\n",
       "    }\n",
       "\n",
       "    .dataframe tbody tr th {\n",
       "        vertical-align: top;\n",
       "    }\n",
       "\n",
       "    .dataframe thead th {\n",
       "        text-align: right;\n",
       "    }\n",
       "</style>\n",
       "<table border=\"1\" class=\"dataframe\">\n",
       "  <thead>\n",
       "    <tr style=\"text-align: right;\">\n",
       "      <th></th>\n",
       "      <th>segmentation</th>\n",
       "      <th>spending_score</th>\n",
       "      <th>count</th>\n",
       "      <th>count_seg</th>\n",
       "      <th>spending_score_percentage</th>\n",
       "    </tr>\n",
       "  </thead>\n",
       "  <tbody>\n",
       "    <tr>\n",
       "      <th>0</th>\n",
       "      <td>A</td>\n",
       "      <td>Low</td>\n",
       "      <td>1358</td>\n",
       "      <td>1972</td>\n",
       "      <td>68.864097</td>\n",
       "    </tr>\n",
       "    <tr>\n",
       "      <th>1</th>\n",
       "      <td>A</td>\n",
       "      <td>Average</td>\n",
       "      <td>343</td>\n",
       "      <td>1972</td>\n",
       "      <td>17.393509</td>\n",
       "    </tr>\n",
       "    <tr>\n",
       "      <th>2</th>\n",
       "      <td>A</td>\n",
       "      <td>High</td>\n",
       "      <td>271</td>\n",
       "      <td>1972</td>\n",
       "      <td>13.742394</td>\n",
       "    </tr>\n",
       "    <tr>\n",
       "      <th>3</th>\n",
       "      <td>B</td>\n",
       "      <td>Low</td>\n",
       "      <td>884</td>\n",
       "      <td>1858</td>\n",
       "      <td>47.578041</td>\n",
       "    </tr>\n",
       "    <tr>\n",
       "      <th>4</th>\n",
       "      <td>B</td>\n",
       "      <td>Average</td>\n",
       "      <td>590</td>\n",
       "      <td>1858</td>\n",
       "      <td>31.754575</td>\n",
       "    </tr>\n",
       "    <tr>\n",
       "      <th>5</th>\n",
       "      <td>B</td>\n",
       "      <td>High</td>\n",
       "      <td>384</td>\n",
       "      <td>1858</td>\n",
       "      <td>20.667384</td>\n",
       "    </tr>\n",
       "    <tr>\n",
       "      <th>6</th>\n",
       "      <td>C</td>\n",
       "      <td>Average</td>\n",
       "      <td>903</td>\n",
       "      <td>1970</td>\n",
       "      <td>45.837563</td>\n",
       "    </tr>\n",
       "    <tr>\n",
       "      <th>7</th>\n",
       "      <td>C</td>\n",
       "      <td>Low</td>\n",
       "      <td>662</td>\n",
       "      <td>1970</td>\n",
       "      <td>33.604061</td>\n",
       "    </tr>\n",
       "    <tr>\n",
       "      <th>8</th>\n",
       "      <td>C</td>\n",
       "      <td>High</td>\n",
       "      <td>405</td>\n",
       "      <td>1970</td>\n",
       "      <td>20.558376</td>\n",
       "    </tr>\n",
       "    <tr>\n",
       "      <th>9</th>\n",
       "      <td>D</td>\n",
       "      <td>Low</td>\n",
       "      <td>1974</td>\n",
       "      <td>2268</td>\n",
       "      <td>87.037037</td>\n",
       "    </tr>\n",
       "    <tr>\n",
       "      <th>10</th>\n",
       "      <td>D</td>\n",
       "      <td>High</td>\n",
       "      <td>156</td>\n",
       "      <td>2268</td>\n",
       "      <td>6.878307</td>\n",
       "    </tr>\n",
       "    <tr>\n",
       "      <th>11</th>\n",
       "      <td>D</td>\n",
       "      <td>Average</td>\n",
       "      <td>138</td>\n",
       "      <td>2268</td>\n",
       "      <td>6.084656</td>\n",
       "    </tr>\n",
       "  </tbody>\n",
       "</table>\n",
       "</div>"
      ],
      "text/plain": [
       "   segmentation spending_score  count  count_seg  spending_score_percentage\n",
       "0             A            Low   1358       1972                  68.864097\n",
       "1             A        Average    343       1972                  17.393509\n",
       "2             A           High    271       1972                  13.742394\n",
       "3             B            Low    884       1858                  47.578041\n",
       "4             B        Average    590       1858                  31.754575\n",
       "5             B           High    384       1858                  20.667384\n",
       "6             C        Average    903       1970                  45.837563\n",
       "7             C            Low    662       1970                  33.604061\n",
       "8             C           High    405       1970                  20.558376\n",
       "9             D            Low   1974       2268                  87.037037\n",
       "10            D           High    156       2268                   6.878307\n",
       "11            D        Average    138       2268                   6.084656"
      ]
     },
     "execution_count": 37,
     "metadata": {},
     "output_type": "execute_result"
    }
   ],
   "source": [
    "df_spend"
   ]
  },
  {
   "cell_type": "code",
   "execution_count": 38,
   "id": "a2b38809-45e4-4571-be53-79ca5db11f7d",
   "metadata": {},
   "outputs": [
    {
     "data": {
      "text/plain": [
       "<Figure size 1000x600 with 0 Axes>"
      ]
     },
     "execution_count": 38,
     "metadata": {},
     "output_type": "execute_result"
    },
    {
     "data": {
      "text/plain": [
       "<Axes: xlabel='segmentation', ylabel='spending_score_percentage'>"
      ]
     },
     "execution_count": 38,
     "metadata": {},
     "output_type": "execute_result"
    },
    {
     "data": {
      "image/png": "[encoded data removed]",
      "text/plain": [
       "<Figure size 1000x600 with 1 Axes>"
      ]
     },
     "metadata": {},
     "output_type": "display_data"
    }
   ],
   "source": [
    "plt.figure(figsize=(10, 6))\n",
    "sns.barplot(x=\"segmentation\", y=\"spending_score_percentage\", hue=\"spending_score\", data=df_spend)"
   ]
  },
  {
   "cell_type": "code",
   "execution_count": 39,
   "id": "ef9d5feb-aaf1-41ff-afee-e0874bc70856",
   "metadata": {},
   "outputs": [
    {
     "data": {
      "text/plain": [
       "<Figure size 1000x600 with 0 Axes>"
      ]
     },
     "execution_count": 39,
     "metadata": {},
     "output_type": "execute_result"
    },
    {
     "data": {
      "text/plain": [
       "<Axes: xlabel='spending_score', ylabel='spending_score_percentage'>"
      ]
     },
     "execution_count": 39,
     "metadata": {},
     "output_type": "execute_result"
    },
    {
     "data": {
      "image/png": "[encoded data removed]",
      "text/plain": [
       "<Figure size 1000x600 with 1 Axes>"
      ]
     },
     "metadata": {},
     "output_type": "display_data"
    }
   ],
   "source": [
    "plt.figure(figsize=(10, 6))\n",
    "sns.barplot(x=\"spending_score\", y=\"spending_score_percentage\", hue=\"segmentation\", data=df_spend, palette='viridis')"
   ]
  },
  {
   "cell_type": "markdown",
   "id": "2c008f30-c195-46c2-b8f9-cddcae0c02d4",
   "metadata": {},
   "source": [
    "### Family size\n",
    "* Group C has a smaller proportion of size 1 compared to other groups. \n",
    "* Group D has a higher proportion of size 2 compared to the other groups."
   ]
  },
  {
   "cell_type": "code",
   "execution_count": 40,
   "id": "d0e4e20c-575e-4db4-9030-f0de327868a7",
   "metadata": {},
   "outputs": [],
   "source": [
    "df_fam = get_percentage_categorical_feature(df_train, 'family_size')"
   ]
  },
  {
   "cell_type": "code",
   "execution_count": 41,
   "id": "ba6b63cd-3e60-4a5f-98ad-91cc51c63682",
   "metadata": {},
   "outputs": [
    {
     "data": {
      "text/plain": [
       "<Figure size 1000x600 with 0 Axes>"
      ]
     },
     "execution_count": 41,
     "metadata": {},
     "output_type": "execute_result"
    },
    {
     "data": {
      "text/plain": [
       "<Axes: xlabel='segmentation', ylabel='family_size_percentage'>"
      ]
     },
     "execution_count": 41,
     "metadata": {},
     "output_type": "execute_result"
    },
    {
     "data": {
      "image/png": "[encoded data removed]",
      "text/plain": [
       "<Figure size 1000x600 with 1 Axes>"
      ]
     },
     "metadata": {},
     "output_type": "display_data"
    }
   ],
   "source": [
    "plt.figure(figsize=(10, 6))\n",
    "sns.barplot(x=\"segmentation\", y=\"family_size_percentage\", hue=\"family_size\", data=df_fam)"
   ]
  },
  {
   "cell_type": "code",
   "execution_count": 42,
   "id": "95fe2da0-7431-4aa3-bf07-c04d10f87209",
   "metadata": {},
   "outputs": [
    {
     "data": {
      "text/plain": [
       "<Figure size 1000x600 with 0 Axes>"
      ]
     },
     "execution_count": 42,
     "metadata": {},
     "output_type": "execute_result"
    },
    {
     "data": {
      "text/plain": [
       "<Axes: xlabel='family_size', ylabel='family_size_percentage'>"
      ]
     },
     "execution_count": 42,
     "metadata": {},
     "output_type": "execute_result"
    },
    {
     "data": {
      "image/png": "[encoded data removed]",
      "text/plain": [
       "<Figure size 1000x600 with 1 Axes>"
      ]
     },
     "metadata": {},
     "output_type": "display_data"
    }
   ],
   "source": [
    "plt.figure(figsize=(10, 6))\n",
    "sns.barplot(x=\"family_size\", y=\"family_size_percentage\", hue=\"segmentation\", data=df_fam, palette='viridis')"
   ]
  },
  {
   "cell_type": "markdown",
   "id": "ba0881d3-8c83-49fa-b8d7-ff63f049829a",
   "metadata": {},
   "source": [
    "### var_1"
   ]
  },
  {
   "cell_type": "code",
   "execution_count": 43,
   "id": "83219003-fa72-4adf-80f2-5dc1f0861e08",
   "metadata": {},
   "outputs": [],
   "source": [
    "df_var_1 = get_percentage_categorical_feature(df_train, 'var_1')"
   ]
  },
  {
   "cell_type": "code",
   "execution_count": 44,
   "id": "b1ffb4a2-4d37-4c93-8c0e-4e20aa5e66b9",
   "metadata": {},
   "outputs": [
    {
     "data": {
      "text/plain": [
       "<Figure size 1000x600 with 0 Axes>"
      ]
     },
     "execution_count": 44,
     "metadata": {},
     "output_type": "execute_result"
    },
    {
     "data": {
      "text/plain": [
       "<Axes: xlabel='segmentation', ylabel='var_1_percentage'>"
      ]
     },
     "execution_count": 44,
     "metadata": {},
     "output_type": "execute_result"
    },
    {
     "data": {
      "image/png": "[encoded data removed]",
      "text/plain": [
       "<Figure size 1000x600 with 1 Axes>"
      ]
     },
     "metadata": {},
     "output_type": "display_data"
    }
   ],
   "source": [
    "plt.figure(figsize=(10, 6))\n",
    "sns.barplot(x=\"segmentation\", y=\"var_1_percentage\", hue=\"var_1\", data=df_var_1)"
   ]
  },
  {
   "cell_type": "code",
   "execution_count": 45,
   "id": "71dc0cf1-9d7d-412e-833c-8c1b987a52ca",
   "metadata": {},
   "outputs": [
    {
     "data": {
      "text/plain": [
       "<Figure size 1000x600 with 0 Axes>"
      ]
     },
     "execution_count": 45,
     "metadata": {},
     "output_type": "execute_result"
    },
    {
     "data": {
      "text/plain": [
       "<Axes: xlabel='var_1', ylabel='var_1_percentage'>"
      ]
     },
     "execution_count": 45,
     "metadata": {},
     "output_type": "execute_result"
    },
    {
     "data": {
      "image/png": "[encoded data removed]",
      "text/plain": [
       "<Figure size 1000x600 with 1 Axes>"
      ]
     },
     "metadata": {},
     "output_type": "display_data"
    }
   ],
   "source": [
    "plt.figure(figsize=(10, 6))\n",
    "sns.barplot(x=\"var_1\", y=\"var_1_percentage\", hue=\"segmentation\", data=df_var_1, palette='viridis')"
   ]
  },
  {
   "cell_type": "markdown",
   "id": "f3134a81-d2ee-4801-b07b-e96d6ad79b52",
   "metadata": {},
   "source": [
    "# Modeling"
   ]
  },
  {
   "cell_type": "markdown",
   "id": "a8a1fc37-5ba3-4619-93fa-10b9f80665e8",
   "metadata": {},
   "source": [
    "## LightGBM"
   ]
  },
  {
   "cell_type": "markdown",
   "id": "ade9469e-5e4d-4864-8fe6-0a3bfd1f6c5d",
   "metadata": {},
   "source": [
    "### Version 1 : raw feature"
   ]
  },
  {
   "cell_type": "code",
   "execution_count": 292,
   "id": "82960c4f-d6d2-4ca2-bff3-4ed7cf70e530",
   "metadata": {},
   "outputs": [],
   "source": [
    "df_train = pd.read_csv('customer_segmentation_train.csv')\n",
    "df_test = pd.read_csv('customer_segmentation_test.csv')"
   ]
  },
  {
   "cell_type": "code",
   "execution_count": 293,
   "id": "55c9bc1d-3574-46d0-876c-3d742c9cc22d",
   "metadata": {},
   "outputs": [],
   "source": [
    "df_train_set = df_train.copy()"
   ]
  },
  {
   "cell_type": "code",
   "execution_count": 294,
   "id": "0ce516ba-7aa2-4c2c-ac30-83abe68648e2",
   "metadata": {},
   "outputs": [
    {
     "data": {
      "text/plain": [
       "id                   int64\n",
       "gender              object\n",
       "ever_married        object\n",
       "age                  int64\n",
       "graduated           object\n",
       "profession          object\n",
       "work_experience    float64\n",
       "spending_score      object\n",
       "family_size        float64\n",
       "var_1               object\n",
       "segmentation        object\n",
       "dtype: object"
      ]
     },
     "execution_count": 294,
     "metadata": {},
     "output_type": "execute_result"
    }
   ],
   "source": [
    "df_train_set.dtypes"
   ]
  },
  {
   "cell_type": "code",
   "execution_count": 295,
   "id": "6806dc20-9275-404a-9099-82459f9e6349",
   "metadata": {},
   "outputs": [],
   "source": [
    "# Determine feature\n",
    "CAT_COLS = ['gender', 'ever_married', 'graduated', 'profession', 'spending_score', 'var_1']\n",
    "NUM_COLS = ['age', 'work_experience', 'family_size']\n",
    "\n",
    "cat_cols = [col for col in df_train_set.columns if col in CAT_COLS]\n",
    "num_cols = [col for col in df_train_set.columns if col in NUM_COLS]\n",
    "feature_cols = num_cols + cat_cols\n",
    "\n",
    "# Change category columns type\n",
    "for col in cat_cols:\n",
    "    df_train_set[col] = df_train_set[col].astype('category')\n",
    "\n",
    "# Split feature and target\n",
    "x = df_train_set[feature_cols]\n",
    "y = df_train_set['segmentation']\n",
    "\n",
    "x_train, x_val, y_train, y_val = train_test_split(x, y, test_size = 0.2, random_state = 42)"
   ]
  },
  {
   "cell_type": "code",
   "execution_count": 296,
   "id": "cf624f17-664e-4bff-9f34-34fa5c59970f",
   "metadata": {
    "scrolled": true
   },
   "outputs": [
    {
     "data": {
      "text/html": [
       "<style>#sk-container-id-98 {color: black;background-color: white;}#sk-container-id-98 pre{padding: 0;}#sk-container-id-98 div.sk-toggleable {background-color: white;}#sk-container-id-98 label.sk-toggleable__label {cursor: pointer;display: block;width: 100%;margin-bottom: 0;padding: 0.3em;box-sizing: border-box;text-align: center;}#sk-container-id-98 label.sk-toggleable__label-arrow:before {content: \"▸\";float: left;margin-right: 0.25em;color: #696969;}#sk-container-id-98 label.sk-toggleable__label-arrow:hover:before {color: black;}#sk-container-id-98 div.sk-estimator:hover label.sk-toggleable__label-arrow:before {color: black;}#sk-container-id-98 div.sk-toggleable__content {max-height: 0;max-width: 0;overflow: hidden;text-align: left;background-color: #f0f8ff;}#sk-container-id-98 div.sk-toggleable__content pre {margin: 0.2em;color: black;border-radius: 0.25em;background-color: #f0f8ff;}#sk-container-id-98 input.sk-toggleable__control:checked~div.sk-toggleable__content {max-height: 200px;max-width: 100%;overflow: auto;}#sk-container-id-98 input.sk-toggleable__control:checked~label.sk-toggleable__label-arrow:before {content: \"▾\";}#sk-container-id-98 div.sk-estimator input.sk-toggleable__control:checked~label.sk-toggleable__label {background-color: #d4ebff;}#sk-container-id-98 div.sk-label input.sk-toggleable__control:checked~label.sk-toggleable__label {background-color: #d4ebff;}#sk-container-id-98 input.sk-hidden--visually {border: 0;clip: rect(1px 1px 1px 1px);clip: rect(1px, 1px, 1px, 1px);height: 1px;margin: -1px;overflow: hidden;padding: 0;position: absolute;width: 1px;}#sk-container-id-98 div.sk-estimator {font-family: monospace;background-color: #f0f8ff;border: 1px dotted black;border-radius: 0.25em;box-sizing: border-box;margin-bottom: 0.5em;}#sk-container-id-98 div.sk-estimator:hover {background-color: #d4ebff;}#sk-container-id-98 div.sk-parallel-item::after {content: \"\";width: 100%;border-bottom: 1px solid gray;flex-grow: 1;}#sk-container-id-98 div.sk-label:hover label.sk-toggleable__label {background-color: #d4ebff;}#sk-container-id-98 div.sk-serial::before {content: \"\";position: absolute;border-left: 1px solid gray;box-sizing: border-box;top: 0;bottom: 0;left: 50%;z-index: 0;}#sk-container-id-98 div.sk-serial {display: flex;flex-direction: column;align-items: center;background-color: white;padding-right: 0.2em;padding-left: 0.2em;position: relative;}#sk-container-id-98 div.sk-item {position: relative;z-index: 1;}#sk-container-id-98 div.sk-parallel {display: flex;align-items: stretch;justify-content: center;background-color: white;position: relative;}#sk-container-id-98 div.sk-item::before, #sk-container-id-98 div.sk-parallel-item::before {content: \"\";position: absolute;border-left: 1px solid gray;box-sizing: border-box;top: 0;bottom: 0;left: 50%;z-index: -1;}#sk-container-id-98 div.sk-parallel-item {display: flex;flex-direction: column;z-index: 1;position: relative;background-color: white;}#sk-container-id-98 div.sk-parallel-item:first-child::after {align-self: flex-end;width: 50%;}#sk-container-id-98 div.sk-parallel-item:last-child::after {align-self: flex-start;width: 50%;}#sk-container-id-98 div.sk-parallel-item:only-child::after {width: 0;}#sk-container-id-98 div.sk-dashed-wrapped {border: 1px dashed gray;margin: 0 0.4em 0.5em 0.4em;box-sizing: border-box;padding-bottom: 0.4em;background-color: white;}#sk-container-id-98 div.sk-label label {font-family: monospace;font-weight: bold;display: inline-block;line-height: 1.2em;}#sk-container-id-98 div.sk-label-container {text-align: center;}#sk-container-id-98 div.sk-container {/* jupyter's `normalize.less` sets `[hidden] { display: none; }` but bootstrap.min.css set `[hidden] { display: none !important; }` so we also need the `!important` here to be able to override the default hidden behavior on the sphinx rendered scikit-learn.org. See: https://github.com/scikit-learn/scikit-learn/issues/21755 */display: inline-block !important;position: relative;}#sk-container-id-98 div.sk-text-repr-fallback {display: none;}</style><div id=\"sk-container-id-98\" class=\"sk-top-container\"><div class=\"sk-text-repr-fallback\"><pre>LGBMClassifier(learning_rate=0.01, objective=&#x27;multiclass&#x27;)</pre><b>In a Jupyter environment, please rerun this cell to show the HTML representation or trust the notebook. <br />On GitHub, the HTML representation is unable to render, please try loading this page with nbviewer.org.</b></div><div class=\"sk-container\" hidden><div class=\"sk-item\"><div class=\"sk-estimator sk-toggleable\"><input class=\"sk-toggleable__control sk-hidden--visually\" id=\"sk-estimator-id-98\" type=\"checkbox\" checked><label for=\"sk-estimator-id-98\" class=\"sk-toggleable__label sk-toggleable__label-arrow\">LGBMClassifier</label><div class=\"sk-toggleable__content\"><pre>LGBMClassifier(learning_rate=0.01, objective=&#x27;multiclass&#x27;)</pre></div></div></div></div></div>"
      ],
      "text/plain": [
       "LGBMClassifier(learning_rate=0.01, objective='multiclass')"
      ]
     },
     "execution_count": 296,
     "metadata": {},
     "output_type": "execute_result"
    }
   ],
   "source": [
    "lgbm_model = lightgbm.LGBMClassifier(boosting_type='gbdt',\n",
    "                                num_leaves = 31,\n",
    "                                learning_rate = 0.01,\n",
    "                                n_estimators=100,\n",
    "                                objective='multiclass',\n",
    "                                importance_type='split'\n",
    "                               )\n",
    "lgbm_model.fit(x_train, y_train)"
   ]
  },
  {
   "cell_type": "code",
   "execution_count": 297,
   "id": "f6717b40-3ca2-4ef6-ace7-3a7f584a1d4e",
   "metadata": {},
   "outputs": [
    {
     "name": "stdout",
     "output_type": "stream",
     "text": [
      "Train accuracy : 0.582739386427022\n",
      "Test accuracy : 0.5192069392812887\n"
     ]
    }
   ],
   "source": [
    "y_pred_train = lgbm_model.predict(x_train)\n",
    "train_accuracy = accuracy_score(y_pred_train, y_train)\n",
    "\n",
    "y_pred_val = lgbm_model.predict(x_val)\n",
    "test_accuracy = accuracy_score(y_pred_val, y_val)\n",
    "\n",
    "print(f\"Train accuracy : {train_accuracy}\")\n",
    "print(f\"Test accuracy : {test_accuracy}\")"
   ]
  },
  {
   "cell_type": "code",
   "execution_count": 298,
   "id": "7212d63d-e2ce-4354-b49e-3a0d130f24aa",
   "metadata": {},
   "outputs": [
    {
     "name": "stdout",
     "output_type": "stream",
     "text": [
      "              precision    recall  f1-score   support\n",
      "\n",
      "           A       0.41      0.43      0.42       391\n",
      "           B       0.41      0.27      0.33       369\n",
      "           C       0.52      0.54      0.53       380\n",
      "           D       0.65      0.76      0.70       474\n",
      "\n",
      "    accuracy                           0.52      1614\n",
      "   macro avg       0.50      0.50      0.50      1614\n",
      "weighted avg       0.51      0.52      0.51      1614\n",
      "\n"
     ]
    }
   ],
   "source": [
    "print(classification_report(y_val, y_pred_val))"
   ]
  },
  {
   "cell_type": "code",
   "execution_count": 299,
   "id": "cf9f8d4f-9ba6-46e3-a32b-1750d43ca12e",
   "metadata": {},
   "outputs": [
    {
     "data": {
      "image/png": "[encoded data removed]",
      "text/plain": [
       "<Figure size 800x500 with 2 Axes>"
      ]
     },
     "metadata": {},
     "output_type": "display_data"
    }
   ],
   "source": [
    "# Plot confusion matrix\n",
    "fig, ax = plt.subplots(figsize=(8, 5))\n",
    "cmp = ConfusionMatrixDisplay(\n",
    "    confusion_matrix(y_val, y_pred_val),\n",
    "    display_labels=[\"A\", \"B\", \"C\", \"D\"],\n",
    ")\n",
    "\n",
    "cmp.plot(ax=ax)\n",
    "plt.show();"
   ]
  },
  {
   "cell_type": "code",
   "execution_count": 300,
   "id": "c7dba79b-fd63-4e80-8b79-4d26d698de22",
   "metadata": {},
   "outputs": [
    {
     "data": {
      "text/plain": [
       "<Axes: title={'center': 'Feature importance'}, xlabel='Feature importance', ylabel='Features'>"
      ]
     },
     "execution_count": 300,
     "metadata": {},
     "output_type": "execute_result"
    },
    {
     "data": {
      "image/png": "[encoded data removed]",
      "text/plain": [
       "<Figure size 600x600 with 1 Axes>"
      ]
     },
     "metadata": {},
     "output_type": "display_data"
    }
   ],
   "source": [
    "# Plot feature importances\n",
    "lightgbm.plot_importance(model, figsize=(6, 6))"
   ]
  },
  {
   "cell_type": "markdown",
   "id": "a49c98f0-7671-4703-8c22-0bfdc61debee",
   "metadata": {},
   "source": [
    "### Version 2 : remove feature"
   ]
  },
  {
   "cell_type": "code",
   "execution_count": 154,
   "id": "c8cfb3c5-4cd4-41c5-b505-ae07a52297a1",
   "metadata": {},
   "outputs": [],
   "source": [
    "df_train = pd.read_csv('customer_segmentation_train.csv')\n",
    "df_test = pd.read_csv('customer_segmentation_test.csv')"
   ]
  },
  {
   "cell_type": "code",
   "execution_count": 155,
   "id": "98874ade-eefd-4491-b054-4473a7522ff5",
   "metadata": {},
   "outputs": [],
   "source": [
    "df_train_set = df_train.copy()"
   ]
  },
  {
   "cell_type": "code",
   "execution_count": 156,
   "id": "003c74e2-9810-45c9-918b-3a8f432ed634",
   "metadata": {},
   "outputs": [],
   "source": [
    "# Determine feature\n",
    "CAT_COLS = ['gender', 'ever_married', 'graduated', 'profession', 'spending_score', 'var_1']\n",
    "NUM_COLS = []\n",
    "\n",
    "cat_cols = [col for col in df_train_set.columns if col in CAT_COLS]\n",
    "num_cols = [col for col in df_train_set.columns if col in NUM_COLS]\n",
    "feature_cols = num_cols + cat_cols\n",
    "\n",
    "# Change category columns type\n",
    "for col in cat_cols:\n",
    "    df_train_set[col] = df_train_set[col].astype('category')\n",
    "\n",
    "# Split feature and target\n",
    "x = df_train_set[feature_cols]\n",
    "y = df_train_set['segmentation']\n",
    "\n",
    "x_train, x_val, y_train, y_val = train_test_split(x, y, test_size = 0.2, random_state = 42)"
   ]
  },
  {
   "cell_type": "code",
   "execution_count": 157,
   "id": "9b0b3bfb-b4be-4157-a8a0-27174f1ae934",
   "metadata": {},
   "outputs": [
    {
     "data": {
      "text/html": [
       "<style>#sk-container-id-14 {color: black;background-color: white;}#sk-container-id-14 pre{padding: 0;}#sk-container-id-14 div.sk-toggleable {background-color: white;}#sk-container-id-14 label.sk-toggleable__label {cursor: pointer;display: block;width: 100%;margin-bottom: 0;padding: 0.3em;box-sizing: border-box;text-align: center;}#sk-container-id-14 label.sk-toggleable__label-arrow:before {content: \"▸\";float: left;margin-right: 0.25em;color: #696969;}#sk-container-id-14 label.sk-toggleable__label-arrow:hover:before {color: black;}#sk-container-id-14 div.sk-estimator:hover label.sk-toggleable__label-arrow:before {color: black;}#sk-container-id-14 div.sk-toggleable__content {max-height: 0;max-width: 0;overflow: hidden;text-align: left;background-color: #f0f8ff;}#sk-container-id-14 div.sk-toggleable__content pre {margin: 0.2em;color: black;border-radius: 0.25em;background-color: #f0f8ff;}#sk-container-id-14 input.sk-toggleable__control:checked~div.sk-toggleable__content {max-height: 200px;max-width: 100%;overflow: auto;}#sk-container-id-14 input.sk-toggleable__control:checked~label.sk-toggleable__label-arrow:before {content: \"▾\";}#sk-container-id-14 div.sk-estimator input.sk-toggleable__control:checked~label.sk-toggleable__label {background-color: #d4ebff;}#sk-container-id-14 div.sk-label input.sk-toggleable__control:checked~label.sk-toggleable__label {background-color: #d4ebff;}#sk-container-id-14 input.sk-hidden--visually {border: 0;clip: rect(1px 1px 1px 1px);clip: rect(1px, 1px, 1px, 1px);height: 1px;margin: -1px;overflow: hidden;padding: 0;position: absolute;width: 1px;}#sk-container-id-14 div.sk-estimator {font-family: monospace;background-color: #f0f8ff;border: 1px dotted black;border-radius: 0.25em;box-sizing: border-box;margin-bottom: 0.5em;}#sk-container-id-14 div.sk-estimator:hover {background-color: #d4ebff;}#sk-container-id-14 div.sk-parallel-item::after {content: \"\";width: 100%;border-bottom: 1px solid gray;flex-grow: 1;}#sk-container-id-14 div.sk-label:hover label.sk-toggleable__label {background-color: #d4ebff;}#sk-container-id-14 div.sk-serial::before {content: \"\";position: absolute;border-left: 1px solid gray;box-sizing: border-box;top: 0;bottom: 0;left: 50%;z-index: 0;}#sk-container-id-14 div.sk-serial {display: flex;flex-direction: column;align-items: center;background-color: white;padding-right: 0.2em;padding-left: 0.2em;position: relative;}#sk-container-id-14 div.sk-item {position: relative;z-index: 1;}#sk-container-id-14 div.sk-parallel {display: flex;align-items: stretch;justify-content: center;background-color: white;position: relative;}#sk-container-id-14 div.sk-item::before, #sk-container-id-14 div.sk-parallel-item::before {content: \"\";position: absolute;border-left: 1px solid gray;box-sizing: border-box;top: 0;bottom: 0;left: 50%;z-index: -1;}#sk-container-id-14 div.sk-parallel-item {display: flex;flex-direction: column;z-index: 1;position: relative;background-color: white;}#sk-container-id-14 div.sk-parallel-item:first-child::after {align-self: flex-end;width: 50%;}#sk-container-id-14 div.sk-parallel-item:last-child::after {align-self: flex-start;width: 50%;}#sk-container-id-14 div.sk-parallel-item:only-child::after {width: 0;}#sk-container-id-14 div.sk-dashed-wrapped {border: 1px dashed gray;margin: 0 0.4em 0.5em 0.4em;box-sizing: border-box;padding-bottom: 0.4em;background-color: white;}#sk-container-id-14 div.sk-label label {font-family: monospace;font-weight: bold;display: inline-block;line-height: 1.2em;}#sk-container-id-14 div.sk-label-container {text-align: center;}#sk-container-id-14 div.sk-container {/* jupyter's `normalize.less` sets `[hidden] { display: none; }` but bootstrap.min.css set `[hidden] { display: none !important; }` so we also need the `!important` here to be able to override the default hidden behavior on the sphinx rendered scikit-learn.org. See: https://github.com/scikit-learn/scikit-learn/issues/21755 */display: inline-block !important;position: relative;}#sk-container-id-14 div.sk-text-repr-fallback {display: none;}</style><div id=\"sk-container-id-14\" class=\"sk-top-container\"><div class=\"sk-text-repr-fallback\"><pre>LGBMClassifier(learning_rate=0.01, objective=&#x27;multiclass&#x27;)</pre><b>In a Jupyter environment, please rerun this cell to show the HTML representation or trust the notebook. <br />On GitHub, the HTML representation is unable to render, please try loading this page with nbviewer.org.</b></div><div class=\"sk-container\" hidden><div class=\"sk-item\"><div class=\"sk-estimator sk-toggleable\"><input class=\"sk-toggleable__control sk-hidden--visually\" id=\"sk-estimator-id-14\" type=\"checkbox\" checked><label for=\"sk-estimator-id-14\" class=\"sk-toggleable__label sk-toggleable__label-arrow\">LGBMClassifier</label><div class=\"sk-toggleable__content\"><pre>LGBMClassifier(learning_rate=0.01, objective=&#x27;multiclass&#x27;)</pre></div></div></div></div></div>"
      ],
      "text/plain": [
       "LGBMClassifier(learning_rate=0.01, objective='multiclass')"
      ]
     },
     "execution_count": 157,
     "metadata": {},
     "output_type": "execute_result"
    }
   ],
   "source": [
    "model = lightgbm.LGBMClassifier(boosting_type='gbdt',\n",
    "                                num_leaves = 31,\n",
    "                                learning_rate = 0.01,\n",
    "                                n_estimators=100,\n",
    "                                objective='multiclass',\n",
    "                                importance_type='split'\n",
    "                               )\n",
    "model.fit(x_train, y_train)"
   ]
  },
  {
   "cell_type": "code",
   "execution_count": 158,
   "id": "4515a70b-7352-4ed1-b039-d5496bcc5010",
   "metadata": {},
   "outputs": [
    {
     "name": "stdout",
     "output_type": "stream",
     "text": [
      "Train accuracy : 0.5320731329408119\n",
      "Test accuracy : 0.4950433705080545\n"
     ]
    }
   ],
   "source": [
    "y_pred_train = model.predict(x_train)\n",
    "train_accuracy = accuracy_score(y_pred_train, y_train)\n",
    "\n",
    "y_pred_val = model.predict(x_val)\n",
    "test_accuracy = accuracy_score(y_pred_val, y_val)\n",
    "\n",
    "print(f\"Train accuracy : {train_accuracy}\")\n",
    "print(f\"Test accuracy : {test_accuracy}\")"
   ]
  },
  {
   "cell_type": "code",
   "execution_count": 159,
   "id": "11482c7a-b193-4e7c-91af-f8d37b0994a6",
   "metadata": {},
   "outputs": [
    {
     "name": "stdout",
     "output_type": "stream",
     "text": [
      "              precision    recall  f1-score   support\n",
      "\n",
      "           A       0.41      0.38      0.40       391\n",
      "           B       0.35      0.26      0.30       369\n",
      "           C       0.50      0.58      0.54       380\n",
      "           D       0.62      0.70      0.66       474\n",
      "\n",
      "    accuracy                           0.50      1614\n",
      "   macro avg       0.47      0.48      0.47      1614\n",
      "weighted avg       0.48      0.50      0.48      1614\n",
      "\n"
     ]
    }
   ],
   "source": [
    "print(classification_report(y_val, y_pred_val))"
   ]
  },
  {
   "cell_type": "code",
   "execution_count": 160,
   "id": "a41301a5-960d-4777-a59c-1720a0b52178",
   "metadata": {},
   "outputs": [
    {
     "data": {
      "text/plain": [
       "<Axes: title={'center': 'Feature importance'}, xlabel='Feature importance', ylabel='Features'>"
      ]
     },
     "execution_count": 160,
     "metadata": {},
     "output_type": "execute_result"
    },
    {
     "data": {
      "image/png": "[encoded data removed]",
      "text/plain": [
       "<Figure size 600x600 with 1 Axes>"
      ]
     },
     "metadata": {},
     "output_type": "display_data"
    }
   ],
   "source": [
    "# Plot feature importances\n",
    "lightgbm.plot_importance(model, figsize=(6, 6))"
   ]
  },
  {
   "cell_type": "markdown",
   "id": "ced1f982-e00f-4aa8-a8ee-b6559aed0e68",
   "metadata": {},
   "source": [
    "### Version 3 : feature engineering"
   ]
  },
  {
   "cell_type": "code",
   "execution_count": 161,
   "id": "3dd5ddd3-0b8d-47e2-9183-f74dd033c50e",
   "metadata": {},
   "outputs": [],
   "source": [
    "df_train = pd.read_csv('customer_segmentation_train.csv')\n",
    "df_test = pd.read_csv('customer_segmentation_test.csv')"
   ]
  },
  {
   "cell_type": "code",
   "execution_count": 162,
   "id": "472a4aa9-c214-4591-b6df-963273b7b3ab",
   "metadata": {},
   "outputs": [],
   "source": [
    "df_train_set = df_train.copy()"
   ]
  },
  {
   "cell_type": "code",
   "execution_count": 163,
   "id": "2fd5cf54-992c-4654-ac87-3989ff33d72a",
   "metadata": {},
   "outputs": [],
   "source": [
    "# df_train_set = df_train_set[df_train_set['work_experience'].notna()]\n",
    "# df_train_set = df_train_set[df_train_set['family_size'].notna()]"
   ]
  },
  {
   "cell_type": "code",
   "execution_count": 164,
   "id": "284b62b4-c468-4d95-93e2-2e77bb79f064",
   "metadata": {},
   "outputs": [
    {
     "data": {
      "text/plain": [
       "0.0"
      ]
     },
     "execution_count": 164,
     "metadata": {},
     "output_type": "execute_result"
    },
    {
     "data": {
      "text/plain": [
       "14.0"
      ]
     },
     "execution_count": 164,
     "metadata": {},
     "output_type": "execute_result"
    }
   ],
   "source": [
    "df_train_set['work_experience'].min()\n",
    "df_train_set['work_experience'].max()"
   ]
  },
  {
   "cell_type": "code",
   "execution_count": 167,
   "id": "b62f992b-f116-40af-93c8-92ac0fa3ec03",
   "metadata": {},
   "outputs": [],
   "source": [
    "df_train_set['work_exp_ratio'] = df_train_set['work_experience'] / (df_train_set['age'] - 18)\n",
    "\n",
    "df_train_set['age_diif_median_A'] = df_train_set['age'] - df_train_set[df_train_set['segmentation'] == 'A']['age'].median()\n",
    "df_train_set['age_diif_median_B'] = df_train_set['age'] - df_train_set[df_train_set['segmentation'] == 'B']['age'].median()\n",
    "df_train_set['age_diif_median_C'] = df_train_set['age'] - df_train_set[df_train_set['segmentation'] == 'C']['age'].median()\n",
    "df_train_set['age_diif_median_D'] = df_train_set['age'] - df_train_set[df_train_set['segmentation'] == 'D']['age'].median()\n",
    "\n",
    "df_train_set['work_diif_median_A'] = df_train_set['work_experience'] - df_train_set[df_train_set['segmentation'] == 'A']['work_experience'].median()\n",
    "df_train_set['work_diif_median_B'] = df_train_set['work_experience'] - df_train_set[df_train_set['segmentation'] == 'B']['work_experience'].median()\n",
    "df_train_set['work_diif_median_C'] = df_train_set['work_experience'] - df_train_set[df_train_set['segmentation'] == 'C']['work_experience'].median()\n",
    "df_train_set['work_diif_median_D'] = df_train_set['work_experience'] - df_train_set[df_train_set['segmentation'] == 'D']['work_experience'].median()"
   ]
  },
  {
   "cell_type": "code",
   "execution_count": 168,
   "id": "8cbd645e-4e9c-42f1-a582-bb9b255bd182",
   "metadata": {},
   "outputs": [],
   "source": [
    "df_train_set['have_kids'] = 'No'\n",
    "df_train_set.loc[(df_train_set['ever_married'] == 'Yes') & (df_train_set['family_size'] >= 3), 'have_kids'] = 'Yes'"
   ]
  },
  {
   "cell_type": "code",
   "execution_count": 169,
   "id": "74cc7749-24c1-47ee-8de3-21a45ab0019e",
   "metadata": {},
   "outputs": [
    {
     "data": {
      "text/plain": [
       "Index(['id', 'gender', 'ever_married', 'age', 'graduated', 'profession',\n",
       "       'work_experience', 'spending_score', 'family_size', 'var_1',\n",
       "       'segmentation', 'work_exp_ratio', 'age_diif_median_A',\n",
       "       'age_diif_median_B', 'age_diif_median_C', 'age_diif_median_D',\n",
       "       'work_diif_median_A', 'work_diif_median_B', 'work_diif_median_C',\n",
       "       'work_diif_median_D', 'have_kids'],\n",
       "      dtype='object')"
      ]
     },
     "execution_count": 169,
     "metadata": {},
     "output_type": "execute_result"
    }
   ],
   "source": [
    "df_train_set.columns"
   ]
  },
  {
   "cell_type": "code",
   "execution_count": 170,
   "id": "2ecaec67-a107-428a-8d7b-d3baf7d9e2be",
   "metadata": {},
   "outputs": [],
   "source": [
    "# Determine feature\n",
    "CAT_COLS = ['gender', 'ever_married', 'graduated', 'profession', 'spending_score', 'var_1', 'have_kids']\n",
    "NUM_COLS = ['age', 'work_experience', 'family_size',\n",
    "            'age_diif_median_A', 'age_diif_median_B', 'age_diif_median_C', 'age_diif_median_D',\n",
    "            'work_diif_median_A', 'work_diif_median_B', 'work_diif_median_C', 'work_diif_median_D']\n",
    "\n",
    "cat_cols = [col for col in df_train_set.columns if col in CAT_COLS]\n",
    "num_cols = [col for col in df_train_set.columns if col in NUM_COLS]\n",
    "feature_cols = num_cols + cat_cols\n",
    "\n",
    "# Change category columns type\n",
    "for col in cat_cols:\n",
    "    df_train_set[col] = df_train_set[col].astype('category')\n",
    "\n",
    "# Split feature and target\n",
    "x = df_train_set[feature_cols]\n",
    "y = df_train_set['segmentation']\n",
    "\n",
    "x_train, x_val, y_train, y_val = train_test_split(x, y, test_size = 0.2, random_state = 42)"
   ]
  },
  {
   "cell_type": "code",
   "execution_count": 171,
   "id": "bcf41c91-5207-4831-b34b-4f086018fe9e",
   "metadata": {},
   "outputs": [
    {
     "data": {
      "text/html": [
       "<style>#sk-container-id-15 {color: black;background-color: white;}#sk-container-id-15 pre{padding: 0;}#sk-container-id-15 div.sk-toggleable {background-color: white;}#sk-container-id-15 label.sk-toggleable__label {cursor: pointer;display: block;width: 100%;margin-bottom: 0;padding: 0.3em;box-sizing: border-box;text-align: center;}#sk-container-id-15 label.sk-toggleable__label-arrow:before {content: \"▸\";float: left;margin-right: 0.25em;color: #696969;}#sk-container-id-15 label.sk-toggleable__label-arrow:hover:before {color: black;}#sk-container-id-15 div.sk-estimator:hover label.sk-toggleable__label-arrow:before {color: black;}#sk-container-id-15 div.sk-toggleable__content {max-height: 0;max-width: 0;overflow: hidden;text-align: left;background-color: #f0f8ff;}#sk-container-id-15 div.sk-toggleable__content pre {margin: 0.2em;color: black;border-radius: 0.25em;background-color: #f0f8ff;}#sk-container-id-15 input.sk-toggleable__control:checked~div.sk-toggleable__content {max-height: 200px;max-width: 100%;overflow: auto;}#sk-container-id-15 input.sk-toggleable__control:checked~label.sk-toggleable__label-arrow:before {content: \"▾\";}#sk-container-id-15 div.sk-estimator input.sk-toggleable__control:checked~label.sk-toggleable__label {background-color: #d4ebff;}#sk-container-id-15 div.sk-label input.sk-toggleable__control:checked~label.sk-toggleable__label {background-color: #d4ebff;}#sk-container-id-15 input.sk-hidden--visually {border: 0;clip: rect(1px 1px 1px 1px);clip: rect(1px, 1px, 1px, 1px);height: 1px;margin: -1px;overflow: hidden;padding: 0;position: absolute;width: 1px;}#sk-container-id-15 div.sk-estimator {font-family: monospace;background-color: #f0f8ff;border: 1px dotted black;border-radius: 0.25em;box-sizing: border-box;margin-bottom: 0.5em;}#sk-container-id-15 div.sk-estimator:hover {background-color: #d4ebff;}#sk-container-id-15 div.sk-parallel-item::after {content: \"\";width: 100%;border-bottom: 1px solid gray;flex-grow: 1;}#sk-container-id-15 div.sk-label:hover label.sk-toggleable__label {background-color: #d4ebff;}#sk-container-id-15 div.sk-serial::before {content: \"\";position: absolute;border-left: 1px solid gray;box-sizing: border-box;top: 0;bottom: 0;left: 50%;z-index: 0;}#sk-container-id-15 div.sk-serial {display: flex;flex-direction: column;align-items: center;background-color: white;padding-right: 0.2em;padding-left: 0.2em;position: relative;}#sk-container-id-15 div.sk-item {position: relative;z-index: 1;}#sk-container-id-15 div.sk-parallel {display: flex;align-items: stretch;justify-content: center;background-color: white;position: relative;}#sk-container-id-15 div.sk-item::before, #sk-container-id-15 div.sk-parallel-item::before {content: \"\";position: absolute;border-left: 1px solid gray;box-sizing: border-box;top: 0;bottom: 0;left: 50%;z-index: -1;}#sk-container-id-15 div.sk-parallel-item {display: flex;flex-direction: column;z-index: 1;position: relative;background-color: white;}#sk-container-id-15 div.sk-parallel-item:first-child::after {align-self: flex-end;width: 50%;}#sk-container-id-15 div.sk-parallel-item:last-child::after {align-self: flex-start;width: 50%;}#sk-container-id-15 div.sk-parallel-item:only-child::after {width: 0;}#sk-container-id-15 div.sk-dashed-wrapped {border: 1px dashed gray;margin: 0 0.4em 0.5em 0.4em;box-sizing: border-box;padding-bottom: 0.4em;background-color: white;}#sk-container-id-15 div.sk-label label {font-family: monospace;font-weight: bold;display: inline-block;line-height: 1.2em;}#sk-container-id-15 div.sk-label-container {text-align: center;}#sk-container-id-15 div.sk-container {/* jupyter's `normalize.less` sets `[hidden] { display: none; }` but bootstrap.min.css set `[hidden] { display: none !important; }` so we also need the `!important` here to be able to override the default hidden behavior on the sphinx rendered scikit-learn.org. See: https://github.com/scikit-learn/scikit-learn/issues/21755 */display: inline-block !important;position: relative;}#sk-container-id-15 div.sk-text-repr-fallback {display: none;}</style><div id=\"sk-container-id-15\" class=\"sk-top-container\"><div class=\"sk-text-repr-fallback\"><pre>LGBMClassifier(learning_rate=0.01, objective=&#x27;multiclass&#x27;)</pre><b>In a Jupyter environment, please rerun this cell to show the HTML representation or trust the notebook. <br />On GitHub, the HTML representation is unable to render, please try loading this page with nbviewer.org.</b></div><div class=\"sk-container\" hidden><div class=\"sk-item\"><div class=\"sk-estimator sk-toggleable\"><input class=\"sk-toggleable__control sk-hidden--visually\" id=\"sk-estimator-id-15\" type=\"checkbox\" checked><label for=\"sk-estimator-id-15\" class=\"sk-toggleable__label sk-toggleable__label-arrow\">LGBMClassifier</label><div class=\"sk-toggleable__content\"><pre>LGBMClassifier(learning_rate=0.01, objective=&#x27;multiclass&#x27;)</pre></div></div></div></div></div>"
      ],
      "text/plain": [
       "LGBMClassifier(learning_rate=0.01, objective='multiclass')"
      ]
     },
     "execution_count": 171,
     "metadata": {},
     "output_type": "execute_result"
    }
   ],
   "source": [
    "model = lightgbm.LGBMClassifier(boosting_type='gbdt',\n",
    "                                num_leaves = 31,\n",
    "                                learning_rate = 0.01,\n",
    "                                n_estimators=100,\n",
    "                                objective='multiclass',\n",
    "                                importance_type='split'\n",
    "                               )\n",
    "model.fit(x_train, y_train)"
   ]
  },
  {
   "cell_type": "code",
   "execution_count": 172,
   "id": "ae1b6422-d232-4a2e-b958-ef5f742855c4",
   "metadata": {},
   "outputs": [
    {
     "name": "stdout",
     "output_type": "stream",
     "text": [
      "Train accuracy : 0.5824295010845987\n",
      "Test accuracy : 0.5154894671623296\n"
     ]
    }
   ],
   "source": [
    "y_pred_train = model.predict(x_train)\n",
    "train_accuracy = accuracy_score(y_pred_train, y_train)\n",
    "\n",
    "y_pred_val = model.predict(x_val)\n",
    "test_accuracy = accuracy_score(y_pred_val, y_val)\n",
    "\n",
    "print(f\"Train accuracy : {train_accuracy}\")\n",
    "print(f\"Test accuracy : {test_accuracy}\")"
   ]
  },
  {
   "cell_type": "code",
   "execution_count": 173,
   "id": "42ff1341-7814-49a7-9876-e8809642c89c",
   "metadata": {},
   "outputs": [
    {
     "name": "stdout",
     "output_type": "stream",
     "text": [
      "              precision    recall  f1-score   support\n",
      "\n",
      "           A       0.41      0.43      0.42       391\n",
      "           B       0.41      0.27      0.33       369\n",
      "           C       0.52      0.54      0.53       380\n",
      "           D       0.64      0.75      0.69       474\n",
      "\n",
      "    accuracy                           0.52      1614\n",
      "   macro avg       0.49      0.50      0.49      1614\n",
      "weighted avg       0.50      0.52      0.50      1614\n",
      "\n"
     ]
    }
   ],
   "source": [
    "from sklearn.metrics import classification_report\n",
    "\n",
    "print(classification_report(y_val, y_pred_val))"
   ]
  },
  {
   "cell_type": "code",
   "execution_count": 77,
   "id": "dda3250f-4a40-429a-9be2-3ba24ea18636",
   "metadata": {},
   "outputs": [
    {
     "data": {
      "text/plain": [
       "<Axes: title={'center': 'Feature importance'}, xlabel='Feature importance', ylabel='Features'>"
      ]
     },
     "execution_count": 77,
     "metadata": {},
     "output_type": "execute_result"
    },
    {
     "data": {
      "image/png": "[encoded data removed]",
      "text/plain": [
       "<Figure size 600x600 with 1 Axes>"
      ]
     },
     "metadata": {},
     "output_type": "display_data"
    }
   ],
   "source": [
    "# Plot feature importances\n",
    "lightgbm.plot_importance(model, figsize=(6, 6))"
   ]
  },
  {
   "cell_type": "markdown",
   "id": "4b543b6a-2001-48be-8b87-affe5a20fdeb",
   "metadata": {},
   "source": [
    "## Decision Tree"
   ]
  },
  {
   "cell_type": "code",
   "execution_count": 197,
   "id": "536deba7-8a2a-4b59-8c71-1eedf2979f7d",
   "metadata": {},
   "outputs": [],
   "source": [
    "df_train = pd.read_csv('customer_segmentation_train.csv')\n",
    "df_test = pd.read_csv('customer_segmentation_test.csv')"
   ]
  },
  {
   "cell_type": "code",
   "execution_count": 198,
   "id": "858016c9-8e8d-4ec2-8be2-1a4f5f3f31ee",
   "metadata": {},
   "outputs": [],
   "source": [
    "df_train_set = df_train.copy()"
   ]
  },
  {
   "cell_type": "code",
   "execution_count": 199,
   "id": "25ec321c-4a16-48b1-92a5-0d9d4401728a",
   "metadata": {},
   "outputs": [],
   "source": [
    "# Determine feature\n",
    "CAT_COLS = ['gender', 'ever_married', 'graduated', 'profession', 'spending_score', 'var_1']\n",
    "NUM_COLS = ['age', 'work_experience', 'family_size']\n",
    "\n",
    "cat_cols = [col for col in df_train_set.columns if col in CAT_COLS]\n",
    "num_cols = [col for col in df_train_set.columns if col in NUM_COLS]\n",
    "feature_cols = num_cols + cat_cols\n",
    "\n",
    "# Split feature and target\n",
    "x = df_train_set[feature_cols]\n",
    "y = df_train_set['segmentation']"
   ]
  },
  {
   "cell_type": "code",
   "execution_count": 200,
   "id": "d03f165b-77fe-4ac0-8a47-f1daf6df23ca",
   "metadata": {},
   "outputs": [],
   "source": [
    "from sklearn.model_selection import train_test_split\n",
    "\n",
    "x_train, x_val, y_train, y_val = train_test_split(x, y, test_size = 0.2, random_state = 42)"
   ]
  },
  {
   "cell_type": "code",
   "execution_count": 201,
   "id": "394e32fe-3e08-46d3-854d-377e3517d57f",
   "metadata": {},
   "outputs": [],
   "source": [
    "import category_encoders as ce\n",
    "\n",
    "encoder = ce.OrdinalEncoder(cols=CAT_COLS)\n",
    "\n",
    "\n",
    "x_train = encoder.fit_transform(x_train)\n",
    "x_val = encoder.transform(x_val)"
   ]
  },
  {
   "cell_type": "code",
   "execution_count": 202,
   "id": "b71da25b-6dfa-48f0-aa90-f04ade7652d1",
   "metadata": {},
   "outputs": [],
   "source": [
    "from sklearn.tree import DecisionTreeClassifier"
   ]
  },
  {
   "cell_type": "code",
   "execution_count": 203,
   "id": "009a1514-d2d0-4888-adb2-79673487cde3",
   "metadata": {},
   "outputs": [],
   "source": [
    "clf_gini = DecisionTreeClassifier(criterion='gini', max_depth=3, random_state=42)"
   ]
  },
  {
   "cell_type": "code",
   "execution_count": 204,
   "id": "ed3fcad0-b731-421e-b18c-5964dedb3b6c",
   "metadata": {},
   "outputs": [
    {
     "data": {
      "text/plain": [
       "age                  0\n",
       "work_experience    659\n",
       "family_size        260\n",
       "gender               0\n",
       "ever_married         0\n",
       "graduated            0\n",
       "profession           0\n",
       "spending_score       0\n",
       "var_1                0\n",
       "dtype: int64"
      ]
     },
     "execution_count": 204,
     "metadata": {},
     "output_type": "execute_result"
    }
   ],
   "source": [
    "x_train.isna().sum()"
   ]
  },
  {
   "cell_type": "code",
   "execution_count": 205,
   "id": "510ec452-72b4-4ef9-960b-02c36f2ab5f2",
   "metadata": {},
   "outputs": [],
   "source": [
    "x_train['work_experience'] = x_train['work_experience'].fillna(x_train['work_experience'].median())\n",
    "x_train['family_size'] = x_train['family_size'].fillna(x_train['family_size'].median())"
   ]
  },
  {
   "cell_type": "code",
   "execution_count": 206,
   "id": "db22798b-3726-4b37-8b53-1f2a76d36dd2",
   "metadata": {},
   "outputs": [
    {
     "data": {
      "text/html": [
       "<style>#sk-container-id-18 {color: black;background-color: white;}#sk-container-id-18 pre{padding: 0;}#sk-container-id-18 div.sk-toggleable {background-color: white;}#sk-container-id-18 label.sk-toggleable__label {cursor: pointer;display: block;width: 100%;margin-bottom: 0;padding: 0.3em;box-sizing: border-box;text-align: center;}#sk-container-id-18 label.sk-toggleable__label-arrow:before {content: \"▸\";float: left;margin-right: 0.25em;color: #696969;}#sk-container-id-18 label.sk-toggleable__label-arrow:hover:before {color: black;}#sk-container-id-18 div.sk-estimator:hover label.sk-toggleable__label-arrow:before {color: black;}#sk-container-id-18 div.sk-toggleable__content {max-height: 0;max-width: 0;overflow: hidden;text-align: left;background-color: #f0f8ff;}#sk-container-id-18 div.sk-toggleable__content pre {margin: 0.2em;color: black;border-radius: 0.25em;background-color: #f0f8ff;}#sk-container-id-18 input.sk-toggleable__control:checked~div.sk-toggleable__content {max-height: 200px;max-width: 100%;overflow: auto;}#sk-container-id-18 input.sk-toggleable__control:checked~label.sk-toggleable__label-arrow:before {content: \"▾\";}#sk-container-id-18 div.sk-estimator input.sk-toggleable__control:checked~label.sk-toggleable__label {background-color: #d4ebff;}#sk-container-id-18 div.sk-label input.sk-toggleable__control:checked~label.sk-toggleable__label {background-color: #d4ebff;}#sk-container-id-18 input.sk-hidden--visually {border: 0;clip: rect(1px 1px 1px 1px);clip: rect(1px, 1px, 1px, 1px);height: 1px;margin: -1px;overflow: hidden;padding: 0;position: absolute;width: 1px;}#sk-container-id-18 div.sk-estimator {font-family: monospace;background-color: #f0f8ff;border: 1px dotted black;border-radius: 0.25em;box-sizing: border-box;margin-bottom: 0.5em;}#sk-container-id-18 div.sk-estimator:hover {background-color: #d4ebff;}#sk-container-id-18 div.sk-parallel-item::after {content: \"\";width: 100%;border-bottom: 1px solid gray;flex-grow: 1;}#sk-container-id-18 div.sk-label:hover label.sk-toggleable__label {background-color: #d4ebff;}#sk-container-id-18 div.sk-serial::before {content: \"\";position: absolute;border-left: 1px solid gray;box-sizing: border-box;top: 0;bottom: 0;left: 50%;z-index: 0;}#sk-container-id-18 div.sk-serial {display: flex;flex-direction: column;align-items: center;background-color: white;padding-right: 0.2em;padding-left: 0.2em;position: relative;}#sk-container-id-18 div.sk-item {position: relative;z-index: 1;}#sk-container-id-18 div.sk-parallel {display: flex;align-items: stretch;justify-content: center;background-color: white;position: relative;}#sk-container-id-18 div.sk-item::before, #sk-container-id-18 div.sk-parallel-item::before {content: \"\";position: absolute;border-left: 1px solid gray;box-sizing: border-box;top: 0;bottom: 0;left: 50%;z-index: -1;}#sk-container-id-18 div.sk-parallel-item {display: flex;flex-direction: column;z-index: 1;position: relative;background-color: white;}#sk-container-id-18 div.sk-parallel-item:first-child::after {align-self: flex-end;width: 50%;}#sk-container-id-18 div.sk-parallel-item:last-child::after {align-self: flex-start;width: 50%;}#sk-container-id-18 div.sk-parallel-item:only-child::after {width: 0;}#sk-container-id-18 div.sk-dashed-wrapped {border: 1px dashed gray;margin: 0 0.4em 0.5em 0.4em;box-sizing: border-box;padding-bottom: 0.4em;background-color: white;}#sk-container-id-18 div.sk-label label {font-family: monospace;font-weight: bold;display: inline-block;line-height: 1.2em;}#sk-container-id-18 div.sk-label-container {text-align: center;}#sk-container-id-18 div.sk-container {/* jupyter's `normalize.less` sets `[hidden] { display: none; }` but bootstrap.min.css set `[hidden] { display: none !important; }` so we also need the `!important` here to be able to override the default hidden behavior on the sphinx rendered scikit-learn.org. See: https://github.com/scikit-learn/scikit-learn/issues/21755 */display: inline-block !important;position: relative;}#sk-container-id-18 div.sk-text-repr-fallback {display: none;}</style><div id=\"sk-container-id-18\" class=\"sk-top-container\"><div class=\"sk-text-repr-fallback\"><pre>DecisionTreeClassifier(max_depth=3, random_state=42)</pre><b>In a Jupyter environment, please rerun this cell to show the HTML representation or trust the notebook. <br />On GitHub, the HTML representation is unable to render, please try loading this page with nbviewer.org.</b></div><div class=\"sk-container\" hidden><div class=\"sk-item\"><div class=\"sk-estimator sk-toggleable\"><input class=\"sk-toggleable__control sk-hidden--visually\" id=\"sk-estimator-id-18\" type=\"checkbox\" checked><label for=\"sk-estimator-id-18\" class=\"sk-toggleable__label sk-toggleable__label-arrow\">DecisionTreeClassifier</label><div class=\"sk-toggleable__content\"><pre>DecisionTreeClassifier(max_depth=3, random_state=42)</pre></div></div></div></div></div>"
      ],
      "text/plain": [
       "DecisionTreeClassifier(max_depth=3, random_state=42)"
      ]
     },
     "execution_count": 206,
     "metadata": {},
     "output_type": "execute_result"
    }
   ],
   "source": [
    "clf_gini.fit(x_train, y_train)"
   ]
  },
  {
   "cell_type": "code",
   "execution_count": 207,
   "id": "454148fa-7ca2-4fae-9672-bb24a4ffd643",
   "metadata": {},
   "outputs": [],
   "source": [
    "x_val['work_experience'] = x_val['work_experience'].fillna(x_val['work_experience'].median())\n",
    "x_val['family_size'] = x_val['family_size'].fillna(x_val['family_size'].median())"
   ]
  },
  {
   "cell_type": "code",
   "execution_count": 208,
   "id": "b035a964-69c2-40eb-8613-349dad03a9e5",
   "metadata": {},
   "outputs": [
    {
     "name": "stdout",
     "output_type": "stream",
     "text": [
      "Train accuracy : 0.496436318562132\n",
      "Test accuracy : 0.49008674101610905\n"
     ]
    }
   ],
   "source": [
    "y_pred_train = clf_gini.predict(x_train)\n",
    "train_accuracy = accuracy_score(y_pred_train, y_train)\n",
    "\n",
    "y_pred_val = clf_gini.predict(x_val)\n",
    "test_accuracy = accuracy_score(y_pred_val, y_val)\n",
    "\n",
    "print(f\"Train accuracy : {train_accuracy}\")\n",
    "print(f\"Test accuracy : {test_accuracy}\")"
   ]
  },
  {
   "cell_type": "code",
   "execution_count": 209,
   "id": "0574d552-b1ad-4a92-86e2-560b8706beec",
   "metadata": {},
   "outputs": [
    {
     "name": "stdout",
     "output_type": "stream",
     "text": [
      "              precision    recall  f1-score   support\n",
      "\n",
      "           A       0.37      0.40      0.39       391\n",
      "           B       0.40      0.17      0.24       369\n",
      "           C       0.49      0.54      0.51       380\n",
      "           D       0.60      0.77      0.67       474\n",
      "\n",
      "    accuracy                           0.49      1614\n",
      "   macro avg       0.46      0.47      0.45      1614\n",
      "weighted avg       0.47      0.49      0.47      1614\n",
      "\n"
     ]
    }
   ],
   "source": [
    "print(classification_report(y_val, y_pred_val))"
   ]
  },
  {
   "cell_type": "markdown",
   "id": "ba7be2f3-5bff-42eb-83dc-7663174ae89c",
   "metadata": {},
   "source": [
    "## SVM"
   ]
  },
  {
   "cell_type": "code",
   "execution_count": 188,
   "id": "8bd1c42a-9185-4d57-b90d-301115e9ff04",
   "metadata": {},
   "outputs": [],
   "source": [
    "df_train = pd.read_csv('customer_segmentation_train.csv')\n",
    "df_test = pd.read_csv('customer_segmentation_test.csv')\n",
    "\n",
    "df_train_set = df_train.copy()"
   ]
  },
  {
   "cell_type": "code",
   "execution_count": 189,
   "id": "ff45186f-d2ce-4ad5-a1d9-b48dc8c7202b",
   "metadata": {},
   "outputs": [],
   "source": [
    "# Determine feature\n",
    "CAT_COLS = ['gender', 'ever_married', 'graduated', 'profession', 'spending_score', 'var_1']\n",
    "NUM_COLS = ['age', 'work_experience', 'family_size']\n",
    "\n",
    "cat_cols = [col for col in df_train_set.columns if col in CAT_COLS]\n",
    "num_cols = [col for col in df_train_set.columns if col in NUM_COLS]\n",
    "feature_cols = num_cols + cat_cols\n",
    "\n",
    "# Split feature and target\n",
    "x = df_train_set[feature_cols]\n",
    "y = df_train_set['segmentation']"
   ]
  },
  {
   "cell_type": "code",
   "execution_count": 190,
   "id": "10a34fa5-567c-438d-ab49-169ab3878647",
   "metadata": {},
   "outputs": [],
   "source": [
    "from sklearn.model_selection import train_test_split\n",
    "\n",
    "x_train, x_val, y_train, y_val = train_test_split(x, y, test_size = 0.2, random_state = 42)"
   ]
  },
  {
   "cell_type": "code",
   "execution_count": 191,
   "id": "ea333929-650e-4e3f-a2e7-ed9eff4d8fa3",
   "metadata": {},
   "outputs": [],
   "source": [
    "import category_encoders as ce\n",
    "\n",
    "encoder = ce.OrdinalEncoder(cols=CAT_COLS)\n",
    "\n",
    "\n",
    "x_train = encoder.fit_transform(x_train)\n",
    "x_val = encoder.transform(x_val)"
   ]
  },
  {
   "cell_type": "code",
   "execution_count": 192,
   "id": "547873e5-2943-4e69-a146-bf7b64e256c3",
   "metadata": {},
   "outputs": [],
   "source": [
    "x_train['work_experience'] = x_train['work_experience'].fillna(x_train['work_experience'].median())\n",
    "x_train['family_size'] = x_train['family_size'].fillna(x_train['family_size'].median())\n",
    "\n",
    "x_val['work_experience'] = x_val['work_experience'].fillna(x_val['work_experience'].median())\n",
    "x_val['family_size'] = x_val['family_size'].fillna(x_val['family_size'].median())"
   ]
  },
  {
   "cell_type": "code",
   "execution_count": 193,
   "id": "4287970b-a671-4c56-a85f-29aa7a508639",
   "metadata": {},
   "outputs": [
    {
     "data": {
      "text/html": [
       "<style>#sk-container-id-17 {color: black;background-color: white;}#sk-container-id-17 pre{padding: 0;}#sk-container-id-17 div.sk-toggleable {background-color: white;}#sk-container-id-17 label.sk-toggleable__label {cursor: pointer;display: block;width: 100%;margin-bottom: 0;padding: 0.3em;box-sizing: border-box;text-align: center;}#sk-container-id-17 label.sk-toggleable__label-arrow:before {content: \"▸\";float: left;margin-right: 0.25em;color: #696969;}#sk-container-id-17 label.sk-toggleable__label-arrow:hover:before {color: black;}#sk-container-id-17 div.sk-estimator:hover label.sk-toggleable__label-arrow:before {color: black;}#sk-container-id-17 div.sk-toggleable__content {max-height: 0;max-width: 0;overflow: hidden;text-align: left;background-color: #f0f8ff;}#sk-container-id-17 div.sk-toggleable__content pre {margin: 0.2em;color: black;border-radius: 0.25em;background-color: #f0f8ff;}#sk-container-id-17 input.sk-toggleable__control:checked~div.sk-toggleable__content {max-height: 200px;max-width: 100%;overflow: auto;}#sk-container-id-17 input.sk-toggleable__control:checked~label.sk-toggleable__label-arrow:before {content: \"▾\";}#sk-container-id-17 div.sk-estimator input.sk-toggleable__control:checked~label.sk-toggleable__label {background-color: #d4ebff;}#sk-container-id-17 div.sk-label input.sk-toggleable__control:checked~label.sk-toggleable__label {background-color: #d4ebff;}#sk-container-id-17 input.sk-hidden--visually {border: 0;clip: rect(1px 1px 1px 1px);clip: rect(1px, 1px, 1px, 1px);height: 1px;margin: -1px;overflow: hidden;padding: 0;position: absolute;width: 1px;}#sk-container-id-17 div.sk-estimator {font-family: monospace;background-color: #f0f8ff;border: 1px dotted black;border-radius: 0.25em;box-sizing: border-box;margin-bottom: 0.5em;}#sk-container-id-17 div.sk-estimator:hover {background-color: #d4ebff;}#sk-container-id-17 div.sk-parallel-item::after {content: \"\";width: 100%;border-bottom: 1px solid gray;flex-grow: 1;}#sk-container-id-17 div.sk-label:hover label.sk-toggleable__label {background-color: #d4ebff;}#sk-container-id-17 div.sk-serial::before {content: \"\";position: absolute;border-left: 1px solid gray;box-sizing: border-box;top: 0;bottom: 0;left: 50%;z-index: 0;}#sk-container-id-17 div.sk-serial {display: flex;flex-direction: column;align-items: center;background-color: white;padding-right: 0.2em;padding-left: 0.2em;position: relative;}#sk-container-id-17 div.sk-item {position: relative;z-index: 1;}#sk-container-id-17 div.sk-parallel {display: flex;align-items: stretch;justify-content: center;background-color: white;position: relative;}#sk-container-id-17 div.sk-item::before, #sk-container-id-17 div.sk-parallel-item::before {content: \"\";position: absolute;border-left: 1px solid gray;box-sizing: border-box;top: 0;bottom: 0;left: 50%;z-index: -1;}#sk-container-id-17 div.sk-parallel-item {display: flex;flex-direction: column;z-index: 1;position: relative;background-color: white;}#sk-container-id-17 div.sk-parallel-item:first-child::after {align-self: flex-end;width: 50%;}#sk-container-id-17 div.sk-parallel-item:last-child::after {align-self: flex-start;width: 50%;}#sk-container-id-17 div.sk-parallel-item:only-child::after {width: 0;}#sk-container-id-17 div.sk-dashed-wrapped {border: 1px dashed gray;margin: 0 0.4em 0.5em 0.4em;box-sizing: border-box;padding-bottom: 0.4em;background-color: white;}#sk-container-id-17 div.sk-label label {font-family: monospace;font-weight: bold;display: inline-block;line-height: 1.2em;}#sk-container-id-17 div.sk-label-container {text-align: center;}#sk-container-id-17 div.sk-container {/* jupyter's `normalize.less` sets `[hidden] { display: none; }` but bootstrap.min.css set `[hidden] { display: none !important; }` so we also need the `!important` here to be able to override the default hidden behavior on the sphinx rendered scikit-learn.org. See: https://github.com/scikit-learn/scikit-learn/issues/21755 */display: inline-block !important;position: relative;}#sk-container-id-17 div.sk-text-repr-fallback {display: none;}</style><div id=\"sk-container-id-17\" class=\"sk-top-container\"><div class=\"sk-text-repr-fallback\"><pre>SVC(kernel=&#x27;linear&#x27;)</pre><b>In a Jupyter environment, please rerun this cell to show the HTML representation or trust the notebook. <br />On GitHub, the HTML representation is unable to render, please try loading this page with nbviewer.org.</b></div><div class=\"sk-container\" hidden><div class=\"sk-item\"><div class=\"sk-estimator sk-toggleable\"><input class=\"sk-toggleable__control sk-hidden--visually\" id=\"sk-estimator-id-17\" type=\"checkbox\" checked><label for=\"sk-estimator-id-17\" class=\"sk-toggleable__label sk-toggleable__label-arrow\">SVC</label><div class=\"sk-toggleable__content\"><pre>SVC(kernel=&#x27;linear&#x27;)</pre></div></div></div></div></div>"
      ],
      "text/plain": [
       "SVC(kernel='linear')"
      ]
     },
     "execution_count": 193,
     "metadata": {},
     "output_type": "execute_result"
    }
   ],
   "source": [
    "from sklearn.svm import SVC\n",
    "\n",
    "# Create an SVM model for multiclass classification\n",
    "svm_model = SVC(kernel='linear', C=1.0, decision_function_shape='ovr')  # One-vs-Rest strategy\n",
    "\n",
    "# Train the model\n",
    "svm_model.fit(x_train, y_train)"
   ]
  },
  {
   "cell_type": "code",
   "execution_count": 194,
   "id": "3e9091a9-1584-413f-9641-19a271f5bac8",
   "metadata": {},
   "outputs": [
    {
     "name": "stdout",
     "output_type": "stream",
     "text": [
      "Train accuracy : 0.4727300898667493\n",
      "Test accuracy : 0.4541511771995043\n"
     ]
    }
   ],
   "source": [
    "y_pred_train = svm_model.predict(x_train)\n",
    "train_accuracy = accuracy_score(y_pred_train, y_train)\n",
    "\n",
    "y_pred_val =  svm_model.predict(x_val)\n",
    "test_accuracy = accuracy_score(y_pred_val, y_val)\n",
    "\n",
    "print(f\"Train accuracy : {train_accuracy}\")\n",
    "print(f\"Test accuracy : {test_accuracy}\")"
   ]
  },
  {
   "cell_type": "code",
   "execution_count": 196,
   "id": "98620b75-8873-489b-adc9-4d5e6859472f",
   "metadata": {},
   "outputs": [
    {
     "name": "stdout",
     "output_type": "stream",
     "text": [
      "              precision    recall  f1-score   support\n",
      "\n",
      "           A       0.35      0.44      0.39       391\n",
      "           B       0.35      0.08      0.13       369\n",
      "           C       0.41      0.59      0.49       380\n",
      "           D       0.62      0.65      0.63       474\n",
      "\n",
      "    accuracy                           0.45      1614\n",
      "   macro avg       0.43      0.44      0.41      1614\n",
      "weighted avg       0.44      0.45      0.42      1614\n",
      "\n"
     ]
    }
   ],
   "source": [
    "print(classification_report(y_val, y_pred_val))"
   ]
  },
  {
   "cell_type": "markdown",
   "id": "7836d2ef-e069-4965-b339-0fc32713930f",
   "metadata": {},
   "source": [
    "## AutoML"
   ]
  },
  {
   "cell_type": "code",
   "execution_count": 3,
   "id": "340a6314-21c6-4c27-95dc-9892f3d44521",
   "metadata": {},
   "outputs": [],
   "source": [
    "from autogluon.tabular import TabularDataset, TabularPredictor"
   ]
  },
  {
   "cell_type": "code",
   "execution_count": 4,
   "id": "23d9c8f7-9df0-46c0-a402-19afe6632539",
   "metadata": {},
   "outputs": [],
   "source": [
    "df_train = pd.read_csv('customer_segmentation_train.csv')\n",
    "df_test = pd.read_csv('customer_segmentation_test.csv')"
   ]
  },
  {
   "cell_type": "code",
   "execution_count": 5,
   "id": "298a3f7a-1c7b-49a0-9a70-9480dc0d26fb",
   "metadata": {},
   "outputs": [],
   "source": [
    "df_train_set = df_train.copy()"
   ]
  },
  {
   "cell_type": "code",
   "execution_count": 6,
   "id": "dd4c1309-1e90-40ca-9e43-b7ec43d8e8ab",
   "metadata": {},
   "outputs": [],
   "source": [
    "# Determine feature\n",
    "CAT_COLS = ['gender', 'ever_married', 'graduated', 'profession', 'spending_score', 'var_1']\n",
    "NUM_COLS = ['age', 'work_experience', 'family_size']\n",
    "\n",
    "cat_cols = [col for col in df_train_set.columns if col in CAT_COLS]\n",
    "num_cols = [col for col in df_train_set.columns if col in NUM_COLS]\n",
    "feature_cols = num_cols + cat_cols\n",
    "\n",
    "# Split feature and target\n",
    "x = df_train_set[feature_cols]\n",
    "y = df_train_set['segmentation']\n",
    "\n",
    "x_train, x_val, y_train, y_val = train_test_split(x, y, test_size = 0.2, random_state = 42)"
   ]
  },
  {
   "cell_type": "code",
   "execution_count": 7,
   "id": "4218328a-3168-4c39-9893-b09611ef3446",
   "metadata": {},
   "outputs": [],
   "source": [
    "x_train['segmentation'] = y_train\n",
    "x_val['segmentation'] = y_val"
   ]
  },
  {
   "cell_type": "code",
   "execution_count": null,
   "id": "0b169ec2-2927-4da4-b337-744e0113f3ce",
   "metadata": {
    "scrolled": true
   },
   "outputs": [
    {
     "name": "stderr",
     "output_type": "stream",
     "text": [
      "No path specified. Models will be saved in: \"AutogluonModels/ag-20230830_074611/\"\n",
      "Beginning AutoGluon training ...\n",
      "AutoGluon will save models to \"AutogluonModels/ag-20230830_074611/\"\n",
      "AutoGluon Version:  0.8.2\n",
      "Python Version:     3.10.11\n",
      "Operating System:   Linux\n",
      "Platform Machine:   x86_64\n",
      "Platform Version:   #1 SMP Debian 5.10.191-1 (2023-08-16)\n",
      "Disk Space Avail:   100.99 GB / 105.09 GB (96.1%)\n",
      "Train Data Rows:    6454\n",
      "Train Data Columns: 9\n",
      "Label Column: segmentation\n",
      "Preprocessing data ...\n",
      "AutoGluon infers your prediction problem is: 'multiclass' (because dtype of label-column == object).\n",
      "\t4 unique label values:  ['A', 'D', 'B', 'C']\n",
      "\tIf 'multiclass' is not the correct problem_type, please manually specify the problem_type parameter during predictor init (You may specify problem_type as one of: ['binary', 'multiclass', 'regression'])\n",
      "Train Data Class Count: 4\n",
      "Using Feature Generators to preprocess the data ...\n",
      "Fitting AutoMLPipelineFeatureGenerator...\n",
      "\tAvailable Memory:                    64672.08 MB\n",
      "\tTrain Data (Original)  Memory Usage: 2.53 MB (0.0% of available memory)\n",
      "\tInferring data type of each feature based on column values. Set feature_metadata_in to manually specify special dtypes of the features.\n",
      "/opt/conda/lib/python3.10/site-packages/autogluon/common/features/infer_types.py:118: UserWarning: Could not infer format, so each element will be parsed individually, falling back to `dateutil`. To ensure parsing is consistent and as-expected, please specify a format.\n",
      "  result = pd.to_datetime(X, errors=\"coerce\")\n",
      "/opt/conda/lib/python3.10/site-packages/autogluon/common/features/infer_types.py:118: UserWarning: Could not infer format, so each element will be parsed individually, falling back to `dateutil`. To ensure parsing is consistent and as-expected, please specify a format.\n",
      "  result = pd.to_datetime(X, errors=\"coerce\")\n",
      "/opt/conda/lib/python3.10/site-packages/autogluon/common/features/infer_types.py:118: UserWarning: Could not infer format, so each element will be parsed individually, falling back to `dateutil`. To ensure parsing is consistent and as-expected, please specify a format.\n",
      "  result = pd.to_datetime(X, errors=\"coerce\")\n",
      "/opt/conda/lib/python3.10/site-packages/autogluon/common/features/infer_types.py:118: UserWarning: Could not infer format, so each element will be parsed individually, falling back to `dateutil`. To ensure parsing is consistent and as-expected, please specify a format.\n",
      "  result = pd.to_datetime(X, errors=\"coerce\")\n",
      "/opt/conda/lib/python3.10/site-packages/autogluon/common/features/infer_types.py:118: UserWarning: Could not infer format, so each element will be parsed individually, falling back to `dateutil`. To ensure parsing is consistent and as-expected, please specify a format.\n",
      "  result = pd.to_datetime(X, errors=\"coerce\")\n",
      "/opt/conda/lib/python3.10/site-packages/autogluon/common/features/infer_types.py:118: UserWarning: Could not infer format, so each element will be parsed individually, falling back to `dateutil`. To ensure parsing is consistent and as-expected, please specify a format.\n",
      "  result = pd.to_datetime(X, errors=\"coerce\")\n",
      "\tStage 1 Generators:\n",
      "\t\tFitting AsTypeFeatureGenerator...\n",
      "\t\t\tNote: Converting 1 features to boolean dtype as they only contain 2 unique values.\n",
      "\tStage 2 Generators:\n",
      "\t\tFitting FillNaFeatureGenerator...\n",
      "\tStage 3 Generators:\n",
      "\t\tFitting IdentityFeatureGenerator...\n",
      "\t\tFitting CategoryFeatureGenerator...\n",
      "\t\t\tFitting CategoryMemoryMinimizeFeatureGenerator...\n",
      "\tStage 4 Generators:\n",
      "\t\tFitting DropUniqueFeatureGenerator...\n",
      "\tStage 5 Generators:\n",
      "\t\tFitting DropDuplicatesFeatureGenerator...\n",
      "\tTypes of features in original data (raw dtype, special dtypes):\n",
      "\t\t('float', [])  : 2 | ['work_experience', 'family_size']\n",
      "\t\t('int', [])    : 1 | ['age']\n",
      "\t\t('object', []) : 6 | ['gender', 'ever_married', 'graduated', 'profession', 'spending_score', ...]\n",
      "\tTypes of features in processed data (raw dtype, special dtypes):\n",
      "\t\t('category', [])  : 5 | ['ever_married', 'graduated', 'profession', 'spending_score', 'var_1']\n",
      "\t\t('float', [])     : 2 | ['work_experience', 'family_size']\n",
      "\t\t('int', [])       : 1 | ['age']\n",
      "\t\t('int', ['bool']) : 1 | ['gender']\n",
      "\t0.1s = Fit runtime\n",
      "\t9 features in original data used to generate 9 features in processed data.\n",
      "\tTrain Data (Processed) Memory Usage: 0.2 MB (0.0% of available memory)\n",
      "Data preprocessing and feature engineering runtime = 0.08s ...\n",
      "AutoGluon will gauge predictive performance using evaluation metric: 'accuracy'\n",
      "\tTo change this, specify the eval_metric parameter of Predictor()\n",
      "Automatically generating train/validation split with holdout_frac=0.1, Train Rows: 5808, Val Rows: 646\n",
      "User-specified model hyperparameters to be fit:\n",
      "{\n",
      "\t'NN_TORCH': {},\n",
      "\t'GBM': [{'extra_trees': True, 'ag_args': {'name_suffix': 'XT'}}, {}, 'GBMLarge'],\n",
      "\t'CAT': {},\n",
      "\t'XGB': {},\n",
      "\t'FASTAI': {},\n",
      "\t'RF': [{'criterion': 'gini', 'ag_args': {'name_suffix': 'Gini', 'problem_types': ['binary', 'multiclass']}}, {'criterion': 'entropy', 'ag_args': {'name_suffix': 'Entr', 'problem_types': ['binary', 'multiclass']}}, {'criterion': 'squared_error', 'ag_args': {'name_suffix': 'MSE', 'problem_types': ['regression', 'quantile']}}],\n",
      "\t'XT': [{'criterion': 'gini', 'ag_args': {'name_suffix': 'Gini', 'problem_types': ['binary', 'multiclass']}}, {'criterion': 'entropy', 'ag_args': {'name_suffix': 'Entr', 'problem_types': ['binary', 'multiclass']}}, {'criterion': 'squared_error', 'ag_args': {'name_suffix': 'MSE', 'problem_types': ['regression', 'quantile']}}],\n",
      "\t'KNN': [{'weights': 'uniform', 'ag_args': {'name_suffix': 'Unif'}}, {'weights': 'distance', 'ag_args': {'name_suffix': 'Dist'}}],\n",
      "}\n",
      "Fitting 13 L1 models ...\n",
      "Fitting model: KNeighborsUnif ...\n",
      "\t0.37\t = Validation score   (accuracy)\n",
      "\t0.01s\t = Training   runtime\n",
      "\t0.01s\t = Validation runtime\n",
      "Fitting model: KNeighborsDist ...\n",
      "\t0.3498\t = Validation score   (accuracy)\n",
      "\t0.01s\t = Training   runtime\n",
      "\t0.01s\t = Validation runtime\n",
      "Fitting model: NeuralNetFastAI ...\n",
      "No improvement since epoch 7: early stopping\n",
      "\t0.5402\t = Validation score   (accuracy)\n",
      "\t3.99s\t = Training   runtime\n",
      "\t0.01s\t = Validation runtime\n",
      "Fitting model: LightGBMXT ...\n",
      "\t0.548\t = Validation score   (accuracy)\n",
      "\t1.0s\t = Training   runtime\n",
      "\t0.0s\t = Validation runtime\n",
      "Fitting model: LightGBM ...\n",
      "\t0.5402\t = Validation score   (accuracy)\n",
      "\t0.89s\t = Training   runtime\n",
      "\t0.0s\t = Validation runtime\n",
      "Fitting model: RandomForestGini ...\n",
      "\t0.4923\t = Validation score   (accuracy)\n",
      "\t0.64s\t = Training   runtime\n",
      "\t0.1s\t = Validation runtime\n",
      "Fitting model: RandomForestEntr ...\n",
      "\t0.4954\t = Validation score   (accuracy)\n",
      "\t0.65s\t = Training   runtime\n",
      "\t0.1s\t = Validation runtime\n",
      "Fitting model: CatBoost ...\n",
      "\t0.5526\t = Validation score   (accuracy)\n",
      "\t4.05s\t = Training   runtime\n",
      "\t0.0s\t = Validation runtime\n",
      "Fitting model: ExtraTreesGini ...\n",
      "\t0.4783\t = Validation score   (accuracy)\n",
      "\t0.63s\t = Training   runtime\n",
      "\t0.1s\t = Validation runtime\n",
      "Fitting model: ExtraTreesEntr ...\n",
      "\t0.4752\t = Validation score   (accuracy)\n",
      "\t0.62s\t = Training   runtime\n",
      "\t0.09s\t = Validation runtime\n",
      "Fitting model: XGBoost ...\n",
      "\t0.5526\t = Validation score   (accuracy)\n",
      "\t0.75s\t = Training   runtime\n",
      "\t0.01s\t = Validation runtime\n",
      "Fitting model: NeuralNetTorch ...\n",
      "\t0.5495\t = Validation score   (accuracy)\n",
      "\t12.75s\t = Training   runtime\n",
      "\t0.01s\t = Validation runtime\n",
      "Fitting model: LightGBMLarge ...\n",
      "\t0.5325\t = Validation score   (accuracy)\n",
      "\t2.15s\t = Training   runtime\n",
      "\t0.01s\t = Validation runtime\n",
      "Fitting model: WeightedEnsemble_L2 ...\n",
      "\t0.5728\t = Validation score   (accuracy)\n",
      "\t0.43s\t = Training   runtime\n",
      "\t0.0s\t = Validation runtime\n",
      "AutoGluon training complete, total runtime = 29.77s ... Best model: \"WeightedEnsemble_L2\"\n",
      "TabularPredictor saved. To load, use: predictor = TabularPredictor.load(\"AutogluonModels/ag-20230830_074611/\")\n"
     ]
    },
    {
     "name": "stdout",
     "output_type": "stream",
     "text": [
      "CPU times: user 1min 48s, sys: 3.21 s, total: 1min 51s\n",
      "Wall time: 29.8 s\n"
     ]
    }
   ],
   "source": [
    "%%time\n",
    "predictor = TabularPredictor(label='segmentation').fit(x_train)"
   ]
  },
  {
   "cell_type": "code",
   "execution_count": 23,
   "id": "a4364a23-63ab-439c-a5ca-8a64563f76e7",
   "metadata": {},
   "outputs": [
    {
     "data": {
      "text/html": [
       "<div>\n",
       "<style scoped>\n",
       "    .dataframe tbody tr th:only-of-type {\n",
       "        vertical-align: middle;\n",
       "    }\n",
       "\n",
       "    .dataframe tbody tr th {\n",
       "        vertical-align: top;\n",
       "    }\n",
       "\n",
       "    .dataframe thead th {\n",
       "        text-align: right;\n",
       "    }\n",
       "</style>\n",
       "<table border=\"1\" class=\"dataframe\">\n",
       "  <thead>\n",
       "    <tr style=\"text-align: right;\">\n",
       "      <th></th>\n",
       "      <th>model</th>\n",
       "      <th>score_test</th>\n",
       "      <th>score_val</th>\n",
       "      <th>pred_time_test</th>\n",
       "      <th>pred_time_val</th>\n",
       "      <th>fit_time</th>\n",
       "      <th>pred_time_test_marginal</th>\n",
       "      <th>pred_time_val_marginal</th>\n",
       "      <th>fit_time_marginal</th>\n",
       "      <th>stack_level</th>\n",
       "      <th>can_infer</th>\n",
       "      <th>fit_order</th>\n",
       "    </tr>\n",
       "  </thead>\n",
       "  <tbody>\n",
       "    <tr>\n",
       "      <th>0</th>\n",
       "      <td>WeightedEnsemble_L2</td>\n",
       "      <td>0.532838</td>\n",
       "      <td>0.572755</td>\n",
       "      <td>0.187948</td>\n",
       "      <td>0.120776</td>\n",
       "      <td>10.099699</td>\n",
       "      <td>0.011334</td>\n",
       "      <td>0.000465</td>\n",
       "      <td>0.434503</td>\n",
       "      <td>2</td>\n",
       "      <td>True</td>\n",
       "      <td>14</td>\n",
       "    </tr>\n",
       "    <tr>\n",
       "      <th>3</th>\n",
       "      <td>CatBoost</td>\n",
       "      <td>0.526642</td>\n",
       "      <td>0.552632</td>\n",
       "      <td>0.011601</td>\n",
       "      <td>0.004100</td>\n",
       "      <td>4.053973</td>\n",
       "      <td>0.011601</td>\n",
       "      <td>0.004100</td>\n",
       "      <td>4.053973</td>\n",
       "      <td>1</td>\n",
       "      <td>True</td>\n",
       "      <td>8</td>\n",
       "    </tr>\n",
       "    <tr>\n",
       "      <th>4</th>\n",
       "      <td>XGBoost</td>\n",
       "      <td>0.526642</td>\n",
       "      <td>0.552632</td>\n",
       "      <td>0.029736</td>\n",
       "      <td>0.008234</td>\n",
       "      <td>0.748278</td>\n",
       "      <td>0.029736</td>\n",
       "      <td>0.008234</td>\n",
       "      <td>0.748278</td>\n",
       "      <td>1</td>\n",
       "      <td>True</td>\n",
       "      <td>11</td>\n",
       "    </tr>\n",
       "    <tr>\n",
       "      <th>5</th>\n",
       "      <td>NeuralNetTorch</td>\n",
       "      <td>0.522305</td>\n",
       "      <td>0.549536</td>\n",
       "      <td>0.014781</td>\n",
       "      <td>0.010700</td>\n",
       "      <td>12.754714</td>\n",
       "      <td>0.014781</td>\n",
       "      <td>0.010700</td>\n",
       "      <td>12.754714</td>\n",
       "      <td>1</td>\n",
       "      <td>True</td>\n",
       "      <td>12</td>\n",
       "    </tr>\n",
       "    <tr>\n",
       "      <th>2</th>\n",
       "      <td>LightGBMXT</td>\n",
       "      <td>0.527261</td>\n",
       "      <td>0.547988</td>\n",
       "      <td>0.008614</td>\n",
       "      <td>0.004909</td>\n",
       "      <td>0.997266</td>\n",
       "      <td>0.008614</td>\n",
       "      <td>0.004909</td>\n",
       "      <td>0.997266</td>\n",
       "      <td>1</td>\n",
       "      <td>True</td>\n",
       "      <td>4</td>\n",
       "    </tr>\n",
       "    <tr>\n",
       "      <th>1</th>\n",
       "      <td>NeuralNetFastAI</td>\n",
       "      <td>0.532218</td>\n",
       "      <td>0.540248</td>\n",
       "      <td>0.025751</td>\n",
       "      <td>0.012086</td>\n",
       "      <td>3.985819</td>\n",
       "      <td>0.025751</td>\n",
       "      <td>0.012086</td>\n",
       "      <td>3.985819</td>\n",
       "      <td>1</td>\n",
       "      <td>True</td>\n",
       "      <td>3</td>\n",
       "    </tr>\n",
       "    <tr>\n",
       "      <th>6</th>\n",
       "      <td>LightGBM</td>\n",
       "      <td>0.519207</td>\n",
       "      <td>0.540248</td>\n",
       "      <td>0.005714</td>\n",
       "      <td>0.004312</td>\n",
       "      <td>0.885862</td>\n",
       "      <td>0.005714</td>\n",
       "      <td>0.004312</td>\n",
       "      <td>0.885862</td>\n",
       "      <td>1</td>\n",
       "      <td>True</td>\n",
       "      <td>5</td>\n",
       "    </tr>\n",
       "    <tr>\n",
       "      <th>7</th>\n",
       "      <td>LightGBMLarge</td>\n",
       "      <td>0.508055</td>\n",
       "      <td>0.532508</td>\n",
       "      <td>0.020558</td>\n",
       "      <td>0.007382</td>\n",
       "      <td>2.150086</td>\n",
       "      <td>0.020558</td>\n",
       "      <td>0.007382</td>\n",
       "      <td>2.150086</td>\n",
       "      <td>1</td>\n",
       "      <td>True</td>\n",
       "      <td>13</td>\n",
       "    </tr>\n",
       "    <tr>\n",
       "      <th>11</th>\n",
       "      <td>RandomForestEntr</td>\n",
       "      <td>0.493185</td>\n",
       "      <td>0.495356</td>\n",
       "      <td>0.141435</td>\n",
       "      <td>0.102821</td>\n",
       "      <td>0.652641</td>\n",
       "      <td>0.141435</td>\n",
       "      <td>0.102821</td>\n",
       "      <td>0.652641</td>\n",
       "      <td>1</td>\n",
       "      <td>True</td>\n",
       "      <td>7</td>\n",
       "    </tr>\n",
       "    <tr>\n",
       "      <th>10</th>\n",
       "      <td>RandomForestGini</td>\n",
       "      <td>0.495663</td>\n",
       "      <td>0.492260</td>\n",
       "      <td>0.129515</td>\n",
       "      <td>0.098889</td>\n",
       "      <td>0.635127</td>\n",
       "      <td>0.129515</td>\n",
       "      <td>0.098889</td>\n",
       "      <td>0.635127</td>\n",
       "      <td>1</td>\n",
       "      <td>True</td>\n",
       "      <td>6</td>\n",
       "    </tr>\n",
       "    <tr>\n",
       "      <th>9</th>\n",
       "      <td>ExtraTreesGini</td>\n",
       "      <td>0.498761</td>\n",
       "      <td>0.478328</td>\n",
       "      <td>0.130648</td>\n",
       "      <td>0.099217</td>\n",
       "      <td>0.628137</td>\n",
       "      <td>0.130648</td>\n",
       "      <td>0.099217</td>\n",
       "      <td>0.628137</td>\n",
       "      <td>1</td>\n",
       "      <td>True</td>\n",
       "      <td>9</td>\n",
       "    </tr>\n",
       "    <tr>\n",
       "      <th>8</th>\n",
       "      <td>ExtraTreesEntr</td>\n",
       "      <td>0.499380</td>\n",
       "      <td>0.475232</td>\n",
       "      <td>0.180550</td>\n",
       "      <td>0.093670</td>\n",
       "      <td>0.615098</td>\n",
       "      <td>0.180550</td>\n",
       "      <td>0.093670</td>\n",
       "      <td>0.615098</td>\n",
       "      <td>1</td>\n",
       "      <td>True</td>\n",
       "      <td>10</td>\n",
       "    </tr>\n",
       "    <tr>\n",
       "      <th>12</th>\n",
       "      <td>KNeighborsUnif</td>\n",
       "      <td>0.374226</td>\n",
       "      <td>0.369969</td>\n",
       "      <td>0.008088</td>\n",
       "      <td>0.006781</td>\n",
       "      <td>0.005127</td>\n",
       "      <td>0.008088</td>\n",
       "      <td>0.006781</td>\n",
       "      <td>0.005127</td>\n",
       "      <td>1</td>\n",
       "      <td>True</td>\n",
       "      <td>1</td>\n",
       "    </tr>\n",
       "    <tr>\n",
       "      <th>13</th>\n",
       "      <td>KNeighborsDist</td>\n",
       "      <td>0.363073</td>\n",
       "      <td>0.349845</td>\n",
       "      <td>0.007330</td>\n",
       "      <td>0.006330</td>\n",
       "      <td>0.005103</td>\n",
       "      <td>0.007330</td>\n",
       "      <td>0.006330</td>\n",
       "      <td>0.005103</td>\n",
       "      <td>1</td>\n",
       "      <td>True</td>\n",
       "      <td>2</td>\n",
       "    </tr>\n",
       "  </tbody>\n",
       "</table>\n",
       "</div>"
      ],
      "text/plain": [
       "                  model  score_test  score_val  pred_time_test  pred_time_val  \\\n",
       "0   WeightedEnsemble_L2    0.532838   0.572755        0.187948       0.120776   \n",
       "3              CatBoost    0.526642   0.552632        0.011601       0.004100   \n",
       "4               XGBoost    0.526642   0.552632        0.029736       0.008234   \n",
       "5        NeuralNetTorch    0.522305   0.549536        0.014781       0.010700   \n",
       "2            LightGBMXT    0.527261   0.547988        0.008614       0.004909   \n",
       "1       NeuralNetFastAI    0.532218   0.540248        0.025751       0.012086   \n",
       "6              LightGBM    0.519207   0.540248        0.005714       0.004312   \n",
       "7         LightGBMLarge    0.508055   0.532508        0.020558       0.007382   \n",
       "11     RandomForestEntr    0.493185   0.495356        0.141435       0.102821   \n",
       "10     RandomForestGini    0.495663   0.492260        0.129515       0.098889   \n",
       "9        ExtraTreesGini    0.498761   0.478328        0.130648       0.099217   \n",
       "8        ExtraTreesEntr    0.499380   0.475232        0.180550       0.093670   \n",
       "12       KNeighborsUnif    0.374226   0.369969        0.008088       0.006781   \n",
       "13       KNeighborsDist    0.363073   0.349845        0.007330       0.006330   \n",
       "\n",
       "     fit_time  pred_time_test_marginal  pred_time_val_marginal  \\\n",
       "0   10.099699                 0.011334                0.000465   \n",
       "3    4.053973                 0.011601                0.004100   \n",
       "4    0.748278                 0.029736                0.008234   \n",
       "5   12.754714                 0.014781                0.010700   \n",
       "2    0.997266                 0.008614                0.004909   \n",
       "1    3.985819                 0.025751                0.012086   \n",
       "6    0.885862                 0.005714                0.004312   \n",
       "7    2.150086                 0.020558                0.007382   \n",
       "11   0.652641                 0.141435                0.102821   \n",
       "10   0.635127                 0.129515                0.098889   \n",
       "9    0.628137                 0.130648                0.099217   \n",
       "8    0.615098                 0.180550                0.093670   \n",
       "12   0.005127                 0.008088                0.006781   \n",
       "13   0.005103                 0.007330                0.006330   \n",
       "\n",
       "    fit_time_marginal  stack_level  can_infer  fit_order  \n",
       "0            0.434503            2       True         14  \n",
       "3            4.053973            1       True          8  \n",
       "4            0.748278            1       True         11  \n",
       "5           12.754714            1       True         12  \n",
       "2            0.997266            1       True          4  \n",
       "1            3.985819            1       True          3  \n",
       "6            0.885862            1       True          5  \n",
       "7            2.150086            1       True         13  \n",
       "11           0.652641            1       True          7  \n",
       "10           0.635127            1       True          6  \n",
       "9            0.628137            1       True          9  \n",
       "8            0.615098            1       True         10  \n",
       "12           0.005127            1       True          1  \n",
       "13           0.005103            1       True          2  "
      ]
     },
     "execution_count": 25,
     "metadata": {},
     "output_type": "execute_result"
    }
   ],
   "source": [
    "predictor.leaderboard(x_val, silent=True).sort_values(by='score_val', ascending=False)"
   ]
  },
  {
   "cell_type": "code",
   "execution_count": 12,
   "id": "49b54e49-80a7-4ac7-aa88-49e5e482627d",
   "metadata": {},
   "outputs": [],
   "source": [
    "y_pred_val = predictor.predict(x_val.drop(columns=['segmentation']), model='WeightedEnsemble_L2')"
   ]
  },
  {
   "cell_type": "code",
   "execution_count": 13,
   "id": "8458bce6-48a6-4a40-8d38-2ca4502895d4",
   "metadata": {},
   "outputs": [
    {
     "name": "stdout",
     "output_type": "stream",
     "text": [
      "              precision    recall  f1-score   support\n",
      "\n",
      "           A       0.45      0.46      0.45       391\n",
      "           B       0.41      0.38      0.40       369\n",
      "           C       0.56      0.52      0.54       380\n",
      "           D       0.67      0.72      0.69       474\n",
      "\n",
      "    accuracy                           0.53      1614\n",
      "   macro avg       0.52      0.52      0.52      1614\n",
      "weighted avg       0.53      0.53      0.53      1614\n",
      "\n"
     ]
    }
   ],
   "source": [
    "from sklearn.metrics import classification_report\n",
    "\n",
    "print(classification_report(y_val, y_pred_val))"
   ]
  },
  {
   "cell_type": "code",
   "execution_count": 17,
   "id": "62df056c-8ffd-4a11-a8b4-296ea20218d3",
   "metadata": {},
   "outputs": [],
   "source": [
    "y_pred_val = predictor.predict(x_val.drop(columns=['segmentation']), model='CatBoost')"
   ]
  },
  {
   "cell_type": "code",
   "execution_count": 18,
   "id": "e8410b27-113a-4792-ace7-7a89827ce171",
   "metadata": {},
   "outputs": [
    {
     "name": "stdout",
     "output_type": "stream",
     "text": [
      "              precision    recall  f1-score   support\n",
      "\n",
      "           A       0.43      0.48      0.45       391\n",
      "           B       0.40      0.33      0.36       369\n",
      "           C       0.54      0.53      0.53       380\n",
      "           D       0.68      0.72      0.70       474\n",
      "\n",
      "    accuracy                           0.53      1614\n",
      "   macro avg       0.51      0.51      0.51      1614\n",
      "weighted avg       0.52      0.53      0.52      1614\n",
      "\n"
     ]
    }
   ],
   "source": [
    "from sklearn.metrics import classification_report\n",
    "\n",
    "print(classification_report(y_val, y_pred_val))"
   ]
  },
  {
   "cell_type": "code",
   "execution_count": 20,
   "id": "6df76c42-b728-4c18-ae05-e5e6f3652b2e",
   "metadata": {},
   "outputs": [],
   "source": [
    "y_pred_val = predictor.predict(x_val.drop(columns=['segmentation']), model='XGBoost')"
   ]
  },
  {
   "cell_type": "code",
   "execution_count": 21,
   "id": "99d8ffeb-0035-4128-87fe-abba1cf9f5dd",
   "metadata": {},
   "outputs": [
    {
     "name": "stdout",
     "output_type": "stream",
     "text": [
      "              precision    recall  f1-score   support\n",
      "\n",
      "           A       0.44      0.43      0.43       391\n",
      "           B       0.41      0.32      0.36       369\n",
      "           C       0.53      0.58      0.55       380\n",
      "           D       0.65      0.73      0.69       474\n",
      "\n",
      "    accuracy                           0.53      1614\n",
      "   macro avg       0.51      0.51      0.51      1614\n",
      "weighted avg       0.52      0.53      0.52      1614\n",
      "\n"
     ]
    }
   ],
   "source": [
    "from sklearn.metrics import classification_report\n",
    "\n",
    "print(classification_report(y_val, y_pred_val))"
   ]
  },
  {
   "cell_type": "markdown",
   "id": "8a33e1b6-ea31-4291-a9c9-53010b4e1cbd",
   "metadata": {},
   "source": [
    "## Diagnostic"
   ]
  },
  {
   "cell_type": "code",
   "execution_count": 210,
   "id": "a51f5fd3-fb86-4700-826e-33fa35c2f383",
   "metadata": {},
   "outputs": [],
   "source": [
    "df_train = pd.read_csv('customer_segmentation_train.csv')"
   ]
  },
  {
   "cell_type": "code",
   "execution_count": 236,
   "id": "aff49174-8792-4001-ac42-fed46448eee0",
   "metadata": {},
   "outputs": [
    {
     "data": {
      "text/html": [
       "<div>\n",
       "<style scoped>\n",
       "    .dataframe tbody tr th:only-of-type {\n",
       "        vertical-align: middle;\n",
       "    }\n",
       "\n",
       "    .dataframe tbody tr th {\n",
       "        vertical-align: top;\n",
       "    }\n",
       "\n",
       "    .dataframe thead th {\n",
       "        text-align: right;\n",
       "    }\n",
       "</style>\n",
       "<table border=\"1\" class=\"dataframe\">\n",
       "  <thead>\n",
       "    <tr style=\"text-align: right;\">\n",
       "      <th></th>\n",
       "      <th>id</th>\n",
       "      <th>gender</th>\n",
       "      <th>ever_married</th>\n",
       "      <th>age</th>\n",
       "      <th>graduated</th>\n",
       "      <th>profession</th>\n",
       "      <th>work_experience</th>\n",
       "      <th>spending_score</th>\n",
       "      <th>family_size</th>\n",
       "      <th>var_1</th>\n",
       "      <th>segmentation</th>\n",
       "    </tr>\n",
       "  </thead>\n",
       "  <tbody>\n",
       "    <tr>\n",
       "      <th>277</th>\n",
       "      <td>462075</td>\n",
       "      <td>Female</td>\n",
       "      <td>No</td>\n",
       "      <td>40</td>\n",
       "      <td>Yes</td>\n",
       "      <td>Artist</td>\n",
       "      <td>1.0</td>\n",
       "      <td>Low</td>\n",
       "      <td>1.0</td>\n",
       "      <td>Cat_6</td>\n",
       "      <td>B</td>\n",
       "    </tr>\n",
       "    <tr>\n",
       "      <th>319</th>\n",
       "      <td>459768</td>\n",
       "      <td>Male</td>\n",
       "      <td>No</td>\n",
       "      <td>19</td>\n",
       "      <td>No</td>\n",
       "      <td>Healthcare</td>\n",
       "      <td>0.0</td>\n",
       "      <td>Low</td>\n",
       "      <td>4.0</td>\n",
       "      <td>Cat_6</td>\n",
       "      <td>D</td>\n",
       "    </tr>\n",
       "    <tr>\n",
       "      <th>342</th>\n",
       "      <td>465192</td>\n",
       "      <td>Male</td>\n",
       "      <td>Yes</td>\n",
       "      <td>55</td>\n",
       "      <td>No</td>\n",
       "      <td>Artist</td>\n",
       "      <td>0.0</td>\n",
       "      <td>Low</td>\n",
       "      <td>1.0</td>\n",
       "      <td>Cat_6</td>\n",
       "      <td>A</td>\n",
       "    </tr>\n",
       "    <tr>\n",
       "      <th>540</th>\n",
       "      <td>459149</td>\n",
       "      <td>Male</td>\n",
       "      <td>Yes</td>\n",
       "      <td>43</td>\n",
       "      <td>No</td>\n",
       "      <td>Executive</td>\n",
       "      <td>0.0</td>\n",
       "      <td>High</td>\n",
       "      <td>4.0</td>\n",
       "      <td>Cat_6</td>\n",
       "      <td>B</td>\n",
       "    </tr>\n",
       "    <tr>\n",
       "      <th>572</th>\n",
       "      <td>459298</td>\n",
       "      <td>Male</td>\n",
       "      <td>Yes</td>\n",
       "      <td>45</td>\n",
       "      <td>Yes</td>\n",
       "      <td>Artist</td>\n",
       "      <td>4.0</td>\n",
       "      <td>Average</td>\n",
       "      <td>4.0</td>\n",
       "      <td>Cat_6</td>\n",
       "      <td>C</td>\n",
       "    </tr>\n",
       "    <tr>\n",
       "      <th>...</th>\n",
       "      <td>...</td>\n",
       "      <td>...</td>\n",
       "      <td>...</td>\n",
       "      <td>...</td>\n",
       "      <td>...</td>\n",
       "      <td>...</td>\n",
       "      <td>...</td>\n",
       "      <td>...</td>\n",
       "      <td>...</td>\n",
       "      <td>...</td>\n",
       "      <td>...</td>\n",
       "    </tr>\n",
       "    <tr>\n",
       "      <th>8026</th>\n",
       "      <td>466852</td>\n",
       "      <td>Female</td>\n",
       "      <td>No</td>\n",
       "      <td>23</td>\n",
       "      <td>No</td>\n",
       "      <td>Marketing</td>\n",
       "      <td>4.0</td>\n",
       "      <td>Low</td>\n",
       "      <td>4.0</td>\n",
       "      <td>Cat_6</td>\n",
       "      <td>C</td>\n",
       "    </tr>\n",
       "    <tr>\n",
       "      <th>8042</th>\n",
       "      <td>465422</td>\n",
       "      <td>Female</td>\n",
       "      <td>Yes</td>\n",
       "      <td>40</td>\n",
       "      <td>Yes</td>\n",
       "      <td>Artist</td>\n",
       "      <td>1.0</td>\n",
       "      <td>Average</td>\n",
       "      <td>2.0</td>\n",
       "      <td>Cat_6</td>\n",
       "      <td>C</td>\n",
       "    </tr>\n",
       "    <tr>\n",
       "      <th>8054</th>\n",
       "      <td>463437</td>\n",
       "      <td>Male</td>\n",
       "      <td>Yes</td>\n",
       "      <td>49</td>\n",
       "      <td>Yes</td>\n",
       "      <td>Artist</td>\n",
       "      <td>1.0</td>\n",
       "      <td>Average</td>\n",
       "      <td>3.0</td>\n",
       "      <td>Cat_6</td>\n",
       "      <td>B</td>\n",
       "    </tr>\n",
       "    <tr>\n",
       "      <th>8055</th>\n",
       "      <td>461291</td>\n",
       "      <td>Male</td>\n",
       "      <td>No</td>\n",
       "      <td>18</td>\n",
       "      <td>No</td>\n",
       "      <td>Healthcare</td>\n",
       "      <td>0.0</td>\n",
       "      <td>Low</td>\n",
       "      <td>2.0</td>\n",
       "      <td>Cat_6</td>\n",
       "      <td>D</td>\n",
       "    </tr>\n",
       "    <tr>\n",
       "      <th>8065</th>\n",
       "      <td>465406</td>\n",
       "      <td>Female</td>\n",
       "      <td>No</td>\n",
       "      <td>33</td>\n",
       "      <td>Yes</td>\n",
       "      <td>Healthcare</td>\n",
       "      <td>1.0</td>\n",
       "      <td>Low</td>\n",
       "      <td>1.0</td>\n",
       "      <td>Cat_6</td>\n",
       "      <td>D</td>\n",
       "    </tr>\n",
       "  </tbody>\n",
       "</table>\n",
       "<p>734 rows × 11 columns</p>\n",
       "</div>"
      ],
      "text/plain": [
       "          id  gender ever_married  age graduated  profession  work_experience  \\\n",
       "277   462075  Female           No   40       Yes      Artist              1.0   \n",
       "319   459768    Male           No   19        No  Healthcare              0.0   \n",
       "342   465192    Male          Yes   55        No      Artist              0.0   \n",
       "540   459149    Male          Yes   43        No   Executive              0.0   \n",
       "572   459298    Male          Yes   45       Yes      Artist              4.0   \n",
       "...      ...     ...          ...  ...       ...         ...              ...   \n",
       "8026  466852  Female           No   23        No   Marketing              4.0   \n",
       "8042  465422  Female          Yes   40       Yes      Artist              1.0   \n",
       "8054  463437    Male          Yes   49       Yes      Artist              1.0   \n",
       "8055  461291    Male           No   18        No  Healthcare              0.0   \n",
       "8065  465406  Female           No   33       Yes  Healthcare              1.0   \n",
       "\n",
       "     spending_score  family_size  var_1 segmentation  \n",
       "277             Low          1.0  Cat_6            B  \n",
       "319             Low          4.0  Cat_6            D  \n",
       "342             Low          1.0  Cat_6            A  \n",
       "540            High          4.0  Cat_6            B  \n",
       "572         Average          4.0  Cat_6            C  \n",
       "...             ...          ...    ...          ...  \n",
       "8026            Low          4.0  Cat_6            C  \n",
       "8042        Average          2.0  Cat_6            C  \n",
       "8054        Average          3.0  Cat_6            B  \n",
       "8055            Low          2.0  Cat_6            D  \n",
       "8065            Low          1.0  Cat_6            D  \n",
       "\n",
       "[734 rows x 11 columns]"
      ]
     },
     "execution_count": 236,
     "metadata": {},
     "output_type": "execute_result"
    }
   ],
   "source": [
    "df_train[df_train.drop(columns=['id', 'segmentation']).duplicated()]"
   ]
  },
  {
   "cell_type": "code",
   "execution_count": 247,
   "id": "bc7ecbd3-d27c-4f16-88c0-5900e2b3a648",
   "metadata": {},
   "outputs": [],
   "source": [
    "df_feat_dup = df_train[df_train.drop(columns=['id', 'segmentation']).duplicated(keep=False)]\n",
    "sort_index = list(df_feat_dup.drop(columns=['id', 'segmentation']).columns)\n",
    "df_feat_dup = df_feat_dup.sort_values(by=sort_index)"
   ]
  },
  {
   "cell_type": "code",
   "execution_count": 254,
   "id": "e317f5f9-f6c7-4923-a97d-0a8cb7e62ba3",
   "metadata": {
    "scrolled": true,
    "tags": []
   },
   "outputs": [
    {
     "data": {
      "text/html": [
       "<div>\n",
       "<style scoped>\n",
       "    .dataframe tbody tr th:only-of-type {\n",
       "        vertical-align: middle;\n",
       "    }\n",
       "\n",
       "    .dataframe tbody tr th {\n",
       "        vertical-align: top;\n",
       "    }\n",
       "\n",
       "    .dataframe thead th {\n",
       "        text-align: right;\n",
       "    }\n",
       "</style>\n",
       "<table border=\"1\" class=\"dataframe\">\n",
       "  <thead>\n",
       "    <tr style=\"text-align: right;\">\n",
       "      <th></th>\n",
       "      <th>id</th>\n",
       "      <th>gender</th>\n",
       "      <th>ever_married</th>\n",
       "      <th>age</th>\n",
       "      <th>graduated</th>\n",
       "      <th>profession</th>\n",
       "      <th>work_experience</th>\n",
       "      <th>spending_score</th>\n",
       "      <th>family_size</th>\n",
       "      <th>var_1</th>\n",
       "      <th>segmentation</th>\n",
       "    </tr>\n",
       "  </thead>\n",
       "  <tbody>\n",
       "    <tr>\n",
       "      <th>147</th>\n",
       "      <td>461740</td>\n",
       "      <td>Male</td>\n",
       "      <td>Yes</td>\n",
       "      <td>80</td>\n",
       "      <td>Yes</td>\n",
       "      <td>Lawyer</td>\n",
       "      <td>1.0</td>\n",
       "      <td>Low</td>\n",
       "      <td>1.0</td>\n",
       "      <td>Cat_6</td>\n",
       "      <td>B</td>\n",
       "    </tr>\n",
       "    <tr>\n",
       "      <th>1813</th>\n",
       "      <td>459159</td>\n",
       "      <td>Male</td>\n",
       "      <td>Yes</td>\n",
       "      <td>80</td>\n",
       "      <td>Yes</td>\n",
       "      <td>Lawyer</td>\n",
       "      <td>1.0</td>\n",
       "      <td>Low</td>\n",
       "      <td>1.0</td>\n",
       "      <td>Cat_6</td>\n",
       "      <td>A</td>\n",
       "    </tr>\n",
       "    <tr>\n",
       "      <th>4433</th>\n",
       "      <td>467019</td>\n",
       "      <td>Male</td>\n",
       "      <td>Yes</td>\n",
       "      <td>80</td>\n",
       "      <td>Yes</td>\n",
       "      <td>Lawyer</td>\n",
       "      <td>1.0</td>\n",
       "      <td>Low</td>\n",
       "      <td>1.0</td>\n",
       "      <td>Cat_6</td>\n",
       "      <td>C</td>\n",
       "    </tr>\n",
       "    <tr>\n",
       "      <th>4801</th>\n",
       "      <td>467113</td>\n",
       "      <td>Male</td>\n",
       "      <td>Yes</td>\n",
       "      <td>80</td>\n",
       "      <td>Yes</td>\n",
       "      <td>Lawyer</td>\n",
       "      <td>NaN</td>\n",
       "      <td>Low</td>\n",
       "      <td>1.0</td>\n",
       "      <td>Cat_6</td>\n",
       "      <td>D</td>\n",
       "    </tr>\n",
       "    <tr>\n",
       "      <th>5629</th>\n",
       "      <td>467293</td>\n",
       "      <td>Male</td>\n",
       "      <td>Yes</td>\n",
       "      <td>80</td>\n",
       "      <td>Yes</td>\n",
       "      <td>Lawyer</td>\n",
       "      <td>NaN</td>\n",
       "      <td>Low</td>\n",
       "      <td>1.0</td>\n",
       "      <td>Cat_6</td>\n",
       "      <td>D</td>\n",
       "    </tr>\n",
       "    <tr>\n",
       "      <th>4146</th>\n",
       "      <td>463010</td>\n",
       "      <td>Male</td>\n",
       "      <td>Yes</td>\n",
       "      <td>81</td>\n",
       "      <td>No</td>\n",
       "      <td>Executive</td>\n",
       "      <td>0.0</td>\n",
       "      <td>Low</td>\n",
       "      <td>1.0</td>\n",
       "      <td>Cat_6</td>\n",
       "      <td>D</td>\n",
       "    </tr>\n",
       "    <tr>\n",
       "      <th>7783</th>\n",
       "      <td>465107</td>\n",
       "      <td>Male</td>\n",
       "      <td>Yes</td>\n",
       "      <td>81</td>\n",
       "      <td>No</td>\n",
       "      <td>Executive</td>\n",
       "      <td>0.0</td>\n",
       "      <td>Low</td>\n",
       "      <td>1.0</td>\n",
       "      <td>Cat_6</td>\n",
       "      <td>D</td>\n",
       "    </tr>\n",
       "    <tr>\n",
       "      <th>5199</th>\n",
       "      <td>459321</td>\n",
       "      <td>Male</td>\n",
       "      <td>Yes</td>\n",
       "      <td>81</td>\n",
       "      <td>Yes</td>\n",
       "      <td>Entertainment</td>\n",
       "      <td>1.0</td>\n",
       "      <td>Low</td>\n",
       "      <td>1.0</td>\n",
       "      <td>Cat_6</td>\n",
       "      <td>B</td>\n",
       "    </tr>\n",
       "    <tr>\n",
       "      <th>5721</th>\n",
       "      <td>466914</td>\n",
       "      <td>Male</td>\n",
       "      <td>Yes</td>\n",
       "      <td>81</td>\n",
       "      <td>Yes</td>\n",
       "      <td>Entertainment</td>\n",
       "      <td>1.0</td>\n",
       "      <td>Low</td>\n",
       "      <td>1.0</td>\n",
       "      <td>Cat_6</td>\n",
       "      <td>D</td>\n",
       "    </tr>\n",
       "    <tr>\n",
       "      <th>6748</th>\n",
       "      <td>459147</td>\n",
       "      <td>Male</td>\n",
       "      <td>Yes</td>\n",
       "      <td>81</td>\n",
       "      <td>Yes</td>\n",
       "      <td>Entertainment</td>\n",
       "      <td>1.0</td>\n",
       "      <td>Low</td>\n",
       "      <td>1.0</td>\n",
       "      <td>Cat_6</td>\n",
       "      <td>D</td>\n",
       "    </tr>\n",
       "    <tr>\n",
       "      <th>2177</th>\n",
       "      <td>459807</td>\n",
       "      <td>Male</td>\n",
       "      <td>Yes</td>\n",
       "      <td>81</td>\n",
       "      <td>Yes</td>\n",
       "      <td>Lawyer</td>\n",
       "      <td>1.0</td>\n",
       "      <td>Low</td>\n",
       "      <td>1.0</td>\n",
       "      <td>Cat_6</td>\n",
       "      <td>A</td>\n",
       "    </tr>\n",
       "    <tr>\n",
       "      <th>4423</th>\n",
       "      <td>466104</td>\n",
       "      <td>Male</td>\n",
       "      <td>Yes</td>\n",
       "      <td>81</td>\n",
       "      <td>Yes</td>\n",
       "      <td>Lawyer</td>\n",
       "      <td>1.0</td>\n",
       "      <td>Low</td>\n",
       "      <td>1.0</td>\n",
       "      <td>Cat_6</td>\n",
       "      <td>B</td>\n",
       "    </tr>\n",
       "    <tr>\n",
       "      <th>2447</th>\n",
       "      <td>460827</td>\n",
       "      <td>Male</td>\n",
       "      <td>Yes</td>\n",
       "      <td>81</td>\n",
       "      <td>Yes</td>\n",
       "      <td>Lawyer</td>\n",
       "      <td>9.0</td>\n",
       "      <td>Low</td>\n",
       "      <td>1.0</td>\n",
       "      <td>Cat_6</td>\n",
       "      <td>D</td>\n",
       "    </tr>\n",
       "    <tr>\n",
       "      <th>6736</th>\n",
       "      <td>462346</td>\n",
       "      <td>Male</td>\n",
       "      <td>Yes</td>\n",
       "      <td>81</td>\n",
       "      <td>Yes</td>\n",
       "      <td>Lawyer</td>\n",
       "      <td>9.0</td>\n",
       "      <td>Low</td>\n",
       "      <td>1.0</td>\n",
       "      <td>Cat_6</td>\n",
       "      <td>B</td>\n",
       "    </tr>\n",
       "    <tr>\n",
       "      <th>2626</th>\n",
       "      <td>464162</td>\n",
       "      <td>Male</td>\n",
       "      <td>Yes</td>\n",
       "      <td>81</td>\n",
       "      <td>Yes</td>\n",
       "      <td>Lawyer</td>\n",
       "      <td>NaN</td>\n",
       "      <td>High</td>\n",
       "      <td>2.0</td>\n",
       "      <td>Cat_6</td>\n",
       "      <td>C</td>\n",
       "    </tr>\n",
       "    <tr>\n",
       "      <th>7106</th>\n",
       "      <td>466941</td>\n",
       "      <td>Male</td>\n",
       "      <td>Yes</td>\n",
       "      <td>81</td>\n",
       "      <td>Yes</td>\n",
       "      <td>Lawyer</td>\n",
       "      <td>NaN</td>\n",
       "      <td>High</td>\n",
       "      <td>2.0</td>\n",
       "      <td>Cat_6</td>\n",
       "      <td>B</td>\n",
       "    </tr>\n",
       "    <tr>\n",
       "      <th>735</th>\n",
       "      <td>466491</td>\n",
       "      <td>Male</td>\n",
       "      <td>Yes</td>\n",
       "      <td>82</td>\n",
       "      <td>No</td>\n",
       "      <td>Executive</td>\n",
       "      <td>1.0</td>\n",
       "      <td>High</td>\n",
       "      <td>2.0</td>\n",
       "      <td>Cat_6</td>\n",
       "      <td>B</td>\n",
       "    </tr>\n",
       "    <tr>\n",
       "      <th>6895</th>\n",
       "      <td>467058</td>\n",
       "      <td>Male</td>\n",
       "      <td>Yes</td>\n",
       "      <td>82</td>\n",
       "      <td>No</td>\n",
       "      <td>Executive</td>\n",
       "      <td>1.0</td>\n",
       "      <td>High</td>\n",
       "      <td>2.0</td>\n",
       "      <td>Cat_6</td>\n",
       "      <td>B</td>\n",
       "    </tr>\n",
       "    <tr>\n",
       "      <th>4464</th>\n",
       "      <td>464071</td>\n",
       "      <td>Male</td>\n",
       "      <td>Yes</td>\n",
       "      <td>82</td>\n",
       "      <td>Yes</td>\n",
       "      <td>Lawyer</td>\n",
       "      <td>0.0</td>\n",
       "      <td>High</td>\n",
       "      <td>2.0</td>\n",
       "      <td>Cat_6</td>\n",
       "      <td>B</td>\n",
       "    </tr>\n",
       "    <tr>\n",
       "      <th>5010</th>\n",
       "      <td>467726</td>\n",
       "      <td>Male</td>\n",
       "      <td>Yes</td>\n",
       "      <td>82</td>\n",
       "      <td>Yes</td>\n",
       "      <td>Lawyer</td>\n",
       "      <td>0.0</td>\n",
       "      <td>High</td>\n",
       "      <td>2.0</td>\n",
       "      <td>Cat_6</td>\n",
       "      <td>C</td>\n",
       "    </tr>\n",
       "    <tr>\n",
       "      <th>7714</th>\n",
       "      <td>467237</td>\n",
       "      <td>Male</td>\n",
       "      <td>Yes</td>\n",
       "      <td>82</td>\n",
       "      <td>Yes</td>\n",
       "      <td>Lawyer</td>\n",
       "      <td>0.0</td>\n",
       "      <td>High</td>\n",
       "      <td>2.0</td>\n",
       "      <td>Cat_6</td>\n",
       "      <td>D</td>\n",
       "    </tr>\n",
       "    <tr>\n",
       "      <th>2409</th>\n",
       "      <td>460783</td>\n",
       "      <td>Male</td>\n",
       "      <td>Yes</td>\n",
       "      <td>82</td>\n",
       "      <td>Yes</td>\n",
       "      <td>Lawyer</td>\n",
       "      <td>0.0</td>\n",
       "      <td>Low</td>\n",
       "      <td>1.0</td>\n",
       "      <td>Cat_6</td>\n",
       "      <td>B</td>\n",
       "    </tr>\n",
       "    <tr>\n",
       "      <th>3579</th>\n",
       "      <td>459577</td>\n",
       "      <td>Male</td>\n",
       "      <td>Yes</td>\n",
       "      <td>82</td>\n",
       "      <td>Yes</td>\n",
       "      <td>Lawyer</td>\n",
       "      <td>0.0</td>\n",
       "      <td>Low</td>\n",
       "      <td>1.0</td>\n",
       "      <td>Cat_6</td>\n",
       "      <td>D</td>\n",
       "    </tr>\n",
       "    <tr>\n",
       "      <th>6360</th>\n",
       "      <td>461719</td>\n",
       "      <td>Male</td>\n",
       "      <td>Yes</td>\n",
       "      <td>82</td>\n",
       "      <td>Yes</td>\n",
       "      <td>Lawyer</td>\n",
       "      <td>0.0</td>\n",
       "      <td>Low</td>\n",
       "      <td>1.0</td>\n",
       "      <td>Cat_6</td>\n",
       "      <td>D</td>\n",
       "    </tr>\n",
       "    <tr>\n",
       "      <th>1977</th>\n",
       "      <td>467617</td>\n",
       "      <td>Male</td>\n",
       "      <td>Yes</td>\n",
       "      <td>82</td>\n",
       "      <td>Yes</td>\n",
       "      <td>Lawyer</td>\n",
       "      <td>1.0</td>\n",
       "      <td>Low</td>\n",
       "      <td>1.0</td>\n",
       "      <td>Cat_6</td>\n",
       "      <td>A</td>\n",
       "    </tr>\n",
       "    <tr>\n",
       "      <th>5335</th>\n",
       "      <td>461024</td>\n",
       "      <td>Male</td>\n",
       "      <td>Yes</td>\n",
       "      <td>82</td>\n",
       "      <td>Yes</td>\n",
       "      <td>Lawyer</td>\n",
       "      <td>1.0</td>\n",
       "      <td>Low</td>\n",
       "      <td>1.0</td>\n",
       "      <td>Cat_6</td>\n",
       "      <td>A</td>\n",
       "    </tr>\n",
       "    <tr>\n",
       "      <th>1263</th>\n",
       "      <td>465014</td>\n",
       "      <td>Male</td>\n",
       "      <td>Yes</td>\n",
       "      <td>83</td>\n",
       "      <td>No</td>\n",
       "      <td>Lawyer</td>\n",
       "      <td>1.0</td>\n",
       "      <td>Low</td>\n",
       "      <td>1.0</td>\n",
       "      <td>Cat_6</td>\n",
       "      <td>A</td>\n",
       "    </tr>\n",
       "    <tr>\n",
       "      <th>7608</th>\n",
       "      <td>464161</td>\n",
       "      <td>Male</td>\n",
       "      <td>Yes</td>\n",
       "      <td>83</td>\n",
       "      <td>No</td>\n",
       "      <td>Lawyer</td>\n",
       "      <td>1.0</td>\n",
       "      <td>Low</td>\n",
       "      <td>1.0</td>\n",
       "      <td>Cat_6</td>\n",
       "      <td>A</td>\n",
       "    </tr>\n",
       "    <tr>\n",
       "      <th>1367</th>\n",
       "      <td>461708</td>\n",
       "      <td>Male</td>\n",
       "      <td>Yes</td>\n",
       "      <td>84</td>\n",
       "      <td>No</td>\n",
       "      <td>Lawyer</td>\n",
       "      <td>0.0</td>\n",
       "      <td>High</td>\n",
       "      <td>2.0</td>\n",
       "      <td>Cat_6</td>\n",
       "      <td>B</td>\n",
       "    </tr>\n",
       "    <tr>\n",
       "      <th>3429</th>\n",
       "      <td>462495</td>\n",
       "      <td>Male</td>\n",
       "      <td>Yes</td>\n",
       "      <td>84</td>\n",
       "      <td>No</td>\n",
       "      <td>Lawyer</td>\n",
       "      <td>0.0</td>\n",
       "      <td>High</td>\n",
       "      <td>2.0</td>\n",
       "      <td>Cat_6</td>\n",
       "      <td>A</td>\n",
       "    </tr>\n",
       "    <tr>\n",
       "      <th>2019</th>\n",
       "      <td>466461</td>\n",
       "      <td>Male</td>\n",
       "      <td>Yes</td>\n",
       "      <td>84</td>\n",
       "      <td>No</td>\n",
       "      <td>Lawyer</td>\n",
       "      <td>0.0</td>\n",
       "      <td>Low</td>\n",
       "      <td>1.0</td>\n",
       "      <td>Cat_6</td>\n",
       "      <td>D</td>\n",
       "    </tr>\n",
       "    <tr>\n",
       "      <th>7319</th>\n",
       "      <td>466193</td>\n",
       "      <td>Male</td>\n",
       "      <td>Yes</td>\n",
       "      <td>84</td>\n",
       "      <td>No</td>\n",
       "      <td>Lawyer</td>\n",
       "      <td>0.0</td>\n",
       "      <td>Low</td>\n",
       "      <td>1.0</td>\n",
       "      <td>Cat_6</td>\n",
       "      <td>A</td>\n",
       "    </tr>\n",
       "    <tr>\n",
       "      <th>1984</th>\n",
       "      <td>460964</td>\n",
       "      <td>Male</td>\n",
       "      <td>Yes</td>\n",
       "      <td>84</td>\n",
       "      <td>No</td>\n",
       "      <td>Lawyer</td>\n",
       "      <td>1.0</td>\n",
       "      <td>High</td>\n",
       "      <td>2.0</td>\n",
       "      <td>Cat_6</td>\n",
       "      <td>A</td>\n",
       "    </tr>\n",
       "    <tr>\n",
       "      <th>4606</th>\n",
       "      <td>462240</td>\n",
       "      <td>Male</td>\n",
       "      <td>Yes</td>\n",
       "      <td>84</td>\n",
       "      <td>No</td>\n",
       "      <td>Lawyer</td>\n",
       "      <td>1.0</td>\n",
       "      <td>High</td>\n",
       "      <td>2.0</td>\n",
       "      <td>Cat_6</td>\n",
       "      <td>A</td>\n",
       "    </tr>\n",
       "    <tr>\n",
       "      <th>6693</th>\n",
       "      <td>464328</td>\n",
       "      <td>Male</td>\n",
       "      <td>Yes</td>\n",
       "      <td>84</td>\n",
       "      <td>No</td>\n",
       "      <td>Lawyer</td>\n",
       "      <td>1.0</td>\n",
       "      <td>High</td>\n",
       "      <td>2.0</td>\n",
       "      <td>Cat_6</td>\n",
       "      <td>B</td>\n",
       "    </tr>\n",
       "    <tr>\n",
       "      <th>1171</th>\n",
       "      <td>460979</td>\n",
       "      <td>Male</td>\n",
       "      <td>Yes</td>\n",
       "      <td>84</td>\n",
       "      <td>No</td>\n",
       "      <td>Lawyer</td>\n",
       "      <td>1.0</td>\n",
       "      <td>Low</td>\n",
       "      <td>1.0</td>\n",
       "      <td>Cat_6</td>\n",
       "      <td>A</td>\n",
       "    </tr>\n",
       "    <tr>\n",
       "      <th>4756</th>\n",
       "      <td>459615</td>\n",
       "      <td>Male</td>\n",
       "      <td>Yes</td>\n",
       "      <td>84</td>\n",
       "      <td>No</td>\n",
       "      <td>Lawyer</td>\n",
       "      <td>1.0</td>\n",
       "      <td>Low</td>\n",
       "      <td>1.0</td>\n",
       "      <td>Cat_6</td>\n",
       "      <td>A</td>\n",
       "    </tr>\n",
       "    <tr>\n",
       "      <th>7398</th>\n",
       "      <td>462815</td>\n",
       "      <td>Male</td>\n",
       "      <td>Yes</td>\n",
       "      <td>84</td>\n",
       "      <td>No</td>\n",
       "      <td>Lawyer</td>\n",
       "      <td>1.0</td>\n",
       "      <td>Low</td>\n",
       "      <td>1.0</td>\n",
       "      <td>Cat_6</td>\n",
       "      <td>A</td>\n",
       "    </tr>\n",
       "    <tr>\n",
       "      <th>453</th>\n",
       "      <td>459835</td>\n",
       "      <td>Male</td>\n",
       "      <td>Yes</td>\n",
       "      <td>85</td>\n",
       "      <td>No</td>\n",
       "      <td>Lawyer</td>\n",
       "      <td>NaN</td>\n",
       "      <td>Low</td>\n",
       "      <td>1.0</td>\n",
       "      <td>Cat_6</td>\n",
       "      <td>D</td>\n",
       "    </tr>\n",
       "    <tr>\n",
       "      <th>617</th>\n",
       "      <td>461385</td>\n",
       "      <td>Male</td>\n",
       "      <td>Yes</td>\n",
       "      <td>85</td>\n",
       "      <td>No</td>\n",
       "      <td>Lawyer</td>\n",
       "      <td>NaN</td>\n",
       "      <td>Low</td>\n",
       "      <td>1.0</td>\n",
       "      <td>Cat_6</td>\n",
       "      <td>D</td>\n",
       "    </tr>\n",
       "    <tr>\n",
       "      <th>411</th>\n",
       "      <td>466776</td>\n",
       "      <td>Male</td>\n",
       "      <td>Yes</td>\n",
       "      <td>86</td>\n",
       "      <td>Yes</td>\n",
       "      <td>Lawyer</td>\n",
       "      <td>0.0</td>\n",
       "      <td>Low</td>\n",
       "      <td>1.0</td>\n",
       "      <td>Cat_6</td>\n",
       "      <td>B</td>\n",
       "    </tr>\n",
       "    <tr>\n",
       "      <th>4986</th>\n",
       "      <td>460840</td>\n",
       "      <td>Male</td>\n",
       "      <td>Yes</td>\n",
       "      <td>86</td>\n",
       "      <td>Yes</td>\n",
       "      <td>Lawyer</td>\n",
       "      <td>0.0</td>\n",
       "      <td>Low</td>\n",
       "      <td>1.0</td>\n",
       "      <td>Cat_6</td>\n",
       "      <td>A</td>\n",
       "    </tr>\n",
       "    <tr>\n",
       "      <th>5755</th>\n",
       "      <td>464238</td>\n",
       "      <td>Male</td>\n",
       "      <td>Yes</td>\n",
       "      <td>87</td>\n",
       "      <td>Yes</td>\n",
       "      <td>Lawyer</td>\n",
       "      <td>0.0</td>\n",
       "      <td>High</td>\n",
       "      <td>2.0</td>\n",
       "      <td>Cat_6</td>\n",
       "      <td>A</td>\n",
       "    </tr>\n",
       "    <tr>\n",
       "      <th>7102</th>\n",
       "      <td>464440</td>\n",
       "      <td>Male</td>\n",
       "      <td>Yes</td>\n",
       "      <td>87</td>\n",
       "      <td>Yes</td>\n",
       "      <td>Lawyer</td>\n",
       "      <td>0.0</td>\n",
       "      <td>High</td>\n",
       "      <td>2.0</td>\n",
       "      <td>Cat_6</td>\n",
       "      <td>A</td>\n",
       "    </tr>\n",
       "    <tr>\n",
       "      <th>4672</th>\n",
       "      <td>461869</td>\n",
       "      <td>Male</td>\n",
       "      <td>Yes</td>\n",
       "      <td>87</td>\n",
       "      <td>Yes</td>\n",
       "      <td>Lawyer</td>\n",
       "      <td>0.0</td>\n",
       "      <td>Low</td>\n",
       "      <td>1.0</td>\n",
       "      <td>Cat_6</td>\n",
       "      <td>B</td>\n",
       "    </tr>\n",
       "    <tr>\n",
       "      <th>8018</th>\n",
       "      <td>460935</td>\n",
       "      <td>Male</td>\n",
       "      <td>Yes</td>\n",
       "      <td>87</td>\n",
       "      <td>Yes</td>\n",
       "      <td>Lawyer</td>\n",
       "      <td>0.0</td>\n",
       "      <td>Low</td>\n",
       "      <td>1.0</td>\n",
       "      <td>Cat_6</td>\n",
       "      <td>D</td>\n",
       "    </tr>\n",
       "    <tr>\n",
       "      <th>3490</th>\n",
       "      <td>459011</td>\n",
       "      <td>Male</td>\n",
       "      <td>Yes</td>\n",
       "      <td>88</td>\n",
       "      <td>No</td>\n",
       "      <td>Lawyer</td>\n",
       "      <td>1.0</td>\n",
       "      <td>Low</td>\n",
       "      <td>1.0</td>\n",
       "      <td>Cat_6</td>\n",
       "      <td>A</td>\n",
       "    </tr>\n",
       "    <tr>\n",
       "      <th>5924</th>\n",
       "      <td>466791</td>\n",
       "      <td>Male</td>\n",
       "      <td>Yes</td>\n",
       "      <td>88</td>\n",
       "      <td>No</td>\n",
       "      <td>Lawyer</td>\n",
       "      <td>1.0</td>\n",
       "      <td>Low</td>\n",
       "      <td>1.0</td>\n",
       "      <td>Cat_6</td>\n",
       "      <td>A</td>\n",
       "    </tr>\n",
       "    <tr>\n",
       "      <th>5651</th>\n",
       "      <td>459154</td>\n",
       "      <td>Male</td>\n",
       "      <td>Yes</td>\n",
       "      <td>88</td>\n",
       "      <td>Yes</td>\n",
       "      <td>Lawyer</td>\n",
       "      <td>0.0</td>\n",
       "      <td>High</td>\n",
       "      <td>2.0</td>\n",
       "      <td>Cat_6</td>\n",
       "      <td>A</td>\n",
       "    </tr>\n",
       "    <tr>\n",
       "      <th>6855</th>\n",
       "      <td>459097</td>\n",
       "      <td>Male</td>\n",
       "      <td>Yes</td>\n",
       "      <td>88</td>\n",
       "      <td>Yes</td>\n",
       "      <td>Lawyer</td>\n",
       "      <td>0.0</td>\n",
       "      <td>High</td>\n",
       "      <td>2.0</td>\n",
       "      <td>Cat_6</td>\n",
       "      <td>A</td>\n",
       "    </tr>\n",
       "  </tbody>\n",
       "</table>\n",
       "</div>"
      ],
      "text/plain": [
       "          id gender ever_married  age graduated     profession  \\\n",
       "147   461740   Male          Yes   80       Yes         Lawyer   \n",
       "1813  459159   Male          Yes   80       Yes         Lawyer   \n",
       "4433  467019   Male          Yes   80       Yes         Lawyer   \n",
       "4801  467113   Male          Yes   80       Yes         Lawyer   \n",
       "5629  467293   Male          Yes   80       Yes         Lawyer   \n",
       "4146  463010   Male          Yes   81        No      Executive   \n",
       "7783  465107   Male          Yes   81        No      Executive   \n",
       "5199  459321   Male          Yes   81       Yes  Entertainment   \n",
       "5721  466914   Male          Yes   81       Yes  Entertainment   \n",
       "6748  459147   Male          Yes   81       Yes  Entertainment   \n",
       "2177  459807   Male          Yes   81       Yes         Lawyer   \n",
       "4423  466104   Male          Yes   81       Yes         Lawyer   \n",
       "2447  460827   Male          Yes   81       Yes         Lawyer   \n",
       "6736  462346   Male          Yes   81       Yes         Lawyer   \n",
       "2626  464162   Male          Yes   81       Yes         Lawyer   \n",
       "7106  466941   Male          Yes   81       Yes         Lawyer   \n",
       "735   466491   Male          Yes   82        No      Executive   \n",
       "6895  467058   Male          Yes   82        No      Executive   \n",
       "4464  464071   Male          Yes   82       Yes         Lawyer   \n",
       "5010  467726   Male          Yes   82       Yes         Lawyer   \n",
       "7714  467237   Male          Yes   82       Yes         Lawyer   \n",
       "2409  460783   Male          Yes   82       Yes         Lawyer   \n",
       "3579  459577   Male          Yes   82       Yes         Lawyer   \n",
       "6360  461719   Male          Yes   82       Yes         Lawyer   \n",
       "1977  467617   Male          Yes   82       Yes         Lawyer   \n",
       "5335  461024   Male          Yes   82       Yes         Lawyer   \n",
       "1263  465014   Male          Yes   83        No         Lawyer   \n",
       "7608  464161   Male          Yes   83        No         Lawyer   \n",
       "1367  461708   Male          Yes   84        No         Lawyer   \n",
       "3429  462495   Male          Yes   84        No         Lawyer   \n",
       "2019  466461   Male          Yes   84        No         Lawyer   \n",
       "7319  466193   Male          Yes   84        No         Lawyer   \n",
       "1984  460964   Male          Yes   84        No         Lawyer   \n",
       "4606  462240   Male          Yes   84        No         Lawyer   \n",
       "6693  464328   Male          Yes   84        No         Lawyer   \n",
       "1171  460979   Male          Yes   84        No         Lawyer   \n",
       "4756  459615   Male          Yes   84        No         Lawyer   \n",
       "7398  462815   Male          Yes   84        No         Lawyer   \n",
       "453   459835   Male          Yes   85        No         Lawyer   \n",
       "617   461385   Male          Yes   85        No         Lawyer   \n",
       "411   466776   Male          Yes   86       Yes         Lawyer   \n",
       "4986  460840   Male          Yes   86       Yes         Lawyer   \n",
       "5755  464238   Male          Yes   87       Yes         Lawyer   \n",
       "7102  464440   Male          Yes   87       Yes         Lawyer   \n",
       "4672  461869   Male          Yes   87       Yes         Lawyer   \n",
       "8018  460935   Male          Yes   87       Yes         Lawyer   \n",
       "3490  459011   Male          Yes   88        No         Lawyer   \n",
       "5924  466791   Male          Yes   88        No         Lawyer   \n",
       "5651  459154   Male          Yes   88       Yes         Lawyer   \n",
       "6855  459097   Male          Yes   88       Yes         Lawyer   \n",
       "\n",
       "      work_experience spending_score  family_size  var_1 segmentation  \n",
       "147               1.0            Low          1.0  Cat_6            B  \n",
       "1813              1.0            Low          1.0  Cat_6            A  \n",
       "4433              1.0            Low          1.0  Cat_6            C  \n",
       "4801              NaN            Low          1.0  Cat_6            D  \n",
       "5629              NaN            Low          1.0  Cat_6            D  \n",
       "4146              0.0            Low          1.0  Cat_6            D  \n",
       "7783              0.0            Low          1.0  Cat_6            D  \n",
       "5199              1.0            Low          1.0  Cat_6            B  \n",
       "5721              1.0            Low          1.0  Cat_6            D  \n",
       "6748              1.0            Low          1.0  Cat_6            D  \n",
       "2177              1.0            Low          1.0  Cat_6            A  \n",
       "4423              1.0            Low          1.0  Cat_6            B  \n",
       "2447              9.0            Low          1.0  Cat_6            D  \n",
       "6736              9.0            Low          1.0  Cat_6            B  \n",
       "2626              NaN           High          2.0  Cat_6            C  \n",
       "7106              NaN           High          2.0  Cat_6            B  \n",
       "735               1.0           High          2.0  Cat_6            B  \n",
       "6895              1.0           High          2.0  Cat_6            B  \n",
       "4464              0.0           High          2.0  Cat_6            B  \n",
       "5010              0.0           High          2.0  Cat_6            C  \n",
       "7714              0.0           High          2.0  Cat_6            D  \n",
       "2409              0.0            Low          1.0  Cat_6            B  \n",
       "3579              0.0            Low          1.0  Cat_6            D  \n",
       "6360              0.0            Low          1.0  Cat_6            D  \n",
       "1977              1.0            Low          1.0  Cat_6            A  \n",
       "5335              1.0            Low          1.0  Cat_6            A  \n",
       "1263              1.0            Low          1.0  Cat_6            A  \n",
       "7608              1.0            Low          1.0  Cat_6            A  \n",
       "1367              0.0           High          2.0  Cat_6            B  \n",
       "3429              0.0           High          2.0  Cat_6            A  \n",
       "2019              0.0            Low          1.0  Cat_6            D  \n",
       "7319              0.0            Low          1.0  Cat_6            A  \n",
       "1984              1.0           High          2.0  Cat_6            A  \n",
       "4606              1.0           High          2.0  Cat_6            A  \n",
       "6693              1.0           High          2.0  Cat_6            B  \n",
       "1171              1.0            Low          1.0  Cat_6            A  \n",
       "4756              1.0            Low          1.0  Cat_6            A  \n",
       "7398              1.0            Low          1.0  Cat_6            A  \n",
       "453               NaN            Low          1.0  Cat_6            D  \n",
       "617               NaN            Low          1.0  Cat_6            D  \n",
       "411               0.0            Low          1.0  Cat_6            B  \n",
       "4986              0.0            Low          1.0  Cat_6            A  \n",
       "5755              0.0           High          2.0  Cat_6            A  \n",
       "7102              0.0           High          2.0  Cat_6            A  \n",
       "4672              0.0            Low          1.0  Cat_6            B  \n",
       "8018              0.0            Low          1.0  Cat_6            D  \n",
       "3490              1.0            Low          1.0  Cat_6            A  \n",
       "5924              1.0            Low          1.0  Cat_6            A  \n",
       "5651              0.0           High          2.0  Cat_6            A  \n",
       "6855              0.0           High          2.0  Cat_6            A  "
      ]
     },
     "execution_count": 254,
     "metadata": {},
     "output_type": "execute_result"
    }
   ],
   "source": [
    "df_feat_dup.tail(50)"
   ]
  },
  {
   "cell_type": "markdown",
   "id": "2723dbb3-28a2-4eb5-aade-fa134d56b5bc",
   "metadata": {},
   "source": [
    "# Prediction"
   ]
  },
  {
   "cell_type": "markdown",
   "id": "408eb4e5-0d4d-4be8-b9c8-7a7031f491fb",
   "metadata": {},
   "source": [
    "## CrossValidation"
   ]
  },
  {
   "cell_type": "code",
   "execution_count": 32,
   "id": "a40e55db-36d8-4e9f-862f-4444290523ae",
   "metadata": {},
   "outputs": [],
   "source": [
    "df_train = pd.read_csv('customer_segmentation_train.csv')"
   ]
  },
  {
   "cell_type": "code",
   "execution_count": 33,
   "id": "b9bab0d0-fbdc-4d82-8fbe-687c6c209547",
   "metadata": {},
   "outputs": [],
   "source": [
    "df_train_set = df_train.copy()"
   ]
  },
  {
   "cell_type": "code",
   "execution_count": 40,
   "id": "fcbbb80a-6df7-403a-b81e-10794a8026ef",
   "metadata": {},
   "outputs": [],
   "source": [
    "# Determine feature\n",
    "CAT_COLS = ['gender', 'ever_married', 'graduated', 'profession', 'spending_score', 'var_1']\n",
    "NUM_COLS = ['age', 'work_experience', 'family_size']\n",
    "\n",
    "cat_cols = [col for col in df_train_set.columns if col in CAT_COLS]\n",
    "num_cols = [col for col in df_train_set.columns if col in NUM_COLS]\n",
    "feature_cols = num_cols + cat_cols\n",
    "\n",
    "# Change category columns type\n",
    "for col in cat_cols:\n",
    "    df_train_set[col] = df_train_set[col].astype('category')\n",
    "\n",
    "# Split feature and target\n",
    "x = df_train_set[feature_cols + ['segmentation']]\n",
    "y = df_train_set['segmentation']"
   ]
  },
  {
   "cell_type": "code",
   "execution_count": 42,
   "id": "83cb0988-5a42-43a1-9d55-e011e0ce02af",
   "metadata": {
    "scrolled": true,
    "tags": []
   },
   "outputs": [
    {
     "name": "stderr",
     "output_type": "stream",
     "text": [
      "No path specified. Models will be saved in: \"AutogluonModels/ag-20230830_075345/\"\n",
      "Beginning AutoGluon training ...\n",
      "AutoGluon will save models to \"AutogluonModels/ag-20230830_075345/\"\n",
      "AutoGluon Version:  0.8.2\n",
      "Python Version:     3.10.11\n",
      "Operating System:   Linux\n",
      "Platform Machine:   x86_64\n",
      "Platform Version:   #1 SMP Debian 5.10.191-1 (2023-08-16)\n",
      "Disk Space Avail:   100.46 GB / 105.09 GB (95.6%)\n",
      "Train Data Rows:    6454\n",
      "Train Data Columns: 9\n",
      "Label Column: segmentation\n",
      "Preprocessing data ...\n",
      "AutoGluon infers your prediction problem is: 'multiclass' (because dtype of label-column == object).\n",
      "\t4 unique label values:  ['A', 'B', 'C', 'D']\n",
      "\tIf 'multiclass' is not the correct problem_type, please manually specify the problem_type parameter during predictor init (You may specify problem_type as one of: ['binary', 'multiclass', 'regression'])\n",
      "Train Data Class Count: 4\n",
      "Using Feature Generators to preprocess the data ...\n",
      "Fitting AutoMLPipelineFeatureGenerator...\n",
      "\tAvailable Memory:                    64667.31 MB\n",
      "\tTrain Data (Original)  Memory Usage: 0.2 MB (0.0% of available memory)\n",
      "\tInferring data type of each feature based on column values. Set feature_metadata_in to manually specify special dtypes of the features.\n",
      "\tStage 1 Generators:\n",
      "\t\tFitting AsTypeFeatureGenerator...\n",
      "\t\t\tNote: Converting 1 features to boolean dtype as they only contain 2 unique values.\n",
      "\tStage 2 Generators:\n",
      "\t\tFitting FillNaFeatureGenerator...\n",
      "\tStage 3 Generators:\n",
      "\t\tFitting IdentityFeatureGenerator...\n",
      "\t\tFitting CategoryFeatureGenerator...\n",
      "\t\t\tFitting CategoryMemoryMinimizeFeatureGenerator...\n",
      "\tStage 4 Generators:\n",
      "\t\tFitting DropUniqueFeatureGenerator...\n",
      "\tStage 5 Generators:\n",
      "\t\tFitting DropDuplicatesFeatureGenerator...\n",
      "\tTypes of features in original data (raw dtype, special dtypes):\n",
      "\t\t('category', []) : 6 | ['gender', 'ever_married', 'graduated', 'profession', 'spending_score', ...]\n",
      "\t\t('float', [])    : 2 | ['work_experience', 'family_size']\n",
      "\t\t('int', [])      : 1 | ['age']\n",
      "\tTypes of features in processed data (raw dtype, special dtypes):\n",
      "\t\t('category', [])  : 5 | ['ever_married', 'graduated', 'profession', 'spending_score', 'var_1']\n",
      "\t\t('float', [])     : 2 | ['work_experience', 'family_size']\n",
      "\t\t('int', [])       : 1 | ['age']\n",
      "\t\t('int', ['bool']) : 1 | ['gender']\n",
      "\t0.0s = Fit runtime\n",
      "\t9 features in original data used to generate 9 features in processed data.\n",
      "\tTrain Data (Processed) Memory Usage: 0.2 MB (0.0% of available memory)\n",
      "Data preprocessing and feature engineering runtime = 0.06s ...\n",
      "AutoGluon will gauge predictive performance using evaluation metric: 'accuracy'\n",
      "\tTo change this, specify the eval_metric parameter of Predictor()\n",
      "Automatically generating train/validation split with holdout_frac=0.1, Train Rows: 5808, Val Rows: 646\n",
      "User-specified model hyperparameters to be fit:\n",
      "{\n",
      "\t'XGB': {},\n",
      "}\n",
      "Fitting 1 L1 models ...\n",
      "Fitting model: XGBoost ...\n",
      "\t0.5449\t = Validation score   (accuracy)\n",
      "\t0.67s\t = Training   runtime\n",
      "\t0.01s\t = Validation runtime\n",
      "Fitting model: WeightedEnsemble_L2 ...\n",
      "\t0.5449\t = Validation score   (accuracy)\n",
      "\t0.0s\t = Training   runtime\n",
      "\t0.0s\t = Validation runtime\n",
      "AutoGluon training complete, total runtime = 0.77s ... Best model: \"WeightedEnsemble_L2\"\n",
      "TabularPredictor saved. To load, use: predictor = TabularPredictor.load(\"AutogluonModels/ag-20230830_075345/\")\n",
      "No path specified. Models will be saved in: \"AutogluonModels/ag-20230830_075346/\"\n",
      "Beginning AutoGluon training ...\n",
      "AutoGluon will save models to \"AutogluonModels/ag-20230830_075346/\"\n",
      "AutoGluon Version:  0.8.2\n",
      "Python Version:     3.10.11\n",
      "Operating System:   Linux\n",
      "Platform Machine:   x86_64\n",
      "Platform Version:   #1 SMP Debian 5.10.191-1 (2023-08-16)\n",
      "Disk Space Avail:   100.46 GB / 105.09 GB (95.6%)\n",
      "Train Data Rows:    6454\n",
      "Train Data Columns: 9\n",
      "Label Column: segmentation\n",
      "Preprocessing data ...\n",
      "AutoGluon infers your prediction problem is: 'multiclass' (because dtype of label-column == object).\n",
      "\t4 unique label values:  ['D', 'B', 'A', 'C']\n",
      "\tIf 'multiclass' is not the correct problem_type, please manually specify the problem_type parameter during predictor init (You may specify problem_type as one of: ['binary', 'multiclass', 'regression'])\n",
      "Train Data Class Count: 4\n",
      "Using Feature Generators to preprocess the data ...\n",
      "Fitting AutoMLPipelineFeatureGenerator...\n",
      "\tAvailable Memory:                    64667.28 MB\n",
      "\tTrain Data (Original)  Memory Usage: 0.2 MB (0.0% of available memory)\n",
      "\tInferring data type of each feature based on column values. Set feature_metadata_in to manually specify special dtypes of the features.\n",
      "\tStage 1 Generators:\n",
      "\t\tFitting AsTypeFeatureGenerator...\n",
      "\t\t\tNote: Converting 1 features to boolean dtype as they only contain 2 unique values.\n",
      "\tStage 2 Generators:\n",
      "\t\tFitting FillNaFeatureGenerator...\n",
      "\tStage 3 Generators:\n",
      "\t\tFitting IdentityFeatureGenerator...\n",
      "\t\tFitting CategoryFeatureGenerator...\n",
      "\t\t\tFitting CategoryMemoryMinimizeFeatureGenerator...\n",
      "\tStage 4 Generators:\n",
      "\t\tFitting DropUniqueFeatureGenerator...\n",
      "\tStage 5 Generators:\n",
      "\t\tFitting DropDuplicatesFeatureGenerator...\n",
      "\tTypes of features in original data (raw dtype, special dtypes):\n",
      "\t\t('category', []) : 6 | ['gender', 'ever_married', 'graduated', 'profession', 'spending_score', ...]\n",
      "\t\t('float', [])    : 2 | ['work_experience', 'family_size']\n",
      "\t\t('int', [])      : 1 | ['age']\n",
      "\tTypes of features in processed data (raw dtype, special dtypes):\n",
      "\t\t('category', [])  : 5 | ['ever_married', 'graduated', 'profession', 'spending_score', 'var_1']\n",
      "\t\t('float', [])     : 2 | ['work_experience', 'family_size']\n",
      "\t\t('int', [])       : 1 | ['age']\n",
      "\t\t('int', ['bool']) : 1 | ['gender']\n",
      "\t0.0s = Fit runtime\n",
      "\t9 features in original data used to generate 9 features in processed data.\n",
      "\tTrain Data (Processed) Memory Usage: 0.2 MB (0.0% of available memory)\n",
      "Data preprocessing and feature engineering runtime = 0.05s ...\n",
      "AutoGluon will gauge predictive performance using evaluation metric: 'accuracy'\n",
      "\tTo change this, specify the eval_metric parameter of Predictor()\n",
      "Automatically generating train/validation split with holdout_frac=0.1, Train Rows: 5808, Val Rows: 646\n",
      "User-specified model hyperparameters to be fit:\n",
      "{\n",
      "\t'XGB': {},\n",
      "}\n",
      "Fitting 1 L1 models ...\n",
      "Fitting model: XGBoost ...\n",
      "\t0.5341\t = Validation score   (accuracy)\n",
      "\t1.02s\t = Training   runtime\n",
      "\t0.02s\t = Validation runtime\n",
      "Fitting model: WeightedEnsemble_L2 ...\n",
      "\t0.5341\t = Validation score   (accuracy)\n",
      "\t0.0s\t = Training   runtime\n",
      "\t0.0s\t = Validation runtime\n",
      "AutoGluon training complete, total runtime = 1.14s ... Best model: \"WeightedEnsemble_L2\"\n",
      "TabularPredictor saved. To load, use: predictor = TabularPredictor.load(\"AutogluonModels/ag-20230830_075346/\")\n",
      "No path specified. Models will be saved in: \"AutogluonModels/ag-20230830_075347/\"\n",
      "Beginning AutoGluon training ...\n",
      "AutoGluon will save models to \"AutogluonModels/ag-20230830_075347/\"\n",
      "AutoGluon Version:  0.8.2\n",
      "Python Version:     3.10.11\n",
      "Operating System:   Linux\n",
      "Platform Machine:   x86_64\n",
      "Platform Version:   #1 SMP Debian 5.10.191-1 (2023-08-16)\n",
      "Disk Space Avail:   100.45 GB / 105.09 GB (95.6%)\n",
      "Train Data Rows:    6454\n",
      "Train Data Columns: 9\n",
      "Label Column: segmentation\n",
      "Preprocessing data ...\n",
      "AutoGluon infers your prediction problem is: 'multiclass' (because dtype of label-column == object).\n",
      "\t4 unique label values:  ['D', 'A', 'B', 'C']\n",
      "\tIf 'multiclass' is not the correct problem_type, please manually specify the problem_type parameter during predictor init (You may specify problem_type as one of: ['binary', 'multiclass', 'regression'])\n",
      "Train Data Class Count: 4\n",
      "Using Feature Generators to preprocess the data ...\n",
      "Fitting AutoMLPipelineFeatureGenerator...\n",
      "\tAvailable Memory:                    64664.42 MB\n",
      "\tTrain Data (Original)  Memory Usage: 0.2 MB (0.0% of available memory)\n",
      "\tInferring data type of each feature based on column values. Set feature_metadata_in to manually specify special dtypes of the features.\n",
      "\tStage 1 Generators:\n",
      "\t\tFitting AsTypeFeatureGenerator...\n",
      "\t\t\tNote: Converting 1 features to boolean dtype as they only contain 2 unique values.\n",
      "\tStage 2 Generators:\n",
      "\t\tFitting FillNaFeatureGenerator...\n",
      "\tStage 3 Generators:\n",
      "\t\tFitting IdentityFeatureGenerator...\n",
      "\t\tFitting CategoryFeatureGenerator...\n",
      "\t\t\tFitting CategoryMemoryMinimizeFeatureGenerator...\n",
      "\tStage 4 Generators:\n",
      "\t\tFitting DropUniqueFeatureGenerator...\n",
      "\tStage 5 Generators:\n",
      "\t\tFitting DropDuplicatesFeatureGenerator...\n",
      "\tTypes of features in original data (raw dtype, special dtypes):\n",
      "\t\t('category', []) : 6 | ['gender', 'ever_married', 'graduated', 'profession', 'spending_score', ...]\n",
      "\t\t('float', [])    : 2 | ['work_experience', 'family_size']\n",
      "\t\t('int', [])      : 1 | ['age']\n",
      "\tTypes of features in processed data (raw dtype, special dtypes):\n",
      "\t\t('category', [])  : 5 | ['ever_married', 'graduated', 'profession', 'spending_score', 'var_1']\n",
      "\t\t('float', [])     : 2 | ['work_experience', 'family_size']\n",
      "\t\t('int', [])       : 1 | ['age']\n",
      "\t\t('int', ['bool']) : 1 | ['gender']\n",
      "\t0.0s = Fit runtime\n",
      "\t9 features in original data used to generate 9 features in processed data.\n",
      "\tTrain Data (Processed) Memory Usage: 0.2 MB (0.0% of available memory)\n",
      "Data preprocessing and feature engineering runtime = 0.06s ...\n",
      "AutoGluon will gauge predictive performance using evaluation metric: 'accuracy'\n",
      "\tTo change this, specify the eval_metric parameter of Predictor()\n",
      "Automatically generating train/validation split with holdout_frac=0.1, Train Rows: 5808, Val Rows: 646\n",
      "User-specified model hyperparameters to be fit:\n",
      "{\n",
      "\t'XGB': {},\n",
      "}\n",
      "Fitting 1 L1 models ...\n",
      "Fitting model: XGBoost ...\n",
      "\t0.5217\t = Validation score   (accuracy)\n",
      "\t0.81s\t = Training   runtime\n",
      "\t0.01s\t = Validation runtime\n",
      "Fitting model: WeightedEnsemble_L2 ...\n",
      "\t0.5217\t = Validation score   (accuracy)\n",
      "\t0.0s\t = Training   runtime\n",
      "\t0.0s\t = Validation runtime\n",
      "AutoGluon training complete, total runtime = 0.91s ... Best model: \"WeightedEnsemble_L2\"\n",
      "TabularPredictor saved. To load, use: predictor = TabularPredictor.load(\"AutogluonModels/ag-20230830_075347/\")\n",
      "No path specified. Models will be saved in: \"AutogluonModels/ag-20230830_075348/\"\n",
      "Beginning AutoGluon training ...\n",
      "AutoGluon will save models to \"AutogluonModels/ag-20230830_075348/\"\n",
      "AutoGluon Version:  0.8.2\n",
      "Python Version:     3.10.11\n",
      "Operating System:   Linux\n",
      "Platform Machine:   x86_64\n",
      "Platform Version:   #1 SMP Debian 5.10.191-1 (2023-08-16)\n",
      "Disk Space Avail:   100.45 GB / 105.09 GB (95.6%)\n",
      "Train Data Rows:    6455\n",
      "Train Data Columns: 9\n",
      "Label Column: segmentation\n",
      "Preprocessing data ...\n",
      "AutoGluon infers your prediction problem is: 'multiclass' (because dtype of label-column == object).\n",
      "\t4 unique label values:  ['D', 'A', 'B', 'C']\n",
      "\tIf 'multiclass' is not the correct problem_type, please manually specify the problem_type parameter during predictor init (You may specify problem_type as one of: ['binary', 'multiclass', 'regression'])\n",
      "Train Data Class Count: 4\n",
      "Using Feature Generators to preprocess the data ...\n",
      "Fitting AutoMLPipelineFeatureGenerator...\n",
      "\tAvailable Memory:                    64664.12 MB\n",
      "\tTrain Data (Original)  Memory Usage: 0.2 MB (0.0% of available memory)\n",
      "\tInferring data type of each feature based on column values. Set feature_metadata_in to manually specify special dtypes of the features.\n",
      "\tStage 1 Generators:\n",
      "\t\tFitting AsTypeFeatureGenerator...\n",
      "\t\t\tNote: Converting 1 features to boolean dtype as they only contain 2 unique values.\n",
      "\tStage 2 Generators:\n",
      "\t\tFitting FillNaFeatureGenerator...\n",
      "\tStage 3 Generators:\n",
      "\t\tFitting IdentityFeatureGenerator...\n",
      "\t\tFitting CategoryFeatureGenerator...\n",
      "\t\t\tFitting CategoryMemoryMinimizeFeatureGenerator...\n",
      "\tStage 4 Generators:\n",
      "\t\tFitting DropUniqueFeatureGenerator...\n",
      "\tStage 5 Generators:\n",
      "\t\tFitting DropDuplicatesFeatureGenerator...\n",
      "\tTypes of features in original data (raw dtype, special dtypes):\n",
      "\t\t('category', []) : 6 | ['gender', 'ever_married', 'graduated', 'profession', 'spending_score', ...]\n",
      "\t\t('float', [])    : 2 | ['work_experience', 'family_size']\n",
      "\t\t('int', [])      : 1 | ['age']\n",
      "\tTypes of features in processed data (raw dtype, special dtypes):\n",
      "\t\t('category', [])  : 5 | ['ever_married', 'graduated', 'profession', 'spending_score', 'var_1']\n",
      "\t\t('float', [])     : 2 | ['work_experience', 'family_size']\n",
      "\t\t('int', [])       : 1 | ['age']\n",
      "\t\t('int', ['bool']) : 1 | ['gender']\n",
      "\t0.0s = Fit runtime\n",
      "\t9 features in original data used to generate 9 features in processed data.\n",
      "\tTrain Data (Processed) Memory Usage: 0.2 MB (0.0% of available memory)\n",
      "Data preprocessing and feature engineering runtime = 0.06s ...\n",
      "AutoGluon will gauge predictive performance using evaluation metric: 'accuracy'\n",
      "\tTo change this, specify the eval_metric parameter of Predictor()\n",
      "Automatically generating train/validation split with holdout_frac=0.1, Train Rows: 5809, Val Rows: 646\n",
      "User-specified model hyperparameters to be fit:\n",
      "{\n",
      "\t'XGB': {},\n",
      "}\n",
      "Fitting 1 L1 models ...\n",
      "Fitting model: XGBoost ...\n",
      "\t0.5356\t = Validation score   (accuracy)\n",
      "\t0.75s\t = Training   runtime\n",
      "\t0.01s\t = Validation runtime\n",
      "Fitting model: WeightedEnsemble_L2 ...\n",
      "\t0.5356\t = Validation score   (accuracy)\n",
      "\t0.0s\t = Training   runtime\n",
      "\t0.0s\t = Validation runtime\n",
      "AutoGluon training complete, total runtime = 0.85s ... Best model: \"WeightedEnsemble_L2\"\n",
      "TabularPredictor saved. To load, use: predictor = TabularPredictor.load(\"AutogluonModels/ag-20230830_075348/\")\n",
      "No path specified. Models will be saved in: \"AutogluonModels/ag-20230830_075349/\"\n",
      "Beginning AutoGluon training ...\n",
      "AutoGluon will save models to \"AutogluonModels/ag-20230830_075349/\"\n",
      "AutoGluon Version:  0.8.2\n",
      "Python Version:     3.10.11\n",
      "Operating System:   Linux\n",
      "Platform Machine:   x86_64\n",
      "Platform Version:   #1 SMP Debian 5.10.191-1 (2023-08-16)\n",
      "Disk Space Avail:   100.44 GB / 105.09 GB (95.6%)\n",
      "Train Data Rows:    6455\n",
      "Train Data Columns: 9\n",
      "Label Column: segmentation\n",
      "Preprocessing data ...\n",
      "AutoGluon infers your prediction problem is: 'multiclass' (because dtype of label-column == object).\n",
      "\t4 unique label values:  ['D', 'A', 'B', 'C']\n",
      "\tIf 'multiclass' is not the correct problem_type, please manually specify the problem_type parameter during predictor init (You may specify problem_type as one of: ['binary', 'multiclass', 'regression'])\n",
      "Train Data Class Count: 4\n",
      "Using Feature Generators to preprocess the data ...\n",
      "Fitting AutoMLPipelineFeatureGenerator...\n",
      "\tAvailable Memory:                    64664.88 MB\n",
      "\tTrain Data (Original)  Memory Usage: 0.2 MB (0.0% of available memory)\n",
      "\tInferring data type of each feature based on column values. Set feature_metadata_in to manually specify special dtypes of the features.\n",
      "\tStage 1 Generators:\n",
      "\t\tFitting AsTypeFeatureGenerator...\n",
      "\t\t\tNote: Converting 1 features to boolean dtype as they only contain 2 unique values.\n",
      "\tStage 2 Generators:\n",
      "\t\tFitting FillNaFeatureGenerator...\n",
      "\tStage 3 Generators:\n",
      "\t\tFitting IdentityFeatureGenerator...\n",
      "\t\tFitting CategoryFeatureGenerator...\n",
      "\t\t\tFitting CategoryMemoryMinimizeFeatureGenerator...\n",
      "\tStage 4 Generators:\n",
      "\t\tFitting DropUniqueFeatureGenerator...\n",
      "\tStage 5 Generators:\n",
      "\t\tFitting DropDuplicatesFeatureGenerator...\n",
      "\tTypes of features in original data (raw dtype, special dtypes):\n",
      "\t\t('category', []) : 6 | ['gender', 'ever_married', 'graduated', 'profession', 'spending_score', ...]\n",
      "\t\t('float', [])    : 2 | ['work_experience', 'family_size']\n",
      "\t\t('int', [])      : 1 | ['age']\n",
      "\tTypes of features in processed data (raw dtype, special dtypes):\n",
      "\t\t('category', [])  : 5 | ['ever_married', 'graduated', 'profession', 'spending_score', 'var_1']\n",
      "\t\t('float', [])     : 2 | ['work_experience', 'family_size']\n",
      "\t\t('int', [])       : 1 | ['age']\n",
      "\t\t('int', ['bool']) : 1 | ['gender']\n",
      "\t0.0s = Fit runtime\n",
      "\t9 features in original data used to generate 9 features in processed data.\n",
      "\tTrain Data (Processed) Memory Usage: 0.2 MB (0.0% of available memory)\n",
      "Data preprocessing and feature engineering runtime = 0.06s ...\n",
      "AutoGluon will gauge predictive performance using evaluation metric: 'accuracy'\n",
      "\tTo change this, specify the eval_metric parameter of Predictor()\n",
      "Automatically generating train/validation split with holdout_frac=0.1, Train Rows: 5809, Val Rows: 646\n",
      "User-specified model hyperparameters to be fit:\n",
      "{\n",
      "\t'XGB': {},\n",
      "}\n",
      "Fitting 1 L1 models ...\n",
      "Fitting model: XGBoost ...\n",
      "\t0.5387\t = Validation score   (accuracy)\n",
      "\t0.52s\t = Training   runtime\n",
      "\t0.01s\t = Validation runtime\n",
      "Fitting model: WeightedEnsemble_L2 ...\n",
      "\t0.5387\t = Validation score   (accuracy)\n",
      "\t0.0s\t = Training   runtime\n",
      "\t0.0s\t = Validation runtime\n",
      "AutoGluon training complete, total runtime = 0.62s ... Best model: \"WeightedEnsemble_L2\"\n",
      "TabularPredictor saved. To load, use: predictor = TabularPredictor.load(\"AutogluonModels/ag-20230830_075349/\")\n"
     ]
    }
   ],
   "source": [
    "import numpy as np\n",
    "from sklearn.model_selection import StratifiedKFold\n",
    "\n",
    "skf = StratifiedKFold(n_splits=5, shuffle=True, random_state=42)\n",
    "\n",
    "accuracy_scores = []\n",
    "df_fold_result = pd.DataFrame()\n",
    "\n",
    "for fold_, (train_index, val_index) in enumerate(skf.split(x, y)):\n",
    "    x_train, x_val = x.iloc[train_index], x.iloc[val_index]\n",
    "    y_train, y_val = y.iloc[train_index], y.iloc[val_index]\n",
    "    \n",
    "\n",
    "    predictor = TabularPredictor(label='segmentation').fit(x_train, hyperparameters={'XGB':{}})\n",
    "    y_pred_val = predictor.predict(x_val.drop(columns=['segmentation']), model='XGBoost')\n",
    "    \n",
    "    # Calculate accuracy for this fold\n",
    "    accuracy = accuracy_score(y_val, y_pred_val)\n",
    "    \n",
    "    df_fold_result_tmp = pd.DataFrame({\n",
    "        'fold': [fold_ + 1],\n",
    "        'accuracy': [accuracy]\n",
    "    })\n",
    "    \n",
    "    df_fold_result = pd.concat([df_fold_result, df_fold_result_tmp])\n"
   ]
  },
  {
   "cell_type": "code",
   "execution_count": 43,
   "id": "1cd8b08f-966b-4a81-96e7-ff0af9882be4",
   "metadata": {},
   "outputs": [
    {
     "data": {
      "text/html": [
       "<div>\n",
       "<style scoped>\n",
       "    .dataframe tbody tr th:only-of-type {\n",
       "        vertical-align: middle;\n",
       "    }\n",
       "\n",
       "    .dataframe tbody tr th {\n",
       "        vertical-align: top;\n",
       "    }\n",
       "\n",
       "    .dataframe thead th {\n",
       "        text-align: right;\n",
       "    }\n",
       "</style>\n",
       "<table border=\"1\" class=\"dataframe\">\n",
       "  <thead>\n",
       "    <tr style=\"text-align: right;\">\n",
       "      <th></th>\n",
       "      <th>fold</th>\n",
       "      <th>accuracy</th>\n",
       "    </tr>\n",
       "  </thead>\n",
       "  <tbody>\n",
       "    <tr>\n",
       "      <th>0</th>\n",
       "      <td>1</td>\n",
       "      <td>0.529740</td>\n",
       "    </tr>\n",
       "    <tr>\n",
       "      <th>0</th>\n",
       "      <td>2</td>\n",
       "      <td>0.522924</td>\n",
       "    </tr>\n",
       "    <tr>\n",
       "      <th>0</th>\n",
       "      <td>3</td>\n",
       "      <td>0.543990</td>\n",
       "    </tr>\n",
       "    <tr>\n",
       "      <th>0</th>\n",
       "      <td>4</td>\n",
       "      <td>0.530068</td>\n",
       "    </tr>\n",
       "    <tr>\n",
       "      <th>0</th>\n",
       "      <td>5</td>\n",
       "      <td>0.522009</td>\n",
       "    </tr>\n",
       "  </tbody>\n",
       "</table>\n",
       "</div>"
      ],
      "text/plain": [
       "   fold  accuracy\n",
       "0     1  0.529740\n",
       "0     2  0.522924\n",
       "0     3  0.543990\n",
       "0     4  0.530068\n",
       "0     5  0.522009"
      ]
     },
     "execution_count": 43,
     "metadata": {},
     "output_type": "execute_result"
    },
    {
     "name": "stdout",
     "output_type": "stream",
     "text": [
      "Average Accuracy: 0.5297462300960827\n"
     ]
    }
   ],
   "source": [
    "df_fold_result\n",
    "print(f\"Average Accuracy: {df_fold_result['accuracy'].mean()}\")"
   ]
  },
  {
   "cell_type": "markdown",
   "id": "3921fac7-7f2c-46eb-ac3b-e689f0ec964a",
   "metadata": {},
   "source": [
    "## Predict"
   ]
  },
  {
   "cell_type": "markdown",
   "id": "e613941c-5c85-40f2-a6e0-abf3a9a1d6b9",
   "metadata": {},
   "source": [
    "### Fit model with full data"
   ]
  },
  {
   "cell_type": "code",
   "execution_count": 44,
   "id": "f2b86e7f-e331-47df-820f-610be514f54d",
   "metadata": {},
   "outputs": [],
   "source": [
    "df_train = pd.read_csv('customer_segmentation_train.csv')\n",
    "df_test = pd.read_csv('customer_segmentation_test.csv')"
   ]
  },
  {
   "cell_type": "code",
   "execution_count": 45,
   "id": "a5861540-55a2-4132-9dce-9ce777e70f34",
   "metadata": {},
   "outputs": [],
   "source": [
    "df_train_set = df_train.copy()\n",
    "df_test_set = df_test.copy()"
   ]
  },
  {
   "cell_type": "code",
   "execution_count": 46,
   "id": "bb938da5-5983-474c-a9f4-41f0cced09f5",
   "metadata": {},
   "outputs": [],
   "source": [
    "# Determine feature\n",
    "CAT_COLS = ['gender', 'ever_married', 'graduated', 'profession', 'spending_score', 'var_1']\n",
    "NUM_COLS = ['age', 'work_experience', 'family_size']\n",
    "\n",
    "cat_cols = [col for col in df_train_set.columns if col in CAT_COLS]\n",
    "num_cols = [col for col in df_train_set.columns if col in NUM_COLS]\n",
    "feature_cols = num_cols + cat_cols\n",
    "\n",
    "# Change category columns type\n",
    "for col in cat_cols:\n",
    "    df_train_set[col] = df_train_set[col].astype('category')\n",
    "    \n",
    "# Change category columns type\n",
    "for col in cat_cols:\n",
    "    df_test_set[col] = df_test_set[col].astype('category')\n",
    "\n",
    "# Split feature and target\n",
    "x_train = df_train_set[feature_cols + ['segmentation']]\n",
    "y_train = df_train_set['segmentation']\n",
    "\n",
    "# Split feature and target\n",
    "x_test = df_test_set[feature_cols]"
   ]
  },
  {
   "cell_type": "code",
   "execution_count": 48,
   "id": "c168fc74-cb0a-44a2-8299-70bc33e75e02",
   "metadata": {
    "scrolled": true,
    "tags": []
   },
   "outputs": [
    {
     "name": "stderr",
     "output_type": "stream",
     "text": [
      "No path specified. Models will be saved in: \"AutogluonModels/ag-20230830_075546/\"\n",
      "Beginning AutoGluon training ...\n",
      "AutoGluon will save models to \"AutogluonModels/ag-20230830_075546/\"\n",
      "AutoGluon Version:  0.8.2\n",
      "Python Version:     3.10.11\n",
      "Operating System:   Linux\n",
      "Platform Machine:   x86_64\n",
      "Platform Version:   #1 SMP Debian 5.10.191-1 (2023-08-16)\n",
      "Disk Space Avail:   100.43 GB / 105.09 GB (95.6%)\n",
      "Train Data Rows:    8068\n",
      "Train Data Columns: 9\n",
      "Label Column: segmentation\n",
      "Preprocessing data ...\n",
      "AutoGluon infers your prediction problem is: 'multiclass' (because dtype of label-column == object).\n",
      "\t4 unique label values:  ['D', 'A', 'B', 'C']\n",
      "\tIf 'multiclass' is not the correct problem_type, please manually specify the problem_type parameter during predictor init (You may specify problem_type as one of: ['binary', 'multiclass', 'regression'])\n",
      "Train Data Class Count: 4\n",
      "Using Feature Generators to preprocess the data ...\n",
      "Fitting AutoMLPipelineFeatureGenerator...\n",
      "\tAvailable Memory:                    64661.37 MB\n",
      "\tTrain Data (Original)  Memory Usage: 0.24 MB (0.0% of available memory)\n",
      "\tInferring data type of each feature based on column values. Set feature_metadata_in to manually specify special dtypes of the features.\n",
      "\tStage 1 Generators:\n",
      "\t\tFitting AsTypeFeatureGenerator...\n",
      "\t\t\tNote: Converting 1 features to boolean dtype as they only contain 2 unique values.\n",
      "\tStage 2 Generators:\n",
      "\t\tFitting FillNaFeatureGenerator...\n",
      "\tStage 3 Generators:\n",
      "\t\tFitting IdentityFeatureGenerator...\n",
      "\t\tFitting CategoryFeatureGenerator...\n",
      "\t\t\tFitting CategoryMemoryMinimizeFeatureGenerator...\n",
      "\tStage 4 Generators:\n",
      "\t\tFitting DropUniqueFeatureGenerator...\n",
      "\tStage 5 Generators:\n",
      "\t\tFitting DropDuplicatesFeatureGenerator...\n",
      "\tTypes of features in original data (raw dtype, special dtypes):\n",
      "\t\t('category', []) : 6 | ['gender', 'ever_married', 'graduated', 'profession', 'spending_score', ...]\n",
      "\t\t('float', [])    : 2 | ['work_experience', 'family_size']\n",
      "\t\t('int', [])      : 1 | ['age']\n",
      "\tTypes of features in processed data (raw dtype, special dtypes):\n",
      "\t\t('category', [])  : 5 | ['ever_married', 'graduated', 'profession', 'spending_score', 'var_1']\n",
      "\t\t('float', [])     : 2 | ['work_experience', 'family_size']\n",
      "\t\t('int', [])       : 1 | ['age']\n",
      "\t\t('int', ['bool']) : 1 | ['gender']\n",
      "\t0.0s = Fit runtime\n",
      "\t9 features in original data used to generate 9 features in processed data.\n",
      "\tTrain Data (Processed) Memory Usage: 0.24 MB (0.0% of available memory)\n",
      "Data preprocessing and feature engineering runtime = 0.05s ...\n",
      "AutoGluon will gauge predictive performance using evaluation metric: 'accuracy'\n",
      "\tTo change this, specify the eval_metric parameter of Predictor()\n",
      "Automatically generating train/validation split with holdout_frac=0.1, Train Rows: 7261, Val Rows: 807\n",
      "User-specified model hyperparameters to be fit:\n",
      "{\n",
      "\t'XGB': {},\n",
      "}\n",
      "Fitting 1 L1 models ...\n",
      "Fitting model: XGBoost ...\n",
      "\t0.5254\t = Validation score   (accuracy)\n",
      "\t0.95s\t = Training   runtime\n",
      "\t0.01s\t = Validation runtime\n",
      "Fitting model: WeightedEnsemble_L2 ...\n",
      "\t0.5254\t = Validation score   (accuracy)\n",
      "\t0.0s\t = Training   runtime\n",
      "\t0.0s\t = Validation runtime\n",
      "AutoGluon training complete, total runtime = 1.06s ... Best model: \"WeightedEnsemble_L2\"\n",
      "TabularPredictor saved. To load, use: predictor = TabularPredictor.load(\"AutogluonModels/ag-20230830_075546/\")\n"
     ]
    }
   ],
   "source": [
    "predictor = TabularPredictor(label='segmentation').fit(x_train, hyperparameters={'XGB':{}})"
   ]
  },
  {
   "cell_type": "code",
   "execution_count": 49,
   "id": "f3f7ad84-25d7-4faa-9651-4f5e825ce180",
   "metadata": {},
   "outputs": [
    {
     "name": "stdout",
     "output_type": "stream",
     "text": [
      "Train accuracy : 0.6933564700049578\n"
     ]
    }
   ],
   "source": [
    "y_pred_train = predictor.predict(x_train.drop(columns=['segmentation']), model='XGBoost')\n",
    "train_accuracy = accuracy_score(y_train, y_pred_train)\n",
    "print(f\"Train accuracy : {train_accuracy}\")"
   ]
  },
  {
   "cell_type": "markdown",
   "id": "d69d8fe4-85c7-42ac-876c-c0ad1093328e",
   "metadata": {},
   "source": [
    "### Predict test set"
   ]
  },
  {
   "cell_type": "code",
   "execution_count": 52,
   "id": "cc94bc19-dd57-4b00-9fe6-7bdd30ac37e8",
   "metadata": {},
   "outputs": [],
   "source": [
    "y_pred_test = predictor.predict(x_test, model='XGBoost')"
   ]
  },
  {
   "cell_type": "code",
   "execution_count": 53,
   "id": "e04e3319-5c0f-487d-96f3-f88439a283fe",
   "metadata": {},
   "outputs": [
    {
     "data": {
      "text/plain": [
       "(2627,)"
      ]
     },
     "execution_count": 53,
     "metadata": {},
     "output_type": "execute_result"
    }
   ],
   "source": [
    "y_pred_test.shape"
   ]
  },
  {
   "cell_type": "code",
   "execution_count": 54,
   "id": "7f1633b8-2860-4578-96d7-333cc0f7a24d",
   "metadata": {},
   "outputs": [
    {
     "data": {
      "text/plain": [
       "0       B\n",
       "1       C\n",
       "2       A\n",
       "3       C\n",
       "4       D\n",
       "       ..\n",
       "2622    D\n",
       "2623    A\n",
       "2624    A\n",
       "2625    B\n",
       "2626    D\n",
       "Name: segmentation, Length: 2627, dtype: object"
      ]
     },
     "execution_count": 54,
     "metadata": {},
     "output_type": "execute_result"
    }
   ],
   "source": [
    "y_pred_test"
   ]
  },
  {
   "cell_type": "code",
   "execution_count": 55,
   "id": "17223e31-5a00-4263-ab67-2cc052405af8",
   "metadata": {},
   "outputs": [],
   "source": [
    "df_submission = df_test_set.copy()\n",
    "df_submission['segmentation'] = pd.Series(y_pred_test)\n",
    "df_submission = df_submission[['id', 'segmentation']]"
   ]
  },
  {
   "cell_type": "code",
   "execution_count": 56,
   "id": "436aa0c5-5548-413e-b3a2-2e51df88e0bb",
   "metadata": {},
   "outputs": [
    {
     "data": {
      "text/html": [
       "<div>\n",
       "<style scoped>\n",
       "    .dataframe tbody tr th:only-of-type {\n",
       "        vertical-align: middle;\n",
       "    }\n",
       "\n",
       "    .dataframe tbody tr th {\n",
       "        vertical-align: top;\n",
       "    }\n",
       "\n",
       "    .dataframe thead th {\n",
       "        text-align: right;\n",
       "    }\n",
       "</style>\n",
       "<table border=\"1\" class=\"dataframe\">\n",
       "  <thead>\n",
       "    <tr style=\"text-align: right;\">\n",
       "      <th></th>\n",
       "      <th>id</th>\n",
       "      <th>segmentation</th>\n",
       "    </tr>\n",
       "  </thead>\n",
       "  <tbody>\n",
       "    <tr>\n",
       "      <th>0</th>\n",
       "      <td>458989</td>\n",
       "      <td>B</td>\n",
       "    </tr>\n",
       "    <tr>\n",
       "      <th>1</th>\n",
       "      <td>458994</td>\n",
       "      <td>C</td>\n",
       "    </tr>\n",
       "    <tr>\n",
       "      <th>2</th>\n",
       "      <td>458996</td>\n",
       "      <td>A</td>\n",
       "    </tr>\n",
       "    <tr>\n",
       "      <th>3</th>\n",
       "      <td>459000</td>\n",
       "      <td>C</td>\n",
       "    </tr>\n",
       "    <tr>\n",
       "      <th>4</th>\n",
       "      <td>459001</td>\n",
       "      <td>D</td>\n",
       "    </tr>\n",
       "    <tr>\n",
       "      <th>...</th>\n",
       "      <td>...</td>\n",
       "      <td>...</td>\n",
       "    </tr>\n",
       "    <tr>\n",
       "      <th>2622</th>\n",
       "      <td>467954</td>\n",
       "      <td>D</td>\n",
       "    </tr>\n",
       "    <tr>\n",
       "      <th>2623</th>\n",
       "      <td>467958</td>\n",
       "      <td>A</td>\n",
       "    </tr>\n",
       "    <tr>\n",
       "      <th>2624</th>\n",
       "      <td>467960</td>\n",
       "      <td>A</td>\n",
       "    </tr>\n",
       "    <tr>\n",
       "      <th>2625</th>\n",
       "      <td>467961</td>\n",
       "      <td>B</td>\n",
       "    </tr>\n",
       "    <tr>\n",
       "      <th>2626</th>\n",
       "      <td>467968</td>\n",
       "      <td>D</td>\n",
       "    </tr>\n",
       "  </tbody>\n",
       "</table>\n",
       "<p>2627 rows × 2 columns</p>\n",
       "</div>"
      ],
      "text/plain": [
       "          id segmentation\n",
       "0     458989            B\n",
       "1     458994            C\n",
       "2     458996            A\n",
       "3     459000            C\n",
       "4     459001            D\n",
       "...      ...          ...\n",
       "2622  467954            D\n",
       "2623  467958            A\n",
       "2624  467960            A\n",
       "2625  467961            B\n",
       "2626  467968            D\n",
       "\n",
       "[2627 rows x 2 columns]"
      ]
     },
     "execution_count": 56,
     "metadata": {},
     "output_type": "execute_result"
    }
   ],
   "source": [
    "df_submission"
   ]
  },
  {
   "cell_type": "code",
   "execution_count": 57,
   "id": "87c831ed-eaaa-4cea-88f6-1e249472160c",
   "metadata": {},
   "outputs": [],
   "source": [
    "df_submission.to_csv('submission.csv', index=False)"
   ]
  },
  {
   "cell_type": "code",
   "execution_count": null,
   "id": "10c7842d-0a3c-4ce3-9f9c-43b76251445c",
   "metadata": {},
   "outputs": [],
   "source": []
  }
 ],
 "metadata": {
  "environment": {
   "kernel": "python3",
   "name": "common-cpu.m109",
   "type": "gcloud",
   "uri": "gcr.io/deeplearning-platform-release/base-cpu:m109"
  },
  "kernelspec": {
   "display_name": "Python 3",
   "language": "python",
   "name": "python3"
  },
  "language_info": {
   "codemirror_mode": {
    "name": "ipython",
    "version": 3
   },
   "file_extension": ".py",
   "mimetype": "text/x-python",
   "name": "python",
   "nbconvert_exporter": "python",
   "pygments_lexer": "ipython3",
   "version": "3.10.11"
  }
 },
 "nbformat": 4,
 "nbformat_minor": 5
}
